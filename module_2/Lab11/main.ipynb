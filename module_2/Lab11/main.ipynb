{
 "cells": [
  {
   "cell_type": "markdown",
   "metadata": {},
   "source": [
    "# Introduction To Probability\n",
    "## Challenge 1\n",
    "\n",
    "A and B are events of a probability space with $(\\omega, \\sigma, P)$ such that $P(A) = 0.3$, $P(B) = 0.6$ and $P(A \\cap B) = 0.1$\n",
    "\n",
    "Which of the following statements are false?\n",
    "* $P(A \\cup B) = 0.6$\n",
    "* $P(A \\cap B^{C}) = 0.2$\n",
    "* $P(A \\cap (B \\cup B^{C})) = 0.4$\n",
    "* $P(A^{C} \\cap B^{C}) = 0.3$\n",
    "* $P((A \\cap B)^{C}) = 0.9$"
   ]
  },
  {
   "cell_type": "code",
   "execution_count": null,
   "metadata": {},
   "outputs": [],
   "source": [
    "\"\"\"\n",
    "Answer can be found in the Markdown cell below\n",
    "\"\"\""
   ]
  },
  {
   "cell_type": "markdown",
   "metadata": {},
   "source": [
    "* **Statement 1**: $P(A \\cup B) = 0.6$\n",
    "  \n",
    "$P(A\\cup B)=P(A)+P(B)-P(A\\cap B)$\n",
    "\n",
    "Thus\n",
    "\n",
    "$P(A\\cup B)$ \n",
    "= 0.3 + 0.6 - 0.1 = 0.8\n",
    "\n",
    "The first statement is false\n",
    "\n",
    "* **Statement 2**: $P(A \\cap B^{C}) = 0.2$\n",
    "  \n",
    "  $P(A\\cap \\bar{B})=P(A)-P(A\\cap B)$\n",
    "\n",
    "  Thus\n",
    "\n",
    "$P(A\\cap \\bar{B})$ = 0.3 - 0.1 = 0.2 \n",
    "\n",
    "The second statement is true\n",
    "\n",
    "* **Statement 3**: $P(A \\cap (B \\cup B^{C})) = 0.4$\n",
    "\n",
    "$(B \\cup B^{C})$ is equal to 1\n",
    "\n",
    "Thus the whole statement is equal to P(A) which is equal to 0.3 \n",
    "\n",
    "The third statement is false\n",
    "\n",
    "* **Statement 4**: $P(A^{C} \\cap B^{C}) = 0.3$\n",
    "\n",
    "$P(\\bar{A}\\cap \\bar{B}) = 1 - P(A \\cup B)$\n",
    "\n",
    "Thus $P(\\bar{A}\\cap \\bar{B})$ = 1 - 0.8 = 0.2\n",
    "\n",
    "Statement 4 is False \n",
    "\n",
    "* **Statement5**:  $P((A \\cap B)^{C}) = 0.9$\n",
    "  \n",
    "P(A and B) = 0.1 Thus $P((A \\cap B)^{C})$ = 1 - P(A and B) = 1 - 0.1 = 0.9 \n",
    "\n",
    "Statement 5 is True \n",
    "\n"
   ]
  },
  {
   "cell_type": "markdown",
   "metadata": {},
   "source": [
    "## Challenge 2\n",
    "There is a box with 10 white balls, 12 red balls and 8 black balls. Calculate the probability of:\n",
    "* Taking a white ball out.\n",
    "* Taking a white ball out after taking a black ball out.\n",
    "* Taking a red ball out after taking a black and a red ball out.\n",
    "* Taking a red ball out after taking a black and a red ball out with reposition.\n",
    "\n",
    "**Hint**: Reposition means putting back the ball into the box after taking it out."
   ]
  },
  {
   "cell_type": "code",
   "execution_count": null,
   "metadata": {},
   "outputs": [],
   "source": [
    "\"\"\"\n",
    "The results are presented below\n",
    "\"\"\""
   ]
  },
  {
   "cell_type": "markdown",
   "metadata": {},
   "source": [
    "### 1. Taking a white ball out\n",
    "\n",
    "I need to create sampel space and then probability:\n",
    "\n",
    "Sample space = 10 + 12 + 8 = 30\n",
    "\n",
    "P(w)= 10/30 * 100% = 1/3 * 100% = 33.3%"
   ]
  },
  {
   "cell_type": "markdown",
   "metadata": {},
   "source": [
    "### 2. Taking a white ball out after taking a black ball out."
   ]
  },
  {
   "cell_type": "markdown",
   "metadata": {},
   "source": [
    "Probability of taking balck ball first: \n",
    "\n",
    "P(b)= 8/30\n",
    "\n",
    "and after we want to take white ball, so probablity of that event is:\n",
    "\n",
    "P(w)= 10/29\n",
    "\n",
    "Thus I need to multiply these two probabilities: \n",
    "\n",
    "P(w|b)= 8/30 * 10/29 = "
   ]
  },
  {
   "cell_type": "code",
   "execution_count": 1,
   "metadata": {},
   "outputs": [
    {
     "data": {
      "text/plain": [
       "0.09195402298850575"
      ]
     },
     "execution_count": 1,
     "metadata": {},
     "output_type": "execute_result"
    }
   ],
   "source": [
    "8/30 * 10/29"
   ]
  },
  {
   "cell_type": "markdown",
   "metadata": {},
   "source": [
    "### 3. Taking a red ball out after taking a black and a red ball out.\n",
    "\n",
    "Probability of taking red ball out first: \n",
    "\n",
    "P(r) = 12/30\n",
    "\n",
    "After that probability of taking a black ball: \n",
    "\n",
    "P(b2) = 8/29\n",
    "\n",
    "And finally probaility of taking next red ball: \n",
    "\n",
    "P(r3) = 11/28 (because one red ball is already out and 2 balls were taken)\n",
    "\n",
    "The total probability will be obtained by multiplication by these 3 probabilities (result in a cell below)"
   ]
  },
  {
   "cell_type": "code",
   "execution_count": 1,
   "metadata": {},
   "outputs": [
    {
     "data": {
      "text/plain": [
       "0.043349753694581286"
      ]
     },
     "execution_count": 1,
     "metadata": {},
     "output_type": "execute_result"
    }
   ],
   "source": [
    "12/30 * 8/29 * 11/28"
   ]
  },
  {
   "cell_type": "markdown",
   "metadata": {},
   "source": [
    "The probability of taking a red ball after taking balck and red is around 4%"
   ]
  },
  {
   "cell_type": "markdown",
   "metadata": {},
   "source": [
    "### 4. Taking a red ball out after taking a black and a red ball out with reposition."
   ]
  },
  {
   "cell_type": "markdown",
   "metadata": {},
   "source": [
    "Probability of taking red ball out first: \n",
    "\n",
    "P(r) = 12/30\n",
    "\n",
    "After that probability of taking a black ball: \n",
    "\n",
    "P(b2) = 8/30\n",
    "\n",
    "And finally probaility of taking next red ball: \n",
    "\n",
    "P(r3) = 12/30 (because one red ball is already out and 2 balls were taken)\n",
    "\n",
    "The total probability will be obtained by multiplication by these 3 probabilities (result in a cell below)"
   ]
  },
  {
   "cell_type": "code",
   "execution_count": 3,
   "metadata": {},
   "outputs": [
    {
     "data": {
      "text/plain": [
       "0.042666666666666665"
      ]
     },
     "execution_count": 3,
     "metadata": {},
     "output_type": "execute_result"
    }
   ],
   "source": [
    "12/30 * 8/30 * 12/30"
   ]
  },
  {
   "cell_type": "markdown",
   "metadata": {},
   "source": [
    "This probability is also around 4%"
   ]
  },
  {
   "cell_type": "markdown",
   "metadata": {},
   "source": [
    "## Challenge 3\n",
    "\n",
    "You are planning to go on a picnic today but the morning is cloudy. You hate rain so you don't know whether to go out or stay home! To help you make a decision, you gather the following data about rainy days:\n",
    "\n",
    "* 50% of all rainy days start off cloudy!\n",
    "* Cloudy mornings are common. About 40% of days start cloudy. \n",
    "* This month is usually dry so only 3 of 30 days (10%) tend to be rainy. \n",
    "\n",
    "What is the chance of rain during the day?"
   ]
  },
  {
   "cell_type": "code",
   "execution_count": null,
   "metadata": {},
   "outputs": [],
   "source": [
    "\"\"\"\n",
    "I can use Bayes probability as I know that: \n",
    "P(R) = 0.1 - probability of the rain\n",
    "P(C) = 0.4 - probability of cloudy day \n",
    "P(C|R) = 0.5 - probability of cloudy day if rain \n",
    "\n",
    "and I want to calculate P(R|C) so the probabilty of rain if the day started cloudly. Following the formula below I can calculate the probability of that:\n",
    "\"\"\""
   ]
  },
  {
   "cell_type": "markdown",
   "metadata": {},
   "source": [
    "$P(R|C)=\\frac{P(R)\\ast P(C|R)}{P(C)}$"
   ]
  },
  {
   "cell_type": "code",
   "execution_count": 5,
   "metadata": {},
   "outputs": [
    {
     "data": {
      "text/plain": [
       "0.125"
      ]
     },
     "execution_count": 5,
     "metadata": {},
     "output_type": "execute_result"
    }
   ],
   "source": [
    "0.1 * 0.5/ 0.4\n"
   ]
  },
  {
   "cell_type": "markdown",
   "metadata": {},
   "source": [
    "The probability of rain during the day is equal to 12.5%"
   ]
  },
  {
   "cell_type": "markdown",
   "metadata": {},
   "source": [
    "## Challenge 4\n",
    "\n",
    "One thousand people were asked through a telephone survey whether they thought more street lighting is needed at night or not.\n",
    "\n",
    "Out of the 480 men that answered the survey, 324 said yes and 156 said no. On the other hand, out of the 520 women that answered, 351 said yes and 169 said no. \n",
    "\n",
    "We wonder if men and women have a different opinions about the street lighting matter. Is gender relevant or irrelevant to the question?\n",
    "\n",
    "Consider the following events:\n",
    "- The answer is yes, so the person that answered thinks that more street lighting is needed.\n",
    "- The person who answered is a man.\n",
    "\n",
    "We want to know if these events are independent, that is, if the fact of wanting more light depends on whether one is male or female. Are these events independent or not?\n",
    "\n",
    "**Hint**: To clearly compare the answers by gender, it is best to place the data in a table."
   ]
  },
  {
   "cell_type": "code",
   "execution_count": 37,
   "metadata": {},
   "outputs": [
    {
     "data": {
      "text/html": [
       "<div>\n",
       "<style scoped>\n",
       "    .dataframe tbody tr th:only-of-type {\n",
       "        vertical-align: middle;\n",
       "    }\n",
       "\n",
       "    .dataframe tbody tr th {\n",
       "        vertical-align: top;\n",
       "    }\n",
       "\n",
       "    .dataframe thead th {\n",
       "        text-align: right;\n",
       "    }\n",
       "</style>\n",
       "<table border=\"1\" class=\"dataframe\">\n",
       "  <thead>\n",
       "    <tr style=\"text-align: right;\">\n",
       "      <th></th>\n",
       "      <th>men</th>\n",
       "      <th>women</th>\n",
       "      <th>Total</th>\n",
       "    </tr>\n",
       "  </thead>\n",
       "  <tbody>\n",
       "    <tr>\n",
       "      <th>0</th>\n",
       "      <td>324</td>\n",
       "      <td>351</td>\n",
       "      <td>675</td>\n",
       "    </tr>\n",
       "    <tr>\n",
       "      <th>1</th>\n",
       "      <td>156</td>\n",
       "      <td>169</td>\n",
       "      <td>325</td>\n",
       "    </tr>\n",
       "  </tbody>\n",
       "</table>\n",
       "</div>"
      ],
      "text/plain": [
       "   men  women  Total\n",
       "0  324    351    675\n",
       "1  156    169    325"
      ]
     },
     "execution_count": 37,
     "metadata": {},
     "output_type": "execute_result"
    }
   ],
   "source": [
    "# your code here\n",
    "import pandas as pd\n",
    "data = {'men': [324,156], 'women': [351,169]}\n",
    "survey = pd.DataFrame(data)\n",
    "survey['Total']=survey['men']+survey['women']\n",
    "survey\n"
   ]
  },
  {
   "cell_type": "code",
   "execution_count": null,
   "metadata": {},
   "outputs": [],
   "source": [
    "\"\"\"\n",
    "Probability of saying yes \n",
    "P(Y)=675/1000=0.675\n",
    "\n",
    "Probability of saying no:\n",
    "P(N)=325/1000=0.325\n",
    "\n",
    "Probability of being a men:\n",
    "P(M)=480/100=0.48\n",
    "\n",
    "Probability of being a women:\n",
    "P(W)=520/1000=0.52\n",
    "\n",
    "Probaiblity of being a men and saying yes \n",
    "P(M and Y)=324/1000=0.324\n",
    "\n",
    "I want to find probaility of saying yes if you are a men:\n",
    "P(Y|M)=P(Y and M)/ P(M)\n",
    "\n",
    "This is calculated in the cell below:\n",
    "\"\"\""
   ]
  },
  {
   "cell_type": "code",
   "execution_count": 39,
   "metadata": {},
   "outputs": [
    {
     "data": {
      "text/plain": [
       "0.675"
      ]
     },
     "execution_count": 39,
     "metadata": {},
     "output_type": "execute_result"
    }
   ],
   "source": [
    "0.324/0.48"
   ]
  },
  {
   "cell_type": "code",
   "execution_count": null,
   "metadata": {},
   "outputs": [],
   "source": [
    "'''\n",
    "Answer: Probability of saying yes if being a men is equal to 67.5%\n",
    "'''"
   ]
  },
  {
   "cell_type": "markdown",
   "metadata": {},
   "source": [
    "I want to check now if it is the same for women, thus: \n",
    "\n",
    "P(Y|W)= P(W and Y)/ P(W)\n",
    "\n",
    "P(W and Y)= 351/1000=0.351\n",
    "\n",
    "P(Y|W)= 0.351/0.52 = 0.675"
   ]
  },
  {
   "cell_type": "code",
   "execution_count": 40,
   "metadata": {},
   "outputs": [
    {
     "data": {
      "text/plain": [
       "0.6749999999999999"
      ]
     },
     "execution_count": 40,
     "metadata": {},
     "output_type": "execute_result"
    }
   ],
   "source": [
    "0.351/0.52"
   ]
  },
  {
   "cell_type": "code",
   "execution_count": null,
   "metadata": {},
   "outputs": [],
   "source": [
    "'''\n",
    "Final conclusion: The probability of saying yes is equal to 67.5% and it is independent form being a women or being a men.\n",
    "'''"
   ]
  }
 ],
 "metadata": {
  "kernelspec": {
   "display_name": "Python 3",
   "language": "python",
   "name": "python3"
  },
  "language_info": {
   "codemirror_mode": {
    "name": "ipython",
    "version": 3
   },
   "file_extension": ".py",
   "mimetype": "text/x-python",
   "name": "python",
   "nbconvert_exporter": "python",
   "pygments_lexer": "ipython3",
   "version": "3.8.12"
  }
 },
 "nbformat": 4,
 "nbformat_minor": 2
}
