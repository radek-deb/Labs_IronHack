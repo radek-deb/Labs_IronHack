{
 "cells": [
  {
   "cell_type": "markdown",
   "id": "1af5a8ec",
   "metadata": {},
   "source": [
    "### KATA 1"
   ]
  },
  {
   "cell_type": "markdown",
   "id": "08e2aece",
   "metadata": {},
   "source": [
    "Consider an array/list of sheep where some sheep may be missing from their place. We need a function that counts the number of sheep present in the array (true means present).\n",
    "\n",
    "For example,\n",
    "[true,  true,  true,  false,\n",
    "  true,  true,  true,  true ,\n",
    "  true,  false, true,  false,\n",
    "  true,  false, false, true ,\n",
    "  true,  true,  true,  true ,\n",
    "  false, false, true,  true]\n",
    "The correct answer would be 17."
   ]
  },
  {
   "cell_type": "code",
   "execution_count": 51,
   "id": "48601e9d",
   "metadata": {},
   "outputs": [],
   "source": [
    "def count_sheeps(lst):\n",
    "    count = 0\n",
    "    sheep = 0\n",
    "    for index in range(len(lst)):\n",
    "        if lst[index] == 'true':\n",
    "            count += 1\n",
    "            sheep += 1\n",
    "        else:\n",
    "            count +=1\n",
    "    miss = count - sheep\n",
    "    return f\"There are {sheep} in an array and {miss} are missing\""
   ]
  },
  {
   "cell_type": "code",
   "execution_count": 52,
   "id": "dc859e95",
   "metadata": {},
   "outputs": [
    {
     "data": {
      "text/plain": [
       "'There are 17 in an array and 7 are missing'"
      ]
     },
     "execution_count": 52,
     "metadata": {},
     "output_type": "execute_result"
    }
   ],
   "source": [
    "sheeps = ['true', 'true', 'true', 'false', 'true', 'true', 'true', 'true', 'true', 'false', 'true', 'false', 'true', 'false', 'false', 'true', 'true', 'true', 'true', 'true' , 'false', 'false', 'true', 'true']\n",
    "count_sheeps(sheeps)"
   ]
  },
  {
   "cell_type": "markdown",
   "id": "8335c37b",
   "metadata": {},
   "source": [
    "### KATA 2"
   ]
  },
  {
   "cell_type": "markdown",
   "id": "546a8f2d",
   "metadata": {},
   "source": [
    "Take an array and remove every second element from the array. Always keep the first element and start removing with the next element.\n",
    "\n",
    "Example:\n",
    "[\"Keep\", \"Remove\", \"Keep\", \"Remove\", \"Keep\", ...] --> [\"Keep\", \"Keep\", \"Keep\", ...]"
   ]
  },
  {
   "cell_type": "code",
   "execution_count": 53,
   "id": "94e8b452",
   "metadata": {},
   "outputs": [],
   "source": [
    "def remove_func(array):\n",
    "    new_array = []\n",
    "    for index in range(len(array)):\n",
    "        if index%2 == 0:\n",
    "            new_array.append(array[index])\n",
    "    return new_array"
   ]
  },
  {
   "cell_type": "code",
   "execution_count": 54,
   "id": "6a762d15",
   "metadata": {},
   "outputs": [
    {
     "data": {
      "text/plain": [
       "[1, 2, 1, 1, 1, 1, 1, 1, 1, 1]"
      ]
     },
     "execution_count": 54,
     "metadata": {},
     "output_type": "execute_result"
    }
   ],
   "source": [
    "array1 = [1,0,2,3,1,0,1,0,1,0,1,0,1,0,1,0,1,0,1,0]\n",
    "remove_func(array1)"
   ]
  },
  {
   "cell_type": "markdown",
   "id": "67bf8430",
   "metadata": {},
   "source": [
    "### KATA 3"
   ]
  },
  {
   "cell_type": "markdown",
   "id": "fffaf359",
   "metadata": {},
   "source": [
    "#### Convert number to reversed array of digits\n",
    "Given a random non-negative number, you have to return the digits of this number within an array in reverse order."
   ]
  },
  {
   "cell_type": "code",
   "execution_count": 61,
   "id": "cd1d3137",
   "metadata": {},
   "outputs": [],
   "source": [
    "def numbers_to_array(number):\n",
    "    num_str = str(number)[::-1]\n",
    "    array = []\n",
    "    for char in num_str:\n",
    "        array.append(int(char))\n",
    "    return array\n",
    "    "
   ]
  },
  {
   "cell_type": "code",
   "execution_count": 62,
   "id": "c2915e8d",
   "metadata": {},
   "outputs": [
    {
     "data": {
      "text/plain": [
       "[1, 0, 1, 9, 8, 7, 6, 5, 4, 3, 2]"
      ]
     },
     "execution_count": 62,
     "metadata": {},
     "output_type": "execute_result"
    }
   ],
   "source": [
    "num2 = 23456789101\n",
    "numbers_to_array(num2)"
   ]
  },
  {
   "cell_type": "markdown",
   "id": "83f4e3fb",
   "metadata": {},
   "source": [
    "### KATA 4"
   ]
  },
  {
   "cell_type": "markdown",
   "id": "a51f1e26",
   "metadata": {},
   "source": [
    "#### Square Every Digit\n",
    "Welcome. In this kata, you are asked to square every digit of a number and concatenate them.\n",
    "\n",
    "For example, if we run 9119 through the function, 811181 will come out, because 92 is 81 and 12 is 1.\n",
    "\n",
    "Note: The function accepts an integer and returns an integer"
   ]
  },
  {
   "cell_type": "code",
   "execution_count": 68,
   "id": "63acf815",
   "metadata": {},
   "outputs": [],
   "source": [
    "def squ_dig(num):\n",
    "    num_str = str(num)\n",
    "    result = '' \n",
    "    for char in num_str:\n",
    "        a = (int(char))**2\n",
    "        result += str(a)\n",
    "    return int(result)"
   ]
  },
  {
   "cell_type": "code",
   "execution_count": 69,
   "id": "858375bb",
   "metadata": {},
   "outputs": [
    {
     "data": {
      "text/plain": [
       "114411"
      ]
     },
     "execution_count": 69,
     "metadata": {},
     "output_type": "execute_result"
    }
   ],
   "source": [
    "squ_dig(112211)"
   ]
  },
  {
   "cell_type": "code",
   "execution_count": 70,
   "id": "cd916817",
   "metadata": {},
   "outputs": [
    {
     "data": {
      "text/plain": [
       "811181"
      ]
     },
     "execution_count": 70,
     "metadata": {},
     "output_type": "execute_result"
    }
   ],
   "source": [
    "squ_dig(9119)"
   ]
  },
  {
   "cell_type": "markdown",
   "id": "a52dbf1d",
   "metadata": {},
   "source": [
    "### KATA 5"
   ]
  },
  {
   "cell_type": "markdown",
   "id": "cb6fa559",
   "metadata": {},
   "source": [
    "#### Method For Counting Total Occurence Of Specific Digits\n",
    "We need a method in the List Class that may count specific digits from a given list of integers. This marked digits will be given in a second list. The method .count_spec_digits()/.countSpecDigits() will accept two arguments, a list of an uncertain amount of integers integers_lists/integersLists (and of an uncertain amount of digits, too) and a second list, digits_list/digitsList that has the specific digits to count which length cannot be be longer than 10 (It's obvious, we've got ten digits). The method will output a list of tuples, each tuple having two elements, the first one will be a digit to count, and second one, its corresponding total frequency in all the integers of the first list. This list of tuples should be ordered with the same order that the digits have in digitsList"
   ]
  },
  {
   "cell_type": "markdown",
   "id": "20dc0804",
   "metadata": {},
   "source": [
    "integersList =  [1, 1, 2 ,3 ,1 ,2 ,3 ,4]\n",
    "digitsList = [1, 3]\n",
    "l.count_spec_digits(integersList, digitsList) == [(1, 3), (3, 2)]"
   ]
  },
  {
   "cell_type": "code",
   "execution_count": 101,
   "id": "e43711a1",
   "metadata": {},
   "outputs": [],
   "source": [
    "def count_spec_digits(integers,digits):\n",
    "    #First, I create empty list from which at the end I will form a tuple pairs, and a list to store these tuples\n",
    "    digit_counted = []\n",
    "    results = []\n",
    "    \n",
    "    #Secondly, I convert integers list into a string\n",
    "    integers_str =''.join([str(item) for item in integers])\n",
    "    \n",
    "    #Third, for every digit in digits I count how many times this digit apears in the string formed from integers list\n",
    "    #and I add it to the digit counted list \n",
    "    for dig in digits:\n",
    "        digit_counted.append(integers_str.count(str(dig)))\n",
    "    \n",
    "    #In the last step I form a list of tuple pairs called results\n",
    "    for ind in range(len(digits)):\n",
    "        results.append((digits[ind],digit_counted[ind]))\n",
    "    return results"
   ]
  },
  {
   "cell_type": "code",
   "execution_count": 102,
   "id": "2e13fa42",
   "metadata": {},
   "outputs": [
    {
     "data": {
      "text/plain": [
       "[(1, 3), (3, 2)]"
      ]
     },
     "execution_count": 102,
     "metadata": {},
     "output_type": "execute_result"
    }
   ],
   "source": [
    "count_spec_digits( [1, 1, 2 ,3 ,1 ,2 ,3 ,4] , [1, 3])"
   ]
  },
  {
   "cell_type": "code",
   "execution_count": 103,
   "id": "5561711d",
   "metadata": {},
   "outputs": [
    {
     "data": {
      "text/plain": [
       "[(1, 7), (8, 5), (4, 0)]"
      ]
     },
     "execution_count": 103,
     "metadata": {},
     "output_type": "execute_result"
    }
   ],
   "source": [
    "integs = [-18, -31, 81, -19, 111, -888]\n",
    "digits = [1, 8, 4]\n",
    "\n",
    "count_spec_digits(integs,digits)"
   ]
  },
  {
   "cell_type": "code",
   "execution_count": 104,
   "id": "5df400d8",
   "metadata": {},
   "outputs": [
    {
     "data": {
      "text/plain": [
       "[(1, 0), (8, 0), (4, 0)]"
      ]
     },
     "execution_count": 104,
     "metadata": {},
     "output_type": "execute_result"
    }
   ],
   "source": [
    "integs = [-77, -65, 56, -79, 6666, 222]\n",
    "digits = [1, 8, 4]\n",
    "\n",
    "count_spec_digits(integs,digits)"
   ]
  }
 ],
 "metadata": {
  "kernelspec": {
   "display_name": "Python 3",
   "language": "python",
   "name": "python3"
  },
  "language_info": {
   "codemirror_mode": {
    "name": "ipython",
    "version": 3
   },
   "file_extension": ".py",
   "mimetype": "text/x-python",
   "name": "python",
   "nbconvert_exporter": "python",
   "pygments_lexer": "ipython3",
   "version": "3.8.8"
  }
 },
 "nbformat": 4,
 "nbformat_minor": 5
}
