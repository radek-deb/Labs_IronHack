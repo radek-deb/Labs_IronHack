{
 "cells": [
  {
   "cell_type": "code",
   "execution_count": 2,
   "metadata": {},
   "outputs": [
    {
     "name": "stdout",
     "output_type": "stream",
     "text": [
      "['qdwl9re', 'cgw427', '4wh6xz']\n"
     ]
    }
   ],
   "source": [
    "exec(open(\"challenge-1.py\").read())"
   ]
  },
  {
   "cell_type": "code",
   "execution_count": 4,
   "metadata": {},
   "outputs": [
    {
     "name": "stdout",
     "output_type": "stream",
     "text": [
      "Welcome to this calculator!\n",
      "It can add and subtract whole numbers from zero to five\n",
      "I am not able to answer this question. Check your input.\n",
      "Thanks for using this calculator, goodbye :)\n"
     ]
    }
   ],
   "source": [
    "print('Welcome to this calculator!')\n",
    "print('It can add and subtract whole numbers from zero to five')\n",
    "a = input('Please choose your first number (zero to five): ')\n",
    "b = input('What do you want to do? plus or minus: ')\n",
    "c = input('Please choose your second number (zero to five): ')\n",
    "\n",
    "#First I convert input into the number, In order to do that I create two dictionarries:\n",
    "numbers = {'zero': 0, 'one': 1, 'two': 2, 'three': 3, 'four': 4, 'five': 5}\n",
    "result = {0: 'zero', 1: 'one', 2: 'two', 3: 'three', 4:'four', 5:'five', 6:'six',7:'seven', 8:'eight', 9:'nine', 10:'ten', -1:'negative one', -2:'negative two', -3: 'negative 3', -4:'negative four', -5:'negative five'}\n",
    "\n",
    "#Then, I check if the input was correct: \n",
    "if (a not in ['zero', 'one', 'two', 'three', 'four', 'five']) or (b not in ['zero', 'one', 'two', 'three', 'four', 'five']) or (c not in ['plus', 'minus']):\n",
    "\tprint(\"I am not able to answer this question. Check your input.\")\n",
    "\n",
    "#If input is correct I can do calculations on numbers by refering to the appropriate keys in the dictionary\n",
    "# And I can print the result\t\n",
    "if b == 'plus':\n",
    "    num = numbers[a] + numbers[c]\n",
    "    print(f'{a} plus {b} equals {result[num]}')\n",
    "elif b =='minus':\n",
    "    num = numbers[a] - numbers[c]\n",
    "    print(f'{a} minus {b} equals {result[num]}')\n",
    "\n",
    "#Finally I can thank the user for using the calculator \n",
    "print(\"Thanks for using this calculator, goodbye :)\")"
   ]
  },
  {
   "cell_type": "code",
   "execution_count": 16,
   "metadata": {},
   "outputs": [
    {
     "name": "stdout",
     "output_type": "stream",
     "text": [
      "['mua', 'iqc']\n"
     ]
    }
   ],
   "source": [
    "exec(open(\"challenge-2.py\").read())"
   ]
  },
  {
   "cell_type": "code",
   "execution_count": 18,
   "metadata": {},
   "outputs": [
    {
     "name": "stdout",
     "output_type": "stream",
     "text": [
      "Incorrect input.\n"
     ]
    }
   ],
   "source": [
    "\n",
    "\n",
    "import random\n",
    "import sys\n",
    "\n",
    "#In the next step I define functions\n",
    "#I guess that a list of characters from which elements fo the string will be randomly choosen doesn't need to be passed as an argument\n",
    "def random_string_generator(l):\n",
    "    '''This function generates a string with a length of l, choosing from the elements of a list'''\n",
    "    a=['a','b','c','d','e','f','g','h','i','j','k','l','m','n','o','p','q','r','s','t','u','v','w','x','y','z','0','1','2','3','4','5','6','7','8','9']\n",
    "    p = 0\n",
    "    s = ''\n",
    "    while p<l:\n",
    "        s += random.choice(a)\n",
    "        p += 1\n",
    "    return s\n",
    "\n",
    "#I changed capital letters to lowercase as it is recommended for function names\n",
    "def batch_string_generator(s_num, s_min, s_max):\n",
    "    result = []\n",
    "    for i in range(s_num):\n",
    "        if s_min < s_max:\n",
    "            l = random.choice(range(s_min, s_max))\n",
    "        elif s_min == s_max:\n",
    "            l = s_min\n",
    "        # else:\n",
    "        #     sys.exit('Incorrect min and max string lengths. Try again.')\n",
    "        result.append(random_string_generator(l))\n",
    "    return result\n",
    "\n",
    "#To make sure that everything is ok, and that the input is correct I will use try except\n",
    "\n",
    "try:\n",
    "    s_min = int(input('Enter minimum string length: '))\n",
    "    s_max = int(input('Enter maximum string length: '))\n",
    "    s_num = int(input('How many random strings to generate? '))\n",
    "    print(batch_string_generator(s_num, s_min, s_max))\n",
    "except:\n",
    "    print(\"Incorrect input.\")"
   ]
  },
  {
   "cell_type": "code",
   "execution_count": null,
   "metadata": {},
   "outputs": [],
   "source": [
    "exec(open(\"challenge-3.py\").read())"
   ]
  },
  {
   "cell_type": "code",
   "execution_count": 36,
   "metadata": {},
   "outputs": [
    {
     "name": "stdout",
     "output_type": "stream",
     "text": [
      "Wrong input\n"
     ]
    }
   ],
   "source": [
    "#I change the name of the function so it gives more information\n",
    "#I also change the name of the variable from capitam X to num, so its easier to read and to avoid Capital letters\n",
    "\n",
    "\n",
    "def longest_side_triangle(num):\n",
    "    #I change nested loops for list comprehnstion\n",
    "    solutions = [(x, y, z) for x in range(5, num) for y in range(4, num) for z in range(3, num) if x*x ==y*y +z*z]\n",
    "\n",
    "    #I also change this part of code to list comprehantion. Then I find maximum value in that list. \n",
    "    list_max = [max(solution) for solution in solutions]\n",
    "    m = max(list_max)\n",
    "    return m\n",
    "\n",
    "#Now I create a try/except solution in order to handle bad input from the user\n",
    "try:\n",
    "    num = int(input(\"What is the maximal length of the triangle side? Enter a number: \"))\n",
    "    if num > 5:\n",
    "        print(f\"The longest side possible is {longest_side_triangle(num)}\")\n",
    "    else:\n",
    "        print(\"You entered a number below 5\")\n",
    "except:\n",
    "    print(\"Wrong input\")"
   ]
  }
 ],
 "metadata": {
  "interpreter": {
   "hash": "52ea6b0ad24995bd1b60e6cd08f3ba54ab5b22533dfe61991e44dc13c4ce39e3"
  },
  "kernelspec": {
   "display_name": "Python 3.8.12 64-bit ('base': conda)",
   "language": "python",
   "name": "python3"
  },
  "language_info": {
   "codemirror_mode": {
    "name": "ipython",
    "version": 3
   },
   "file_extension": ".py",
   "mimetype": "text/x-python",
   "name": "python",
   "nbconvert_exporter": "python",
   "pygments_lexer": "ipython3",
   "version": "3.8.12"
  },
  "orig_nbformat": 4
 },
 "nbformat": 4,
 "nbformat_minor": 2
}
