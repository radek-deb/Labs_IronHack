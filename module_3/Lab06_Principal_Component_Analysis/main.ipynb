{
  "cells": [
    {
      "cell_type": "markdown",
      "metadata": {
        "id": "xLLW4yjDFDOg"
      },
      "source": [
        "# Before your start:\n",
        "- Read the README.md file\n",
        "- Comment as much as you can and use the resources (README.md file)\n",
        "- Happy learning!"
      ]
    },
    {
      "cell_type": "code",
      "execution_count": 126,
      "metadata": {
        "id": "5IO5yAWPFDOl"
      },
      "outputs": [],
      "source": [
        "# Run this code:\n",
        "\n",
        "%matplotlib inline\n",
        "\n",
        "import matplotlib.pyplot as plt"
      ]
    },
    {
      "cell_type": "code",
      "execution_count": 127,
      "metadata": {
        "id": "MGqPNs-JFDOm"
      },
      "outputs": [],
      "source": [
        "# Import numpy and pandas:\n",
        "import numpy as np\n",
        "import pandas as pd\n"
      ]
    },
    {
      "cell_type": "markdown",
      "metadata": {
        "id": "nISH216QFDOm"
      },
      "source": [
        "# Challenge 1 - Reading and Standardizing the Data\n",
        "\n",
        "In this challenge we will work with image data and reduce the dimensions of the data to create a 2 dimensional plot. While we have not worked much with image data before, it can be represented as a numpy array where each pixel is assigned a numeric value. In this lesson, we will look at a dataset of cats and a dataset of dogs and see whether reducing them to two dimensions allows us to see if the data is separable. We will start by loading and processing the data. Run the cell below to load the two csv files and convert them into numpy arrays."
      ]
    },
    {
      "cell_type": "code",
      "execution_count": 128,
      "metadata": {
        "id": "6sb4RKhGFDOm"
      },
      "outputs": [],
      "source": [
        "# Run this code\n",
        "\n",
        "cats = np.array(pd.read_csv(\"https://raw.githubusercontent.com/bioramble/pca/master/cat.csv\", header=None))\n",
        "dogs = np.array(pd.read_csv(\"https://raw.githubusercontent.com/bioramble/pca/master/dog.csv\", header=None))"
      ]
    },
    {
      "cell_type": "markdown",
      "metadata": {
        "id": "ea9CtFZOFDOn"
      },
      "source": [
        "Next, we'll examine the shape of both the cats and the dogs arrays. Print out both shapes below."
      ]
    },
    {
      "cell_type": "code",
      "execution_count": 129,
      "metadata": {
        "id": "zwfJ_fAzFDOn",
        "outputId": "7ba12f2a-ea93-45a9-b98d-8ab77ae243c6"
      },
      "outputs": [
        {
          "data": {
            "text/plain": [
              "(4096, 80)"
            ]
          },
          "execution_count": 129,
          "metadata": {},
          "output_type": "execute_result"
        }
      ],
      "source": [
        "# Your code here:\n",
        "cats.shape"
      ]
    },
    {
      "cell_type": "code",
      "execution_count": null,
      "metadata": {},
      "outputs": [],
      "source": []
    },
    {
      "cell_type": "code",
      "execution_count": 130,
      "metadata": {
        "id": "FFzKMIp2FDOo",
        "outputId": "a719376c-ac66-4766-cb59-9c7461c6a3db"
      },
      "outputs": [
        {
          "data": {
            "text/plain": [
              "(4096, 80)"
            ]
          },
          "execution_count": 130,
          "metadata": {},
          "output_type": "execute_result"
        }
      ],
      "source": [
        "dogs.shape"
      ]
    },
    {
      "cell_type": "markdown",
      "metadata": {
        "id": "y_lOarPjFDOo"
      },
      "source": [
        "What this means is that both arrays contain 80 images each (the number of columns). Each image is comprised of 64x64 pixels (so a total of 4096 pixels per image). The images have been flattened such that all 4096 are in a single row.\n",
        "\n",
        "Print out column 0 of the cats array to see what the pixels values look like."
      ]
    },
    {
      "cell_type": "code",
      "execution_count": 131,
      "metadata": {
        "ExecuteTime": {
          "end_time": "2021-02-25T13:05:54.979105Z",
          "start_time": "2021-02-25T13:05:54.969235Z"
        },
        "id": "hiQS9EY8FDOo"
      },
      "outputs": [
        {
          "data": {
            "text/plain": [
              "array([64, 64, 64, ..., 64, 64, 61], dtype=int64)"
            ]
          },
          "execution_count": 131,
          "metadata": {},
          "output_type": "execute_result"
        }
      ],
      "source": [
        "# Your code here:\n",
        "cats[:,0]\n"
      ]
    },
    {
      "cell_type": "markdown",
      "metadata": {
        "id": "9UvFnMgPFDOo"
      },
      "source": [
        "Using `matplotlib` we can plot a single cat or a single dog. We do this by reshaping the vector back to a 64x64 image and then using the `imshow` function.\n",
        "\n",
        "Run the code below to look at the first dog and the first cat."
      ]
    },
    {
      "cell_type": "code",
      "execution_count": 132,
      "metadata": {
        "id": "AcqumTdRFDOp",
        "outputId": "97aa7604-9987-474a-dd74-8a0b45cfbd79"
      },
      "outputs": [
        {
          "data": {
            "text/plain": [
              "<matplotlib.image.AxesImage at 0x24cc4b6c340>"
            ]
          },
          "execution_count": 132,
          "metadata": {},
          "output_type": "execute_result"
        },
        {
          "data": {
            "image/png": "[encoded data removed]",
            "text/plain": [
              "<Figure size 432x288 with 1 Axes>"
            ]
          },
          "metadata": {
            "needs_background": "light"
          },
          "output_type": "display_data"
        }
      ],
      "source": [
        "# Run this code:\n",
        "\n",
        "fig, ax = plt.subplots()\n",
        "ax.imshow(cats[:,0].reshape(64, 64).T, cmap=plt.cm.bone, interpolation='nearest') "
      ]
    },
    {
      "cell_type": "code",
      "execution_count": 133,
      "metadata": {
        "id": "CZzjFZRdFDOp",
        "outputId": "4e5bd9ca-1742-4f29-c9bb-f893baf36747"
      },
      "outputs": [
        {
          "data": {
            "text/plain": [
              "<matplotlib.image.AxesImage at 0x24cc4e5b2b0>"
            ]
          },
          "execution_count": 133,
          "metadata": {},
          "output_type": "execute_result"
        },
        {
          "data": {
            "image/png": "[encoded data removed]",
            "text/plain": [
              "<Figure size 432x288 with 1 Axes>"
            ]
          },
          "metadata": {
            "needs_background": "light"
          },
          "output_type": "display_data"
        }
      ],
      "source": [
        "# Run this code:\n",
        "\n",
        "fig, ax = plt.subplots()\n",
        "ax.imshow(dogs[:,0].reshape(64, 64).T, cmap=plt.cm.bone, interpolation='nearest') "
      ]
    },
    {
      "cell_type": "markdown",
      "metadata": {
        "id": "bOFINuuHFDOq"
      },
      "source": [
        "Now, use the `np.concatenate` function to combine the cats and dogs arrays. Use `axis=1` to combine the two correctly. Make sure to put dogs first."
      ]
    },
    {
      "cell_type": "code",
      "execution_count": 134,
      "metadata": {
        "id": "V2VJM2NYFDOq"
      },
      "outputs": [
        {
          "data": {
            "text/plain": [
              "(4096, 160)"
            ]
          },
          "execution_count": 134,
          "metadata": {},
          "output_type": "execute_result"
        }
      ],
      "source": [
        "# Your code here:\n",
        "cats_dogs = np.concatenate((dogs,cats),axis=1)\n",
        "cats_dogs.shape\n"
      ]
    },
    {
      "cell_type": "code",
      "execution_count": 135,
      "metadata": {},
      "outputs": [
        {
          "data": {
            "text/plain": [
              "<matplotlib.image.AxesImage at 0x24cc4ebaa90>"
            ]
          },
          "execution_count": 135,
          "metadata": {},
          "output_type": "execute_result"
        },
        {
          "data": {
            "image/png": "[encoded data removed]",
            "text/plain": [
              "<Figure size 432x288 with 1 Axes>"
            ]
          },
          "metadata": {
            "needs_background": "light"
          },
          "output_type": "display_data"
        }
      ],
      "source": [
        "fig, ax = plt.subplots()\n",
        "ax.imshow(cats_dogs[:,79].reshape(64, 64).T, cmap=plt.cm.bone, interpolation='nearest') "
      ]
    },
    {
      "cell_type": "code",
      "execution_count": 136,
      "metadata": {},
      "outputs": [
        {
          "data": {
            "text/plain": [
              "<matplotlib.image.AxesImage at 0x24cc9cd4160>"
            ]
          },
          "execution_count": 136,
          "metadata": {},
          "output_type": "execute_result"
        },
        {
          "data": {
            "image/png": "[encoded data removed]",
            "text/plain": [
              "<Figure size 432x288 with 1 Axes>"
            ]
          },
          "metadata": {
            "needs_background": "light"
          },
          "output_type": "display_data"
        }
      ],
      "source": [
        "fig, ax = plt.subplots()\n",
        "ax.imshow(cats_dogs[:,81].reshape(64, 64).T, cmap=plt.cm.bone, interpolation='nearest') "
      ]
    },
    {
      "cell_type": "markdown",
      "metadata": {
        "id": "PycXeWQNFDOp"
      },
      "source": [
        "Next, we would like to create a standardization function. This function will find the mean and standard deviation of each image. We subtract the mean from each pixel and divide each pixel by the standard deviation. Write the function below."
      ]
    },
    {
      "cell_type": "code",
      "execution_count": 137,
      "metadata": {
        "id": "7JM7-kq0FDOp"
      },
      "outputs": [],
      "source": [
        "#Your code here:\n",
        "def standardization(array):\n",
        "    standardized = np.copy(array)\n",
        "    for i in range(standardized.shape[1]):\n",
        "        mean = np.mean(standardized[:, i])\n",
        "        std = np.std(standardized[:, i])\n",
        "        standardized[:, i] = (standardized[:, i] - mean) / std\n",
        "    return standardized"
      ]
    },
    {
      "cell_type": "code",
      "execution_count": 138,
      "metadata": {},
      "outputs": [
        {
          "data": {
            "text/plain": [
              "(4096, 160)"
            ]
          },
          "execution_count": 138,
          "metadata": {},
          "output_type": "execute_result"
        }
      ],
      "source": [
        "cats_dogs_std = standardization(cats_dogs)\n",
        "cats_dogs_std.shape"
      ]
    },
    {
      "cell_type": "markdown",
      "metadata": {},
      "source": [
        "Standarized images"
      ]
    },
    {
      "cell_type": "code",
      "execution_count": 139,
      "metadata": {},
      "outputs": [
        {
          "data": {
            "text/plain": [
              "<matplotlib.image.AxesImage at 0x24cc9d29c10>"
            ]
          },
          "execution_count": 139,
          "metadata": {},
          "output_type": "execute_result"
        },
        {
          "data": {
            "image/png": "[encoded data removed]",
            "text/plain": [
              "<Figure size 432x288 with 1 Axes>"
            ]
          },
          "metadata": {
            "needs_background": "light"
          },
          "output_type": "display_data"
        }
      ],
      "source": [
        "fig, ax = plt.subplots()\n",
        "ax.imshow(cats_dogs[:,159].reshape(64, 64).T, cmap=plt.cm.bone, interpolation='nearest') "
      ]
    },
    {
      "cell_type": "code",
      "execution_count": 140,
      "metadata": {},
      "outputs": [
        {
          "data": {
            "text/plain": [
              "<matplotlib.image.AxesImage at 0x24cc9d91160>"
            ]
          },
          "execution_count": 140,
          "metadata": {},
          "output_type": "execute_result"
        },
        {
          "data": {
            "image/png": "[encoded data removed]",
            "text/plain": [
              "<Figure size 432x288 with 1 Axes>"
            ]
          },
          "metadata": {
            "needs_background": "light"
          },
          "output_type": "display_data"
        }
      ],
      "source": [
        "fig, ax = plt.subplots()\n",
        "ax.imshow(cats_dogs_std[:,159].reshape(64, 64).T, cmap=plt.cm.bone, interpolation='nearest') "
      ]
    },
    {
      "cell_type": "code",
      "execution_count": 141,
      "metadata": {},
      "outputs": [
        {
          "data": {
            "text/plain": [
              "(160, 4096)"
            ]
          },
          "execution_count": 141,
          "metadata": {},
          "output_type": "execute_result"
        }
      ],
      "source": [
        "cats_dogs_std.T.shape"
      ]
    },
    {
      "cell_type": "markdown",
      "metadata": {
        "id": "kRMcgTapFDOq"
      },
      "source": [
        "# Challenge 2 - Using PCA\n",
        "\n",
        "Now that we have created a standardized matrix of cats and dogs, we'll find the two most important components in the data.\n",
        "\n",
        "1. Load the `PCA` function from statsmodel. Create a PCA model with two components.\n",
        "You might need to transpose your data to get the right results."
      ]
    },
    {
      "cell_type": "code",
      "execution_count": 142,
      "metadata": {
        "id": "o6JKMVCpFDOq"
      },
      "outputs": [],
      "source": [
        "# Your code here:\n",
        "from statsmodels.multivariate.pca import PCA\n",
        "\n",
        "pca_stats= PCA(cats_dogs_std.T,ncomp=2)\n"
      ]
    },
    {
      "cell_type": "code",
      "execution_count": 143,
      "metadata": {},
      "outputs": [],
      "source": [
        "components_stats = pca_stats.factors"
      ]
    },
    {
      "cell_type": "markdown",
      "metadata": {
        "id": "HJ0il4Ggehd3"
      },
      "source": [
        "2.  And now lets do the same with sklearn library."
      ]
    },
    {
      "cell_type": "code",
      "execution_count": 144,
      "metadata": {
        "id": "aXde8FwZFDOr"
      },
      "outputs": [],
      "source": [
        "from sklearn.decomposition import PCA\n",
        "pca = PCA(n_components=2)\n",
        "pca_sklearn = pca.fit_transform(cats_dogs_std.T)"
      ]
    },
    {
      "cell_type": "markdown",
      "metadata": {
        "id": "no-JSnrxFDOr"
      },
      "source": [
        "# Challenge 3 - Plotting the Data\n",
        "\n",
        "Now that we have reduced our cats and dogs arrays, we can easily plot the data in a way that the human eye can understand. We can look at this plot to see whether there are differences between the cat and dog images. \n",
        "\n",
        "In the cell below, turn the two dimensional projection into a pandas dataframe and name the columns `pc1`, and `pc2` respectively."
      ]
    },
    {
      "cell_type": "markdown",
      "metadata": {},
      "source": [
        "### First I will do that for the PCA obtained from stats models"
      ]
    },
    {
      "cell_type": "markdown",
      "metadata": {},
      "source": [
        "### PCA from sklearn"
      ]
    },
    {
      "cell_type": "code",
      "execution_count": 145,
      "metadata": {
        "id": "65tZL3XTFDOr"
      },
      "outputs": [
        {
          "data": {
            "text/plain": [
              "array([[ 2.87110318e+01,  1.81156156e+01],\n",
              "       [ 2.35876701e+01, -8.60243672e+00],\n",
              "       [-6.25011154e+00,  1.40611740e-02],\n",
              "       [ 4.15210426e+00, -1.86779940e+01],\n",
              "       [ 1.55528759e+01, -3.48188593e-01],\n",
              "       [-4.93141448e+00, -2.42692270e+01],\n",
              "       [ 1.02934381e+01, -3.20361842e+00],\n",
              "       [ 1.13429528e+01, -1.70641566e+01],\n",
              "       [ 9.19733508e+00, -2.02722370e+01],\n",
              "       [ 2.07340726e+01,  5.28357178e+00],\n",
              "       [-2.12372215e+00, -1.63099525e+01],\n",
              "       [ 1.27094356e+01, -1.20208452e+01],\n",
              "       [ 3.81267881e+00, -2.54256045e+00],\n",
              "       [ 1.99424395e-01, -8.61810481e-01],\n",
              "       [ 1.14740304e+01, -1.02507874e+01],\n",
              "       [ 1.44066747e+01, -1.75955792e+01],\n",
              "       [ 9.27944488e+00,  1.14244796e-01],\n",
              "       [ 2.55182056e+01, -8.51617685e+00],\n",
              "       [ 1.17061595e+01, -1.16193707e+01],\n",
              "       [ 1.15473567e+01, -2.15805563e+01],\n",
              "       [-6.36388724e+00, -2.06429968e+01],\n",
              "       [ 1.56399171e+00, -1.91510076e+01],\n",
              "       [ 4.60996582e+00,  2.12765713e+00],\n",
              "       [ 1.04595744e+01, -2.07274483e+01],\n",
              "       [ 1.97352027e+01, -1.57006248e+01],\n",
              "       [-1.56572819e+00, -1.69443645e+01],\n",
              "       [ 3.65383360e-01, -3.92697736e-01],\n",
              "       [-1.39903820e+00, -9.44185227e+00],\n",
              "       [ 4.78780283e+00, -2.53605344e+01],\n",
              "       [ 6.51502713e+00, -7.53767183e+00],\n",
              "       [ 3.39966821e+00, -9.76409956e+00],\n",
              "       [ 5.25852247e+00, -8.92665067e+00],\n",
              "       [ 2.11092081e+01, -1.31702588e+01],\n",
              "       [ 1.24292452e+01, -1.83007465e+01],\n",
              "       [-6.15629980e+00, -2.12827951e+01],\n",
              "       [ 9.91937771e+00, -1.12262558e+00],\n",
              "       [-1.14049654e+01, -1.94448112e+01],\n",
              "       [-2.41950221e+00, -1.52069928e+01],\n",
              "       [-4.52333862e+00, -1.96875610e+01],\n",
              "       [ 1.99034289e+01, -6.06830072e+00],\n",
              "       [ 1.17500715e+01, -1.57674303e+01],\n",
              "       [ 4.03543157e+00,  1.67359314e+01],\n",
              "       [-7.85905684e+00, -2.22269450e+01],\n",
              "       [ 1.27930925e+01, -1.47997677e+01],\n",
              "       [-3.76277954e+00, -4.72221155e+00],\n",
              "       [ 1.48377357e+01,  1.25034659e+01],\n",
              "       [ 8.80039044e+00, -1.61277073e+00],\n",
              "       [-2.24995067e+00, -4.61100651e+00],\n",
              "       [ 6.10268269e+00,  4.70176939e+00],\n",
              "       [-1.35670454e+01, -1.61429022e+01],\n",
              "       [ 1.84293209e+01,  4.73116122e+00],\n",
              "       [ 2.97257743e+01,  2.58275801e+01],\n",
              "       [-1.02245571e+00,  1.03516353e+01],\n",
              "       [-1.36652618e+01, -2.19862246e+01],\n",
              "       [-1.08988935e+01,  6.85541515e+00],\n",
              "       [-9.58559772e+00, -6.33533936e-01],\n",
              "       [ 1.35812902e+01,  6.96248976e+00],\n",
              "       [ 9.34931552e+00,  9.26619634e+00],\n",
              "       [-1.20183462e+01, -1.29069462e+01],\n",
              "       [-2.36308030e+00, -9.54302232e+00],\n",
              "       [ 5.65929109e+00, -2.12857395e+01],\n",
              "       [ 1.88318599e+01,  1.15652872e+01],\n",
              "       [ 2.40484940e+01,  5.78113512e+00],\n",
              "       [-1.13180693e+01,  7.87171530e+00],\n",
              "       [-3.65068949e+00, -6.81677629e+00],\n",
              "       [ 1.92946749e+01, -1.00097637e-01],\n",
              "       [ 5.13291402e+00,  1.52397675e+01],\n",
              "       [-2.22810727e+01, -5.19264623e+00],\n",
              "       [-1.14849914e+00,  3.52477421e+00],\n",
              "       [ 9.72545985e+00, -1.36811769e+01],\n",
              "       [-3.62138712e+00, -3.92538328e+00],\n",
              "       [ 3.21336586e+00, -1.22905336e+01],\n",
              "       [ 1.60712185e+01, -1.18860597e+01],\n",
              "       [-1.08977113e+01, -1.58956894e+01],\n",
              "       [ 4.81462396e+00,  1.56518594e+01],\n",
              "       [ 2.59085089e+01,  1.26964346e+01],\n",
              "       [ 1.64368433e+01, -4.11673497e+00],\n",
              "       [-5.73166997e+00, -1.66031363e+01],\n",
              "       [-4.08594841e+00, -2.03786001e+01],\n",
              "       [ 2.81007313e+01,  2.66177042e+00],\n",
              "       [-1.26612321e+01,  1.25014198e+01],\n",
              "       [-2.85591171e+01,  4.32033846e+00],\n",
              "       [ 2.16517970e+01,  8.10570839e+00],\n",
              "       [ 2.37133157e+01,  2.46803686e+00],\n",
              "       [-1.51532811e+01,  1.86728129e+01],\n",
              "       [-1.32916049e+01,  1.99568230e+01],\n",
              "       [-2.91220515e+01,  1.58400473e+00],\n",
              "       [-8.19581614e+00,  1.24985151e+01],\n",
              "       [-2.64819102e+01,  9.16995382e+00],\n",
              "       [-1.09943667e+01,  1.33624421e+01],\n",
              "       [ 2.64961268e+00,  4.11933119e+00],\n",
              "       [-9.47873832e-01,  6.64516161e+00],\n",
              "       [-3.29512585e+01,  9.17721668e+00],\n",
              "       [-1.82175881e+01,  1.80776377e+01],\n",
              "       [ 1.54991625e+01,  1.21098002e+01],\n",
              "       [-1.74904343e+01,  1.54068376e+01],\n",
              "       [ 1.84332790e+01,  9.82843953e+00],\n",
              "       [-2.26695626e+01,  1.32120371e+01],\n",
              "       [ 2.87679743e+01,  1.87159084e-01],\n",
              "       [-3.13751851e+01,  8.96333335e+00],\n",
              "       [-4.65214180e+00,  1.47561750e+01],\n",
              "       [-2.22683153e+01,  3.95185365e+00],\n",
              "       [-2.27851587e+01, -1.64865494e+00],\n",
              "       [-2.34774751e+01, -1.59188924e+01],\n",
              "       [ 3.56645018e+01,  1.47706035e+01],\n",
              "       [-1.98882917e+00, -5.10155083e+00],\n",
              "       [-1.55617682e+01,  1.74754503e+01],\n",
              "       [-2.22224707e+01, -9.20800939e+00],\n",
              "       [ 1.31679434e+01,  6.38921708e+00],\n",
              "       [-8.91988450e+00,  1.27844783e+01],\n",
              "       [-6.69683244e-02,  1.32576861e+01],\n",
              "       [ 6.43511215e+00,  1.85965082e+01],\n",
              "       [-1.45440597e+01,  2.13148231e+01],\n",
              "       [ 2.24984520e+01,  1.01896167e+01],\n",
              "       [-3.68595461e+01, -3.91992773e-01],\n",
              "       [-6.44631739e+00, -1.07077102e+00],\n",
              "       [ 3.49375090e+01,  3.88208514e+00],\n",
              "       [-2.59572039e+01,  6.88659084e+00],\n",
              "       [-1.63666093e+01, -8.08197705e+00],\n",
              "       [-3.60057520e+00,  1.06208561e+01],\n",
              "       [-4.05594183e+00,  8.54990173e+00],\n",
              "       [-1.15289108e+01,  1.41102061e+01],\n",
              "       [-2.51307088e+01, -4.84856935e+00],\n",
              "       [-1.38967386e+01, -1.19110932e+01],\n",
              "       [-2.45829028e+01, -9.75818583e+00],\n",
              "       [ 1.97455221e+01,  8.28887121e+00],\n",
              "       [ 2.22425709e+01,  3.17386112e+00],\n",
              "       [ 1.85799333e+01,  6.34542550e+00],\n",
              "       [-2.84011507e+01, -3.48552930e+00],\n",
              "       [-4.90866891e+00,  7.49600903e+00],\n",
              "       [-1.01541016e+01,  1.11548084e+01],\n",
              "       [-1.13761702e+01, -4.89559230e+00],\n",
              "       [-2.82907684e+01,  1.53490676e+01],\n",
              "       [-2.15804977e+01,  1.35451359e+01],\n",
              "       [ 1.38361032e+01,  1.51208171e+01],\n",
              "       [-1.97929076e+01,  1.52125880e+01],\n",
              "       [-1.76174683e+01,  2.37261633e+01],\n",
              "       [-9.69057960e+00,  4.01886394e-01],\n",
              "       [ 2.25289864e+01,  2.27781648e+01],\n",
              "       [-1.41085661e+01, -1.15858403e+01],\n",
              "       [-2.97540412e+00,  1.66718724e+00],\n",
              "       [-6.15010838e+00,  1.72361949e+01],\n",
              "       [-2.90098923e+01,  1.24615362e+01],\n",
              "       [-2.32018319e+01, -4.06421076e+00],\n",
              "       [ 9.74350283e+00,  2.14105322e+00],\n",
              "       [-8.21158053e-01,  1.40042034e+01],\n",
              "       [ 3.75274895e+01,  1.16998921e+01],\n",
              "       [-7.46099372e+00,  6.04170495e+00],\n",
              "       [ 1.54912456e+01,  5.92358818e+00],\n",
              "       [ 1.64163725e+01, -7.51736463e-01],\n",
              "       [ 1.25422924e+01,  9.32352936e+00],\n",
              "       [-2.30819474e+01, -1.60528086e+00],\n",
              "       [-4.75814416e+00,  1.84087981e+01],\n",
              "       [ 1.51779032e-01,  5.13679468e+00],\n",
              "       [ 8.99565293e+00,  2.96059749e+00],\n",
              "       [-1.31870909e+01, -3.93078708e+00],\n",
              "       [-1.58558027e+01, -1.21660598e+01],\n",
              "       [-3.04026757e+01, -6.65134545e+00],\n",
              "       [ 1.33116058e+01,  3.39227801e-01],\n",
              "       [-2.74083719e+00,  1.03872453e+01]])"
            ]
          },
          "execution_count": 145,
          "metadata": {},
          "output_type": "execute_result"
        }
      ],
      "source": [
        "# Your code here:\n",
        "pca_sklearn\n"
      ]
    },
    {
      "cell_type": "code",
      "execution_count": 146,
      "metadata": {},
      "outputs": [
        {
          "data": {
            "text/html": [
              "<div>\n",
              "<style scoped>\n",
              "    .dataframe tbody tr th:only-of-type {\n",
              "        vertical-align: middle;\n",
              "    }\n",
              "\n",
              "    .dataframe tbody tr th {\n",
              "        vertical-align: top;\n",
              "    }\n",
              "\n",
              "    .dataframe thead th {\n",
              "        text-align: right;\n",
              "    }\n",
              "</style>\n",
              "<table border=\"1\" class=\"dataframe\">\n",
              "  <thead>\n",
              "    <tr style=\"text-align: right;\">\n",
              "      <th></th>\n",
              "      <th>pca1</th>\n",
              "      <th>pca2</th>\n",
              "    </tr>\n",
              "  </thead>\n",
              "  <tbody>\n",
              "    <tr>\n",
              "      <th>0</th>\n",
              "      <td>28.711032</td>\n",
              "      <td>18.115625</td>\n",
              "    </tr>\n",
              "    <tr>\n",
              "      <th>1</th>\n",
              "      <td>23.587670</td>\n",
              "      <td>-8.602411</td>\n",
              "    </tr>\n",
              "    <tr>\n",
              "      <th>2</th>\n",
              "      <td>-6.250112</td>\n",
              "      <td>0.014067</td>\n",
              "    </tr>\n",
              "    <tr>\n",
              "      <th>3</th>\n",
              "      <td>4.152104</td>\n",
              "      <td>-18.678004</td>\n",
              "    </tr>\n",
              "    <tr>\n",
              "      <th>4</th>\n",
              "      <td>15.552876</td>\n",
              "      <td>-0.348191</td>\n",
              "    </tr>\n",
              "    <tr>\n",
              "      <th>...</th>\n",
              "      <td>...</td>\n",
              "      <td>...</td>\n",
              "    </tr>\n",
              "    <tr>\n",
              "      <th>155</th>\n",
              "      <td>-13.187090</td>\n",
              "      <td>-3.930788</td>\n",
              "    </tr>\n",
              "    <tr>\n",
              "      <th>156</th>\n",
              "      <td>-15.855803</td>\n",
              "      <td>-12.166071</td>\n",
              "    </tr>\n",
              "    <tr>\n",
              "      <th>157</th>\n",
              "      <td>-30.402676</td>\n",
              "      <td>-6.651348</td>\n",
              "    </tr>\n",
              "    <tr>\n",
              "      <th>158</th>\n",
              "      <td>13.311606</td>\n",
              "      <td>0.339220</td>\n",
              "    </tr>\n",
              "    <tr>\n",
              "      <th>159</th>\n",
              "      <td>-2.740837</td>\n",
              "      <td>10.387227</td>\n",
              "    </tr>\n",
              "  </tbody>\n",
              "</table>\n",
              "<p>160 rows × 2 columns</p>\n",
              "</div>"
            ],
            "text/plain": [
              "          pca1       pca2\n",
              "0    28.711032  18.115625\n",
              "1    23.587670  -8.602411\n",
              "2    -6.250112   0.014067\n",
              "3     4.152104 -18.678004\n",
              "4    15.552876  -0.348191\n",
              "..         ...        ...\n",
              "155 -13.187090  -3.930788\n",
              "156 -15.855803 -12.166071\n",
              "157 -30.402676  -6.651348\n",
              "158  13.311606   0.339220\n",
              "159  -2.740837  10.387227\n",
              "\n",
              "[160 rows x 2 columns]"
            ]
          },
          "execution_count": 146,
          "metadata": {},
          "output_type": "execute_result"
        }
      ],
      "source": [
        "df = pd.DataFrame(pca2)\n",
        "df.columns =['pca1','pca2']\n",
        "df"
      ]
    },
    {
      "cell_type": "markdown",
      "metadata": {
        "id": "a77mi_VUFDOr"
      },
      "source": [
        "Create a labels list. This list will be of size 160. The first 80 elements in the list will be the word `blue`, and the last 80 elements will be `red`. This will ensure that all dog observations will be colored in blue and all cats will be colored in red. Name this list `colors`."
      ]
    },
    {
      "cell_type": "code",
      "execution_count": 147,
      "metadata": {
        "ExecuteTime": {
          "end_time": "2021-02-25T13:07:40.558939Z",
          "start_time": "2021-02-25T13:07:40.547968Z"
        },
        "id": "uEOkkp9aFDOr"
      },
      "outputs": [],
      "source": [
        "# Your code here:\n",
        "labels = ['blue']*80 + ['red']*80"
      ]
    },
    {
      "cell_type": "markdown",
      "metadata": {
        "id": "3IrkGs-gFDOr"
      },
      "source": [
        "Create a scatter plot of `pc1` and `pc2` below. Use the `colors` list above to color the observations by setting `c=colors`."
      ]
    },
    {
      "cell_type": "code",
      "execution_count": 148,
      "metadata": {
        "ExecuteTime": {
          "end_time": "2021-02-25T13:07:44.414315Z",
          "start_time": "2021-02-25T13:07:44.398349Z"
        },
        "id": "-AbrrG-TFDOr"
      },
      "outputs": [
        {
          "data": {
            "text/plain": [
              "<AxesSubplot:xlabel='pca1', ylabel='pca2'>"
            ]
          },
          "execution_count": 148,
          "metadata": {},
          "output_type": "execute_result"
        },
        {
          "data": {
            "image/png": "[encoded data removed]",
            "text/plain": [
              "<Figure size 432x288 with 1 Axes>"
            ]
          },
          "metadata": {
            "needs_background": "light"
          },
          "output_type": "display_data"
        }
      ],
      "source": [
        "# Your code here:\n",
        "import seaborn as sns \n",
        "import matplotlib.pyplot as plt\n",
        "\n",
        "df.plot.scatter(x='pca1', y='pca2', c=labels)\n"
      ]
    },
    {
      "cell_type": "markdown",
      "metadata": {},
      "source": [
        "### PCA from stats model"
      ]
    },
    {
      "cell_type": "code",
      "execution_count": 149,
      "metadata": {},
      "outputs": [
        {
          "data": {
            "text/plain": [
              "Principal Component Analysis(nobs: 160, nvar: 4096, transformation: Standardize (Correlation), normalization: True, number of components: 2, SVD, id: 0x24ccadc06a0)"
            ]
          },
          "execution_count": 149,
          "metadata": {},
          "output_type": "execute_result"
        }
      ],
      "source": [
        "pca_stats"
      ]
    },
    {
      "cell_type": "code",
      "execution_count": 150,
      "metadata": {},
      "outputs": [
        {
          "data": {
            "text/html": [
              "<div>\n",
              "<style scoped>\n",
              "    .dataframe tbody tr th:only-of-type {\n",
              "        vertical-align: middle;\n",
              "    }\n",
              "\n",
              "    .dataframe tbody tr th {\n",
              "        vertical-align: top;\n",
              "    }\n",
              "\n",
              "    .dataframe thead th {\n",
              "        text-align: right;\n",
              "    }\n",
              "</style>\n",
              "<table border=\"1\" class=\"dataframe\">\n",
              "  <thead>\n",
              "    <tr style=\"text-align: right;\">\n",
              "      <th></th>\n",
              "      <th>pca1</th>\n",
              "      <th>pca2</th>\n",
              "    </tr>\n",
              "  </thead>\n",
              "  <tbody>\n",
              "    <tr>\n",
              "      <th>0</th>\n",
              "      <td>-0.126925</td>\n",
              "      <td>-0.130697</td>\n",
              "    </tr>\n",
              "    <tr>\n",
              "      <th>1</th>\n",
              "      <td>-0.128883</td>\n",
              "      <td>0.016662</td>\n",
              "    </tr>\n",
              "    <tr>\n",
              "      <th>2</th>\n",
              "      <td>0.026380</td>\n",
              "      <td>0.029428</td>\n",
              "    </tr>\n",
              "    <tr>\n",
              "      <th>3</th>\n",
              "      <td>-0.040758</td>\n",
              "      <td>0.118589</td>\n",
              "    </tr>\n",
              "    <tr>\n",
              "      <th>4</th>\n",
              "      <td>-0.072766</td>\n",
              "      <td>-0.040100</td>\n",
              "    </tr>\n",
              "    <tr>\n",
              "      <th>...</th>\n",
              "      <td>...</td>\n",
              "      <td>...</td>\n",
              "    </tr>\n",
              "    <tr>\n",
              "      <th>155</th>\n",
              "      <td>0.072222</td>\n",
              "      <td>0.046915</td>\n",
              "    </tr>\n",
              "    <tr>\n",
              "      <th>156</th>\n",
              "      <td>0.066406</td>\n",
              "      <td>0.106850</td>\n",
              "    </tr>\n",
              "    <tr>\n",
              "      <th>157</th>\n",
              "      <td>0.126079</td>\n",
              "      <td>0.058476</td>\n",
              "    </tr>\n",
              "    <tr>\n",
              "      <th>158</th>\n",
              "      <td>-0.047874</td>\n",
              "      <td>-0.001204</td>\n",
              "    </tr>\n",
              "    <tr>\n",
              "      <th>159</th>\n",
              "      <td>0.030278</td>\n",
              "      <td>-0.074388</td>\n",
              "    </tr>\n",
              "  </tbody>\n",
              "</table>\n",
              "<p>160 rows × 2 columns</p>\n",
              "</div>"
            ],
            "text/plain": [
              "         pca1      pca2\n",
              "0   -0.126925 -0.130697\n",
              "1   -0.128883  0.016662\n",
              "2    0.026380  0.029428\n",
              "3   -0.040758  0.118589\n",
              "4   -0.072766 -0.040100\n",
              "..        ...       ...\n",
              "155  0.072222  0.046915\n",
              "156  0.066406  0.106850\n",
              "157  0.126079  0.058476\n",
              "158 -0.047874 -0.001204\n",
              "159  0.030278 -0.074388\n",
              "\n",
              "[160 rows x 2 columns]"
            ]
          },
          "execution_count": 150,
          "metadata": {},
          "output_type": "execute_result"
        }
      ],
      "source": [
        "df_stats = pd.DataFrame(components_stats)\n",
        "df_stats.columns =['pca1','pca2']\n",
        "df_stats"
      ]
    },
    {
      "cell_type": "code",
      "execution_count": 151,
      "metadata": {},
      "outputs": [
        {
          "data": {
            "text/plain": [
              "<AxesSubplot:xlabel='pca1', ylabel='pca2'>"
            ]
          },
          "execution_count": 151,
          "metadata": {},
          "output_type": "execute_result"
        },
        {
          "data": {
            "image/png": "[encoded data removed]",
            "text/plain": [
              "<Figure size 432x288 with 1 Axes>"
            ]
          },
          "metadata": {
            "needs_background": "light"
          },
          "output_type": "display_data"
        }
      ],
      "source": [
        "df_stats.plot.scatter(x='pca1', y='pca2', c=labels)"
      ]
    },
    {
      "cell_type": "markdown",
      "metadata": {
        "id": "I-meGOYBFDOs"
      },
      "source": [
        "Do you see a clear separation between cats and dogs? Write your answer below."
      ]
    },
    {
      "cell_type": "code",
      "execution_count": 152,
      "metadata": {
        "ExecuteTime": {
          "end_time": "2021-02-25T13:07:49.361753Z",
          "start_time": "2021-02-25T13:07:49.348769Z"
        },
        "id": "nBPHDwtIFDOs"
      },
      "outputs": [],
      "source": [
        "# Your conclusions here:\n",
        "#After analysing results of PCA calaculated from two diffrent libreries I can see that there is a clear diffrence bwteen two groups  (red) and dogs (blue)"
      ]
    },
    {
      "cell_type": "markdown",
      "metadata": {
        "id": "Qe4Em6IRevAK"
      },
      "source": [
        "TSNE"
      ]
    },
    {
      "cell_type": "code",
      "execution_count": 153,
      "metadata": {
        "id": "1DqU2K1zFDOs"
      },
      "outputs": [],
      "source": [
        "# Your code here:\n",
        "from sklearn.manifold import TSNE"
      ]
    },
    {
      "cell_type": "markdown",
      "metadata": {
        "id": "5HvnGNv5e3GZ"
      },
      "source": [
        "And now let's use t-SNE to reduce the dimensions till 2 components"
      ]
    },
    {
      "cell_type": "code",
      "execution_count": 154,
      "metadata": {
        "id": "WOe6hJyNezfs"
      },
      "outputs": [
        {
          "name": "stderr",
          "output_type": "stream",
          "text": [
            "C:\\Users\\radek\\Anaconda3\\lib\\site-packages\\sklearn\\manifold\\_t_sne.py:780: FutureWarning: The default initialization in TSNE will change from 'random' to 'pca' in 1.2.\n",
            "  warnings.warn(\n",
            "C:\\Users\\radek\\Anaconda3\\lib\\site-packages\\sklearn\\manifold\\_t_sne.py:790: FutureWarning: The default learning rate in TSNE will change from 200.0 to 'auto' in 1.2.\n",
            "  warnings.warn(\n"
          ]
        },
        {
          "name": "stdout",
          "output_type": "stream",
          "text": [
            "[t-SNE] Computing 121 nearest neighbors...\n",
            "[t-SNE] Indexed 160 samples in 0.002s...\n",
            "[t-SNE] Computed neighbors for 160 samples in 0.020s...\n",
            "[t-SNE] Computed conditional probabilities for sample 160 / 160\n",
            "[t-SNE] Mean sigma: 18.548163\n",
            "[t-SNE] KL divergence after 250 iterations with early exaggeration: 72.809631\n",
            "[t-SNE] KL divergence after 300 iterations: 1.336317\n"
          ]
        }
      ],
      "source": [
        "# Your code here:\n",
        "\n",
        "tsne = TSNE(n_components=2, verbose=1, perplexity=40, n_iter=300)\n",
        "X_reduced = tsne.fit_transform(cats_dogs_std.T)"
      ]
    },
    {
      "cell_type": "markdown",
      "metadata": {
        "id": "s7uiHdrWe7vp"
      },
      "source": [
        "How many information we can describe with 2 components?"
      ]
    },
    {
      "cell_type": "markdown",
      "metadata": {
        "id": "fJSJ3tiie5Ou"
      },
      "source": [
        "The 2 components described the whole picture of cat or dog so 4096 features were replaced by 2 components, but as a graph below showed maybe the t-SNE method is not the best here because the diffrence between cat and dogs was more clear with PCA"
      ]
    },
    {
      "cell_type": "markdown",
      "metadata": {
        "id": "WTf4b5ePe-rx"
      },
      "source": [
        "Create a scatter plott"
      ]
    },
    {
      "cell_type": "code",
      "execution_count": 155,
      "metadata": {
        "id": "Yb1F8jlXe_Oq"
      },
      "outputs": [
        {
          "data": {
            "text/plain": [
              "<matplotlib.collections.PathCollection at 0x24ccaebbdc0>"
            ]
          },
          "execution_count": 155,
          "metadata": {},
          "output_type": "execute_result"
        },
        {
          "data": {
            "image/png": "[encoded data removed]",
            "text/plain": [
              "<Figure size 432x288 with 1 Axes>"
            ]
          },
          "metadata": {},
          "output_type": "display_data"
        }
      ],
      "source": [
        "import seaborn as sns; sns.set()\n",
        "import matplotlib.pyplot as plt\n",
        "\n",
        "\n",
        "\n",
        "plt.scatter(X_reduced[:, 0], X_reduced[:, 1], c=labels, cmap=plt.cm.hot)"
      ]
    },
    {
      "cell_type": "code",
      "execution_count": null,
      "metadata": {},
      "outputs": [],
      "source": []
    }
  ],
  "metadata": {
    "colab": {
      "collapsed_sections": [],
      "name": "main.ipynb",
      "provenance": []
    },
    "kernelspec": {
      "display_name": "Python 3",
      "language": "python",
      "name": "python3"
    },
    "language_info": {
      "codemirror_mode": {
        "name": "ipython",
        "version": 3
      },
      "file_extension": ".py",
      "mimetype": "text/x-python",
      "name": "python",
      "nbconvert_exporter": "python",
      "pygments_lexer": "ipython3",
      "version": "3.8.12"
    },
    "toc": {
      "base_numbering": 1,
      "nav_menu": {},
      "number_sections": true,
      "sideBar": true,
      "skip_h1_title": false,
      "title_cell": "Table of Contents",
      "title_sidebar": "Contents",
      "toc_cell": false,
      "toc_position": {},
      "toc_section_display": true,
      "toc_window_display": false
    },
    "varInspector": {
      "cols": {
        "lenName": 16,
        "lenType": 16,
        "lenVar": 40
      },
      "kernels_config": {
        "python": {
          "delete_cmd_postfix": "",
          "delete_cmd_prefix": "del ",
          "library": "var_list.py",
          "varRefreshCmd": "print(var_dic_list())"
        },
        "r": {
          "delete_cmd_postfix": ") ",
          "delete_cmd_prefix": "rm(",
          "library": "var_list.r",
          "varRefreshCmd": "cat(var_dic_list()) "
        }
      },
      "types_to_exclude": [
        "module",
        "function",
        "builtin_function_or_method",
        "instance",
        "_Feature"
      ],
      "window_display": false
    }
  },
  "nbformat": 4,
  "nbformat_minor": 0
}
