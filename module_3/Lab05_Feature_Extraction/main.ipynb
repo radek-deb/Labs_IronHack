{
  "cells": [
    {
      "cell_type": "markdown",
      "metadata": {
        "id": "2ZTc5VXDfhbh"
      },
      "source": [
        "# Before your start:\n",
        "- Read the README.md file\n",
        "- Comment as much as you can and use the resources in the README.md file\n",
        "- Happy learning!"
      ]
    },
    {
      "cell_type": "code",
      "execution_count": 1,
      "metadata": {
        "id": "i5noFtjbfhbs"
      },
      "outputs": [],
      "source": [
        "#Import your libraries\n",
        "\n",
        "import numpy as np\n",
        "import pandas as pd"
      ]
    },
    {
      "cell_type": "markdown",
      "metadata": {
        "id": "14Y2pxPxfhbv"
      },
      "source": [
        "# Introduction\n",
        "\n",
        "In this lab, we will use two datasets. Both datasets contain variables that describe apps from the Google Play Store. We will use our knowledge in feature extraction to process these datasets and prepare them for the use of a ML algorithm."
      ]
    },
    {
      "cell_type": "markdown",
      "metadata": {
        "id": "hwvi18ARfhbx"
      },
      "source": [
        "# Challenge 1 - Loading and Extracting Features from the First Dataset"
      ]
    },
    {
      "cell_type": "markdown",
      "metadata": {
        "id": "xDmBR6W3fhby"
      },
      "source": [
        "#### In this challenge, our goals are: \n",
        "\n",
        "* Exploring the dataset.\n",
        "* Identify the columns with missing values.\n",
        "* Either replacing the missing values in each column or drop the columns.\n",
        "* Conver each column to the appropriate type."
      ]
    },
    {
      "cell_type": "markdown",
      "metadata": {
        "id": "3C6aY7wzfhbz"
      },
      "source": [
        "#### The first dataset contains different information describing the apps. \n",
        "\n",
        "Load the dataset into the variable `google_play` in the cell below. The dataset is in the file `googleplaystore.csv`"
      ]
    },
    {
      "cell_type": "code",
      "execution_count": 2,
      "metadata": {
        "id": "mdOKsqcwfhb0"
      },
      "outputs": [],
      "source": [
        "# Your code here:\n",
        "\n",
        "google_play = pd.read_csv(r'C:\\Users\\radek\\IronHack\\IronRadek\\Week7\\Day3\\5. Feature-Extraction\\data\\googleplaystore.csv')"
      ]
    },
    {
      "cell_type": "markdown",
      "metadata": {
        "id": "Gmuu6N0Vfhb2"
      },
      "source": [
        "#### Examine all variables and their types in the following cell"
      ]
    },
    {
      "cell_type": "code",
      "execution_count": 3,
      "metadata": {
        "id": "2BsicbPUfhb3"
      },
      "outputs": [
        {
          "data": {
            "text/plain": [
              "App                object\n",
              "Category           object\n",
              "Rating            float64\n",
              "Reviews            object\n",
              "Size               object\n",
              "Installs           object\n",
              "Type               object\n",
              "Price              object\n",
              "Content Rating     object\n",
              "Genres             object\n",
              "Last Updated       object\n",
              "Current Ver        object\n",
              "Android Ver        object\n",
              "dtype: object"
            ]
          },
          "execution_count": 3,
          "metadata": {},
          "output_type": "execute_result"
        }
      ],
      "source": [
        "# Your code here:\n",
        "google_play.dtypes"
      ]
    },
    {
      "cell_type": "code",
      "execution_count": 4,
      "metadata": {},
      "outputs": [
        {
          "data": {
            "text/html": [
              "<div>\n",
              "<style scoped>\n",
              "    .dataframe tbody tr th:only-of-type {\n",
              "        vertical-align: middle;\n",
              "    }\n",
              "\n",
              "    .dataframe tbody tr th {\n",
              "        vertical-align: top;\n",
              "    }\n",
              "\n",
              "    .dataframe thead th {\n",
              "        text-align: right;\n",
              "    }\n",
              "</style>\n",
              "<table border=\"1\" class=\"dataframe\">\n",
              "  <thead>\n",
              "    <tr style=\"text-align: right;\">\n",
              "      <th></th>\n",
              "      <th>App</th>\n",
              "      <th>Category</th>\n",
              "      <th>Rating</th>\n",
              "      <th>Reviews</th>\n",
              "      <th>Size</th>\n",
              "      <th>Installs</th>\n",
              "      <th>Type</th>\n",
              "      <th>Price</th>\n",
              "      <th>Content Rating</th>\n",
              "      <th>Genres</th>\n",
              "      <th>Last Updated</th>\n",
              "      <th>Current Ver</th>\n",
              "      <th>Android Ver</th>\n",
              "    </tr>\n",
              "  </thead>\n",
              "  <tbody>\n",
              "    <tr>\n",
              "      <th>0</th>\n",
              "      <td>Photo Editor &amp; Candy Camera &amp; Grid &amp; ScrapBook</td>\n",
              "      <td>ART_AND_DESIGN</td>\n",
              "      <td>4.1</td>\n",
              "      <td>159</td>\n",
              "      <td>19M</td>\n",
              "      <td>10,000+</td>\n",
              "      <td>Free</td>\n",
              "      <td>0</td>\n",
              "      <td>Everyone</td>\n",
              "      <td>Art &amp; Design</td>\n",
              "      <td>January 7, 2018</td>\n",
              "      <td>1.0.0</td>\n",
              "      <td>4.0.3 and up</td>\n",
              "    </tr>\n",
              "    <tr>\n",
              "      <th>1</th>\n",
              "      <td>Coloring book moana</td>\n",
              "      <td>ART_AND_DESIGN</td>\n",
              "      <td>3.9</td>\n",
              "      <td>967</td>\n",
              "      <td>14M</td>\n",
              "      <td>500,000+</td>\n",
              "      <td>Free</td>\n",
              "      <td>0</td>\n",
              "      <td>Everyone</td>\n",
              "      <td>Art &amp; Design;Pretend Play</td>\n",
              "      <td>January 15, 2018</td>\n",
              "      <td>2.0.0</td>\n",
              "      <td>4.0.3 and up</td>\n",
              "    </tr>\n",
              "    <tr>\n",
              "      <th>2</th>\n",
              "      <td>U Launcher Lite – FREE Live Cool Themes, Hide ...</td>\n",
              "      <td>ART_AND_DESIGN</td>\n",
              "      <td>4.7</td>\n",
              "      <td>87510</td>\n",
              "      <td>8.7M</td>\n",
              "      <td>5,000,000+</td>\n",
              "      <td>Free</td>\n",
              "      <td>0</td>\n",
              "      <td>Everyone</td>\n",
              "      <td>Art &amp; Design</td>\n",
              "      <td>August 1, 2018</td>\n",
              "      <td>1.2.4</td>\n",
              "      <td>4.0.3 and up</td>\n",
              "    </tr>\n",
              "    <tr>\n",
              "      <th>3</th>\n",
              "      <td>Sketch - Draw &amp; Paint</td>\n",
              "      <td>ART_AND_DESIGN</td>\n",
              "      <td>4.5</td>\n",
              "      <td>215644</td>\n",
              "      <td>25M</td>\n",
              "      <td>50,000,000+</td>\n",
              "      <td>Free</td>\n",
              "      <td>0</td>\n",
              "      <td>Teen</td>\n",
              "      <td>Art &amp; Design</td>\n",
              "      <td>June 8, 2018</td>\n",
              "      <td>Varies with device</td>\n",
              "      <td>4.2 and up</td>\n",
              "    </tr>\n",
              "    <tr>\n",
              "      <th>4</th>\n",
              "      <td>Pixel Draw - Number Art Coloring Book</td>\n",
              "      <td>ART_AND_DESIGN</td>\n",
              "      <td>4.3</td>\n",
              "      <td>967</td>\n",
              "      <td>2.8M</td>\n",
              "      <td>100,000+</td>\n",
              "      <td>Free</td>\n",
              "      <td>0</td>\n",
              "      <td>Everyone</td>\n",
              "      <td>Art &amp; Design;Creativity</td>\n",
              "      <td>June 20, 2018</td>\n",
              "      <td>1.1</td>\n",
              "      <td>4.4 and up</td>\n",
              "    </tr>\n",
              "  </tbody>\n",
              "</table>\n",
              "</div>"
            ],
            "text/plain": [
              "                                                 App        Category  Rating  \\\n",
              "0     Photo Editor & Candy Camera & Grid & ScrapBook  ART_AND_DESIGN     4.1   \n",
              "1                                Coloring book moana  ART_AND_DESIGN     3.9   \n",
              "2  U Launcher Lite – FREE Live Cool Themes, Hide ...  ART_AND_DESIGN     4.7   \n",
              "3                              Sketch - Draw & Paint  ART_AND_DESIGN     4.5   \n",
              "4              Pixel Draw - Number Art Coloring Book  ART_AND_DESIGN     4.3   \n",
              "\n",
              "  Reviews  Size     Installs  Type Price Content Rating  \\\n",
              "0     159   19M      10,000+  Free     0       Everyone   \n",
              "1     967   14M     500,000+  Free     0       Everyone   \n",
              "2   87510  8.7M   5,000,000+  Free     0       Everyone   \n",
              "3  215644   25M  50,000,000+  Free     0           Teen   \n",
              "4     967  2.8M     100,000+  Free     0       Everyone   \n",
              "\n",
              "                      Genres      Last Updated         Current Ver  \\\n",
              "0               Art & Design   January 7, 2018               1.0.0   \n",
              "1  Art & Design;Pretend Play  January 15, 2018               2.0.0   \n",
              "2               Art & Design    August 1, 2018               1.2.4   \n",
              "3               Art & Design      June 8, 2018  Varies with device   \n",
              "4    Art & Design;Creativity     June 20, 2018                 1.1   \n",
              "\n",
              "    Android Ver  \n",
              "0  4.0.3 and up  \n",
              "1  4.0.3 and up  \n",
              "2  4.0.3 and up  \n",
              "3    4.2 and up  \n",
              "4    4.4 and up  "
            ]
          },
          "execution_count": 4,
          "metadata": {},
          "output_type": "execute_result"
        }
      ],
      "source": [
        "google_play.head()"
      ]
    },
    {
      "cell_type": "code",
      "execution_count": 5,
      "metadata": {},
      "outputs": [
        {
          "data": {
            "text/html": [
              "<div>\n",
              "<style scoped>\n",
              "    .dataframe tbody tr th:only-of-type {\n",
              "        vertical-align: middle;\n",
              "    }\n",
              "\n",
              "    .dataframe tbody tr th {\n",
              "        vertical-align: top;\n",
              "    }\n",
              "\n",
              "    .dataframe thead th {\n",
              "        text-align: right;\n",
              "    }\n",
              "</style>\n",
              "<table border=\"1\" class=\"dataframe\">\n",
              "  <thead>\n",
              "    <tr style=\"text-align: right;\">\n",
              "      <th></th>\n",
              "      <th>Rating</th>\n",
              "    </tr>\n",
              "  </thead>\n",
              "  <tbody>\n",
              "    <tr>\n",
              "      <th>count</th>\n",
              "      <td>9367.000000</td>\n",
              "    </tr>\n",
              "    <tr>\n",
              "      <th>mean</th>\n",
              "      <td>4.193338</td>\n",
              "    </tr>\n",
              "    <tr>\n",
              "      <th>std</th>\n",
              "      <td>0.537431</td>\n",
              "    </tr>\n",
              "    <tr>\n",
              "      <th>min</th>\n",
              "      <td>1.000000</td>\n",
              "    </tr>\n",
              "    <tr>\n",
              "      <th>25%</th>\n",
              "      <td>4.000000</td>\n",
              "    </tr>\n",
              "    <tr>\n",
              "      <th>50%</th>\n",
              "      <td>4.300000</td>\n",
              "    </tr>\n",
              "    <tr>\n",
              "      <th>75%</th>\n",
              "      <td>4.500000</td>\n",
              "    </tr>\n",
              "    <tr>\n",
              "      <th>max</th>\n",
              "      <td>19.000000</td>\n",
              "    </tr>\n",
              "  </tbody>\n",
              "</table>\n",
              "</div>"
            ],
            "text/plain": [
              "            Rating\n",
              "count  9367.000000\n",
              "mean      4.193338\n",
              "std       0.537431\n",
              "min       1.000000\n",
              "25%       4.000000\n",
              "50%       4.300000\n",
              "75%       4.500000\n",
              "max      19.000000"
            ]
          },
          "execution_count": 5,
          "metadata": {},
          "output_type": "execute_result"
        }
      ],
      "source": [
        "google_play.describe()"
      ]
    },
    {
      "cell_type": "markdown",
      "metadata": {
        "id": "t6pMZohgfhb5"
      },
      "source": [
        "#### Since this dataset only contains one numeric column, let's skip the `describe()` function and look at the first 5 rows using the `head()` function"
      ]
    },
    {
      "cell_type": "code",
      "execution_count": 6,
      "metadata": {
        "id": "bwaLYF25fhb6"
      },
      "outputs": [
        {
          "data": {
            "text/html": [
              "<div>\n",
              "<style scoped>\n",
              "    .dataframe tbody tr th:only-of-type {\n",
              "        vertical-align: middle;\n",
              "    }\n",
              "\n",
              "    .dataframe tbody tr th {\n",
              "        vertical-align: top;\n",
              "    }\n",
              "\n",
              "    .dataframe thead th {\n",
              "        text-align: right;\n",
              "    }\n",
              "</style>\n",
              "<table border=\"1\" class=\"dataframe\">\n",
              "  <thead>\n",
              "    <tr style=\"text-align: right;\">\n",
              "      <th></th>\n",
              "      <th>App</th>\n",
              "      <th>Category</th>\n",
              "      <th>Rating</th>\n",
              "      <th>Reviews</th>\n",
              "      <th>Size</th>\n",
              "      <th>Installs</th>\n",
              "      <th>Type</th>\n",
              "      <th>Price</th>\n",
              "      <th>Content Rating</th>\n",
              "      <th>Genres</th>\n",
              "      <th>Last Updated</th>\n",
              "      <th>Current Ver</th>\n",
              "      <th>Android Ver</th>\n",
              "    </tr>\n",
              "  </thead>\n",
              "  <tbody>\n",
              "    <tr>\n",
              "      <th>0</th>\n",
              "      <td>Photo Editor &amp; Candy Camera &amp; Grid &amp; ScrapBook</td>\n",
              "      <td>ART_AND_DESIGN</td>\n",
              "      <td>4.1</td>\n",
              "      <td>159</td>\n",
              "      <td>19M</td>\n",
              "      <td>10,000+</td>\n",
              "      <td>Free</td>\n",
              "      <td>0</td>\n",
              "      <td>Everyone</td>\n",
              "      <td>Art &amp; Design</td>\n",
              "      <td>January 7, 2018</td>\n",
              "      <td>1.0.0</td>\n",
              "      <td>4.0.3 and up</td>\n",
              "    </tr>\n",
              "    <tr>\n",
              "      <th>1</th>\n",
              "      <td>Coloring book moana</td>\n",
              "      <td>ART_AND_DESIGN</td>\n",
              "      <td>3.9</td>\n",
              "      <td>967</td>\n",
              "      <td>14M</td>\n",
              "      <td>500,000+</td>\n",
              "      <td>Free</td>\n",
              "      <td>0</td>\n",
              "      <td>Everyone</td>\n",
              "      <td>Art &amp; Design;Pretend Play</td>\n",
              "      <td>January 15, 2018</td>\n",
              "      <td>2.0.0</td>\n",
              "      <td>4.0.3 and up</td>\n",
              "    </tr>\n",
              "    <tr>\n",
              "      <th>2</th>\n",
              "      <td>U Launcher Lite – FREE Live Cool Themes, Hide ...</td>\n",
              "      <td>ART_AND_DESIGN</td>\n",
              "      <td>4.7</td>\n",
              "      <td>87510</td>\n",
              "      <td>8.7M</td>\n",
              "      <td>5,000,000+</td>\n",
              "      <td>Free</td>\n",
              "      <td>0</td>\n",
              "      <td>Everyone</td>\n",
              "      <td>Art &amp; Design</td>\n",
              "      <td>August 1, 2018</td>\n",
              "      <td>1.2.4</td>\n",
              "      <td>4.0.3 and up</td>\n",
              "    </tr>\n",
              "    <tr>\n",
              "      <th>3</th>\n",
              "      <td>Sketch - Draw &amp; Paint</td>\n",
              "      <td>ART_AND_DESIGN</td>\n",
              "      <td>4.5</td>\n",
              "      <td>215644</td>\n",
              "      <td>25M</td>\n",
              "      <td>50,000,000+</td>\n",
              "      <td>Free</td>\n",
              "      <td>0</td>\n",
              "      <td>Teen</td>\n",
              "      <td>Art &amp; Design</td>\n",
              "      <td>June 8, 2018</td>\n",
              "      <td>Varies with device</td>\n",
              "      <td>4.2 and up</td>\n",
              "    </tr>\n",
              "    <tr>\n",
              "      <th>4</th>\n",
              "      <td>Pixel Draw - Number Art Coloring Book</td>\n",
              "      <td>ART_AND_DESIGN</td>\n",
              "      <td>4.3</td>\n",
              "      <td>967</td>\n",
              "      <td>2.8M</td>\n",
              "      <td>100,000+</td>\n",
              "      <td>Free</td>\n",
              "      <td>0</td>\n",
              "      <td>Everyone</td>\n",
              "      <td>Art &amp; Design;Creativity</td>\n",
              "      <td>June 20, 2018</td>\n",
              "      <td>1.1</td>\n",
              "      <td>4.4 and up</td>\n",
              "    </tr>\n",
              "  </tbody>\n",
              "</table>\n",
              "</div>"
            ],
            "text/plain": [
              "                                                 App        Category  Rating  \\\n",
              "0     Photo Editor & Candy Camera & Grid & ScrapBook  ART_AND_DESIGN     4.1   \n",
              "1                                Coloring book moana  ART_AND_DESIGN     3.9   \n",
              "2  U Launcher Lite – FREE Live Cool Themes, Hide ...  ART_AND_DESIGN     4.7   \n",
              "3                              Sketch - Draw & Paint  ART_AND_DESIGN     4.5   \n",
              "4              Pixel Draw - Number Art Coloring Book  ART_AND_DESIGN     4.3   \n",
              "\n",
              "  Reviews  Size     Installs  Type Price Content Rating  \\\n",
              "0     159   19M      10,000+  Free     0       Everyone   \n",
              "1     967   14M     500,000+  Free     0       Everyone   \n",
              "2   87510  8.7M   5,000,000+  Free     0       Everyone   \n",
              "3  215644   25M  50,000,000+  Free     0           Teen   \n",
              "4     967  2.8M     100,000+  Free     0       Everyone   \n",
              "\n",
              "                      Genres      Last Updated         Current Ver  \\\n",
              "0               Art & Design   January 7, 2018               1.0.0   \n",
              "1  Art & Design;Pretend Play  January 15, 2018               2.0.0   \n",
              "2               Art & Design    August 1, 2018               1.2.4   \n",
              "3               Art & Design      June 8, 2018  Varies with device   \n",
              "4    Art & Design;Creativity     June 20, 2018                 1.1   \n",
              "\n",
              "    Android Ver  \n",
              "0  4.0.3 and up  \n",
              "1  4.0.3 and up  \n",
              "2  4.0.3 and up  \n",
              "3    4.2 and up  \n",
              "4    4.4 and up  "
            ]
          },
          "execution_count": 6,
          "metadata": {},
          "output_type": "execute_result"
        }
      ],
      "source": [
        "# Your code here:\n",
        "google_play.head()"
      ]
    },
    {
      "cell_type": "markdown",
      "metadata": {
        "id": "cCzO2eA-fhb7"
      },
      "source": [
        "#### We can see that there are a few columns that could be coerced to numeric.\n",
        "\n",
        "Start with the reviews column. We can evaluate what value is causing this column to be of object type finding the non-numeric values in this column. To do this, we recall the `to_numeric()` function. With this function, we are able to coerce all non-numeric data to null. We can then use the `isnull()` function to subset our dataframe using the True/False column that this function generates.\n",
        "\n",
        "In the cell below, transform the Reviews column to numeric and assign this new column to the variable `Reviews_numeric`. Make sure to coerce the errors."
      ]
    },
    {
      "cell_type": "code",
      "execution_count": 7,
      "metadata": {
        "id": "cInA2NE2fhb8"
      },
      "outputs": [],
      "source": [
        "# Your code here:\n",
        "Reviews_numeric=pd.to_numeric(google_play.Reviews, errors='coerce')"
      ]
    },
    {
      "cell_type": "markdown",
      "metadata": {
        "id": "j1W0fmqmfhb9"
      },
      "source": [
        "Next, create a column containing True/False values using the `isnull()` function. Assign this column to the `Reviews_isnull` variable."
      ]
    },
    {
      "cell_type": "code",
      "execution_count": 8,
      "metadata": {
        "id": "LGX4U6Pyfhb-"
      },
      "outputs": [],
      "source": [
        "# Your code here:\n",
        "Reviews_isnull =Reviews_numeric.isnull()"
      ]
    },
    {
      "cell_type": "code",
      "execution_count": 9,
      "metadata": {},
      "outputs": [
        {
          "data": {
            "text/plain": [
              "0        False\n",
              "1        False\n",
              "2        False\n",
              "3        False\n",
              "4        False\n",
              "         ...  \n",
              "10836    False\n",
              "10837    False\n",
              "10838    False\n",
              "10839    False\n",
              "10840    False\n",
              "Name: Reviews, Length: 10841, dtype: bool"
            ]
          },
          "execution_count": 9,
          "metadata": {},
          "output_type": "execute_result"
        }
      ],
      "source": [
        "Reviews_isnull"
      ]
    },
    {
      "cell_type": "markdown",
      "metadata": {
        "id": "jHDPCdHVfhb-"
      },
      "source": [
        "Finally, subset the `google_play` with `Reviews_isnull`. This should give you all the rows that contain non-numeric characters.\n",
        "\n",
        "Your output should look like:\n",
        "\n",
        "![Reviews_bool.png](reviews-bool.png)"
      ]
    },
    {
      "cell_type": "code",
      "execution_count": 10,
      "metadata": {},
      "outputs": [
        {
          "data": {
            "text/plain": [
              "10472"
            ]
          },
          "execution_count": 10,
          "metadata": {},
          "output_type": "execute_result"
        }
      ],
      "source": [
        "Reviews_isnull[Reviews_isnull == True].index[0]"
      ]
    },
    {
      "cell_type": "code",
      "execution_count": 11,
      "metadata": {
        "id": "O3MrHRVXfhb_"
      },
      "outputs": [
        {
          "data": {
            "text/plain": [
              "App               Life Made WI-Fi Touchscreen Photo Frame\n",
              "Category                                              1.9\n",
              "Rating                                               19.0\n",
              "Reviews                                              3.0M\n",
              "Size                                               1,000+\n",
              "Installs                                             Free\n",
              "Type                                                    0\n",
              "Price                                            Everyone\n",
              "Content Rating                                        NaN\n",
              "Genres                                  February 11, 2018\n",
              "Last Updated                                       1.0.19\n",
              "Current Ver                                    4.0 and up\n",
              "Android Ver                                           NaN\n",
              "Name: 10472, dtype: object"
            ]
          },
          "execution_count": 11,
          "metadata": {},
          "output_type": "execute_result"
        }
      ],
      "source": [
        "# Your code here:\n",
        "google_play.loc[Reviews_isnull[Reviews_isnull == True].index[0]]"
      ]
    },
    {
      "cell_type": "code",
      "execution_count": 12,
      "metadata": {},
      "outputs": [
        {
          "data": {
            "text/plain": [
              "App               Life Made WI-Fi Touchscreen Photo Frame\n",
              "Category                                              1.9\n",
              "Rating                                               19.0\n",
              "Reviews                                              3.0M\n",
              "Size                                               1,000+\n",
              "Installs                                             Free\n",
              "Type                                                    0\n",
              "Price                                            Everyone\n",
              "Content Rating                                        NaN\n",
              "Genres                                  February 11, 2018\n",
              "Last Updated                                       1.0.19\n",
              "Current Ver                                    4.0 and up\n",
              "Android Ver                                           NaN\n",
              "Name: 10472, dtype: object"
            ]
          },
          "execution_count": 12,
          "metadata": {},
          "output_type": "execute_result"
        }
      ],
      "source": [
        "google_play.loc[10472]"
      ]
    },
    {
      "cell_type": "markdown",
      "metadata": {
        "id": "gDkJXhN9fhcA"
      },
      "source": [
        "#### We see that Google Play is using a shorthand for millions. \n",
        "\n",
        "Let's write a function to transform this data.\n",
        "\n",
        "Steps:\n",
        "\n",
        "1. Create a function that returns the correct numeric values of *Reviews*.\n",
        "1. Define a test string with `M` in the last character.\n",
        "1. Test your function with the test string. Make sure your function works correctly. If not, modify your functions and test again."
      ]
    },
    {
      "cell_type": "code",
      "execution_count": 13,
      "metadata": {
        "id": "3DLRLUkYfhcA"
      },
      "outputs": [
        {
          "data": {
            "text/plain": [
              "True"
            ]
          },
          "execution_count": 13,
          "metadata": {},
          "output_type": "execute_result"
        }
      ],
      "source": [
        "# Your code here\n",
        "\n",
        "def convert_string_to_numeric(s):\n",
        "    \"\"\"\n",
        "    Convert a string value to numeric. If the last character of the string is `M`, obtain the \n",
        "    numeric part of the string, multiply it with 1,000,000, then return the result. Otherwise, \n",
        "    convert the string to numeric value and return the result.\n",
        "    \n",
        "    Args:\n",
        "        s: The Reviews score in string format.\n",
        "\n",
        "    Returns:\n",
        "        The correct numeric value of the Reviews score.\n",
        "    \"\"\"\n",
        "    if 'M' in s:\n",
        "        s = s[:-1]\n",
        "        s = float(s)\n",
        "        s =s*1000000\n",
        "    else: \n",
        "        s = float(s)\n",
        "    return s\n",
        "\n",
        "test_string = '4.0M'\n",
        "\n",
        "convert_string_to_numeric(test_string) == 4000000"
      ]
    },
    {
      "cell_type": "code",
      "execution_count": 14,
      "metadata": {},
      "outputs": [
        {
          "data": {
            "text/plain": [
              "4000000.0"
            ]
          },
          "execution_count": 14,
          "metadata": {},
          "output_type": "execute_result"
        }
      ],
      "source": [
        "convert_string_to_numeric(test_string)"
      ]
    },
    {
      "cell_type": "markdown",
      "metadata": {
        "id": "V5mvhSpafhcC"
      },
      "source": [
        "The last step is to apply the function to the `Reviews` column in the following cell:"
      ]
    },
    {
      "cell_type": "code",
      "execution_count": 15,
      "metadata": {
        "id": "cbmli9LAfhcC"
      },
      "outputs": [],
      "source": [
        "# Your code here:\n",
        "google_play['Reviews']=google_play['Reviews'].map(convert_string_to_numeric)\n"
      ]
    },
    {
      "cell_type": "markdown",
      "metadata": {
        "id": "jL-H212YfhcD"
      },
      "source": [
        "Check the non-numeric `Reviews` row again. It should have been fixed now and you should see:\n",
        "\n",
        "![Reviews_bool_fixed.png](reviews-bool-fixed.png)"
      ]
    },
    {
      "cell_type": "code",
      "execution_count": 16,
      "metadata": {
        "id": "nYqLVVZpfhcD"
      },
      "outputs": [
        {
          "data": {
            "text/plain": [
              "App               Life Made WI-Fi Touchscreen Photo Frame\n",
              "Category                                              1.9\n",
              "Rating                                               19.0\n",
              "Reviews                                         3000000.0\n",
              "Size                                               1,000+\n",
              "Installs                                             Free\n",
              "Type                                                    0\n",
              "Price                                            Everyone\n",
              "Content Rating                                        NaN\n",
              "Genres                                  February 11, 2018\n",
              "Last Updated                                       1.0.19\n",
              "Current Ver                                    4.0 and up\n",
              "Android Ver                                           NaN\n",
              "Name: 10472, dtype: object"
            ]
          },
          "execution_count": 16,
          "metadata": {},
          "output_type": "execute_result"
        }
      ],
      "source": [
        "# Your code here\n",
        "google_play.loc[Reviews_isnull[Reviews_isnull == True].index[0]]"
      ]
    },
    {
      "cell_type": "markdown",
      "metadata": {
        "id": "MK3E33YAfhcE"
      },
      "source": [
        "Also check the variable types of `google_play`. The `Reviews` column should be a `float64` type now."
      ]
    },
    {
      "cell_type": "code",
      "execution_count": 17,
      "metadata": {
        "id": "Y7Tw2lX8fhcF"
      },
      "outputs": [
        {
          "data": {
            "text/plain": [
              "App                object\n",
              "Category           object\n",
              "Rating            float64\n",
              "Reviews           float64\n",
              "Size               object\n",
              "Installs           object\n",
              "Type               object\n",
              "Price              object\n",
              "Content Rating     object\n",
              "Genres             object\n",
              "Last Updated       object\n",
              "Current Ver        object\n",
              "Android Ver        object\n",
              "dtype: object"
            ]
          },
          "execution_count": 17,
          "metadata": {},
          "output_type": "execute_result"
        }
      ],
      "source": [
        "# Your code here:\n",
        "google_play.dtypes"
      ]
    },
    {
      "cell_type": "markdown",
      "metadata": {
        "id": "49TTLiq7fhcF"
      },
      "source": [
        "#### The next column we will look at is `Size`. We start by looking at all unique values in `Size`:\n",
        "\n",
        "*Hint: use `unique()` ([documentation](https://pandas.pydata.org/pandas-docs/stable/generated/pandas.Series.unique.html))*."
      ]
    },
    {
      "cell_type": "code",
      "execution_count": 18,
      "metadata": {
        "id": "LOSnt7fMfhcF"
      },
      "outputs": [
        {
          "data": {
            "text/plain": [
              "array(['19M', '14M', '8.7M', '25M', '2.8M', '5.6M', '29M', '33M', '3.1M',\n",
              "       '28M', '12M', '20M', '21M', '37M', '2.7M', '5.5M', '17M', '39M',\n",
              "       '31M', '4.2M', '7.0M', '23M', '6.0M', '6.1M', '4.6M', '9.2M',\n",
              "       '5.2M', '11M', '24M', 'Varies with device', '9.4M', '15M', '10M',\n",
              "       '1.2M', '26M', '8.0M', '7.9M', '56M', '57M', '35M', '54M', '201k',\n",
              "       '3.6M', '5.7M', '8.6M', '2.4M', '27M', '2.5M', '16M', '3.4M',\n",
              "       '8.9M', '3.9M', '2.9M', '38M', '32M', '5.4M', '18M', '1.1M',\n",
              "       '2.2M', '4.5M', '9.8M', '52M', '9.0M', '6.7M', '30M', '2.6M',\n",
              "       '7.1M', '3.7M', '22M', '7.4M', '6.4M', '3.2M', '8.2M', '9.9M',\n",
              "       '4.9M', '9.5M', '5.0M', '5.9M', '13M', '73M', '6.8M', '3.5M',\n",
              "       '4.0M', '2.3M', '7.2M', '2.1M', '42M', '7.3M', '9.1M', '55M',\n",
              "       '23k', '6.5M', '1.5M', '7.5M', '51M', '41M', '48M', '8.5M', '46M',\n",
              "       '8.3M', '4.3M', '4.7M', '3.3M', '40M', '7.8M', '8.8M', '6.6M',\n",
              "       '5.1M', '61M', '66M', '79k', '8.4M', '118k', '44M', '695k', '1.6M',\n",
              "       '6.2M', '18k', '53M', '1.4M', '3.0M', '5.8M', '3.8M', '9.6M',\n",
              "       '45M', '63M', '49M', '77M', '4.4M', '4.8M', '70M', '6.9M', '9.3M',\n",
              "       '10.0M', '8.1M', '36M', '84M', '97M', '2.0M', '1.9M', '1.8M',\n",
              "       '5.3M', '47M', '556k', '526k', '76M', '7.6M', '59M', '9.7M', '78M',\n",
              "       '72M', '43M', '7.7M', '6.3M', '334k', '34M', '93M', '65M', '79M',\n",
              "       '100M', '58M', '50M', '68M', '64M', '67M', '60M', '94M', '232k',\n",
              "       '99M', '624k', '95M', '8.5k', '41k', '292k', '11k', '80M', '1.7M',\n",
              "       '74M', '62M', '69M', '75M', '98M', '85M', '82M', '96M', '87M',\n",
              "       '71M', '86M', '91M', '81M', '92M', '83M', '88M', '704k', '862k',\n",
              "       '899k', '378k', '266k', '375k', '1.3M', '975k', '980k', '4.1M',\n",
              "       '89M', '696k', '544k', '525k', '920k', '779k', '853k', '720k',\n",
              "       '713k', '772k', '318k', '58k', '241k', '196k', '857k', '51k',\n",
              "       '953k', '865k', '251k', '930k', '540k', '313k', '746k', '203k',\n",
              "       '26k', '314k', '239k', '371k', '220k', '730k', '756k', '91k',\n",
              "       '293k', '17k', '74k', '14k', '317k', '78k', '924k', '902k', '818k',\n",
              "       '81k', '939k', '169k', '45k', '475k', '965k', '90M', '545k', '61k',\n",
              "       '283k', '655k', '714k', '93k', '872k', '121k', '322k', '1.0M',\n",
              "       '976k', '172k', '238k', '549k', '206k', '954k', '444k', '717k',\n",
              "       '210k', '609k', '308k', '705k', '306k', '904k', '473k', '175k',\n",
              "       '350k', '383k', '454k', '421k', '70k', '812k', '442k', '842k',\n",
              "       '417k', '412k', '459k', '478k', '335k', '782k', '721k', '430k',\n",
              "       '429k', '192k', '200k', '460k', '728k', '496k', '816k', '414k',\n",
              "       '506k', '887k', '613k', '243k', '569k', '778k', '683k', '592k',\n",
              "       '319k', '186k', '840k', '647k', '191k', '373k', '437k', '598k',\n",
              "       '716k', '585k', '982k', '222k', '219k', '55k', '948k', '323k',\n",
              "       '691k', '511k', '951k', '963k', '25k', '554k', '351k', '27k',\n",
              "       '82k', '208k', '913k', '514k', '551k', '29k', '103k', '898k',\n",
              "       '743k', '116k', '153k', '209k', '353k', '499k', '173k', '597k',\n",
              "       '809k', '122k', '411k', '400k', '801k', '787k', '237k', '50k',\n",
              "       '643k', '986k', '97k', '516k', '837k', '780k', '961k', '269k',\n",
              "       '20k', '498k', '600k', '749k', '642k', '881k', '72k', '656k',\n",
              "       '601k', '221k', '228k', '108k', '940k', '176k', '33k', '663k',\n",
              "       '34k', '942k', '259k', '164k', '458k', '245k', '629k', '28k',\n",
              "       '288k', '775k', '785k', '636k', '916k', '994k', '309k', '485k',\n",
              "       '914k', '903k', '608k', '500k', '54k', '562k', '847k', '957k',\n",
              "       '688k', '811k', '270k', '48k', '329k', '523k', '921k', '874k',\n",
              "       '981k', '784k', '280k', '24k', '518k', '754k', '892k', '154k',\n",
              "       '860k', '364k', '387k', '626k', '161k', '879k', '39k', '970k',\n",
              "       '170k', '141k', '160k', '144k', '143k', '190k', '376k', '193k',\n",
              "       '246k', '73k', '658k', '992k', '253k', '420k', '404k', '1,000+',\n",
              "       '470k', '226k', '240k', '89k', '234k', '257k', '861k', '467k',\n",
              "       '157k', '44k', '676k', '67k', '552k', '885k', '1020k', '582k',\n",
              "       '619k'], dtype=object)"
            ]
          },
          "execution_count": 18,
          "metadata": {},
          "output_type": "execute_result"
        }
      ],
      "source": [
        "# Your code here:\n",
        "google_play.Size.unique()"
      ]
    },
    {
      "cell_type": "markdown",
      "metadata": {
        "id": "TciEBCyXfhcG"
      },
      "source": [
        "You should have seen lots of unique values of the app sizes.\n",
        "\n",
        "#### While we can convert most of the `Size` values to numeric in the same way we converted the `Reviews` values, there is one value that is impossible to convert.\n",
        "\n",
        "What is that badass value? Enter it in the next cell and calculate the proportion of its occurence to the total number of records of `google_play`."
      ]
    },
    {
      "cell_type": "code",
      "execution_count": 19,
      "metadata": {
        "id": "-BCYOWiYfhcG"
      },
      "outputs": [
        {
          "data": {
            "text/plain": [
              "0.15635089013928605"
            ]
          },
          "execution_count": 19,
          "metadata": {},
          "output_type": "execute_result"
        }
      ],
      "source": [
        "# Your code here:\n",
        "#The value that is causing the problems is 'Varies with device'\n",
        "ratio= len(google_play[google_play['Size']=='Varies with device'])/google_play.shape[0]\n",
        "ratio\n"
      ]
    },
    {
      "cell_type": "markdown",
      "metadata": {
        "id": "memkwXoPfhcH"
      },
      "source": [
        "#### While this column may be useful for other types of analysis, we opt to drop it from our dataset. \n",
        "\n",
        "There are two reasons. First, the majority of the data are ordinal but a sizeable proportion are missing because we cannot convert them to numerical values. Ordinal data are both numerical and categorical, and they usually can be ranked (e.g. 82k is smaller than 91M). In contrast, non-ordinal categorical data such as blood type and eye color cannot be ranked. The second reason is as a categorical column, it has too many unique values to produce meaningful insights. Therefore, in our case the simplest strategy would be to drop the column.\n",
        "\n",
        "Drop the column in the cell below (use `inplace=True`)"
      ]
    },
    {
      "cell_type": "code",
      "execution_count": 20,
      "metadata": {
        "id": "UH5vyr6WfhcH"
      },
      "outputs": [],
      "source": [
        "# Your code here:\n",
        "google_play.drop(columns='Size', inplace=True)"
      ]
    },
    {
      "cell_type": "markdown",
      "metadata": {
        "id": "t5SyM4bTfhcH"
      },
      "source": [
        "#### Now let's look at how many missing values are in each column. \n",
        "\n",
        "This will give us an idea of whether we should come up with a missing data strategy or give up on the column all together. In the next column, find the number of missing values in each column: \n",
        "\n",
        "*Hint: use the `isna()` and `sum()` functions.*"
      ]
    },
    {
      "cell_type": "code",
      "execution_count": 21,
      "metadata": {
        "id": "u-esah2afhcI"
      },
      "outputs": [
        {
          "data": {
            "text/plain": [
              "App                  0\n",
              "Category             0\n",
              "Rating            1474\n",
              "Reviews              0\n",
              "Installs             0\n",
              "Type                 1\n",
              "Price                0\n",
              "Content Rating       1\n",
              "Genres               0\n",
              "Last Updated         0\n",
              "Current Ver          8\n",
              "Android Ver          3\n",
              "dtype: int64"
            ]
          },
          "execution_count": 21,
          "metadata": {},
          "output_type": "execute_result"
        }
      ],
      "source": [
        "# Your code here:\n",
        "google_play.isna().sum()\n"
      ]
    },
    {
      "cell_type": "markdown",
      "metadata": {
        "id": "SufgsNC1fhcI"
      },
      "source": [
        "You should find the column with the most missing values is now `Rating`.\n",
        "\n",
        "#### What is the proportion of the missing values in `Rating` to the total number of records?\n",
        "\n",
        "Enter your answer in the cell below."
      ]
    },
    {
      "cell_type": "code",
      "execution_count": 22,
      "metadata": {
        "id": "7xauADUjfhcJ"
      },
      "outputs": [
        {
          "data": {
            "text/plain": [
              "0.13596531685268887"
            ]
          },
          "execution_count": 22,
          "metadata": {},
          "output_type": "execute_result"
        }
      ],
      "source": [
        "# Your code here:\n",
        "ratio= len(google_play[google_play['Rating'].isna()])/google_play.shape[0]\n",
        "ratio\n"
      ]
    },
    {
      "cell_type": "markdown",
      "metadata": {
        "id": "6nbSfbWWfhcJ"
      },
      "source": [
        "A sizeable proportion of the `Rating` column is missing. A few other columns also contain several missing values.\n",
        "\n",
        "#### We opt to preserve these columns and remove the rows containing missing data.\n",
        "\n",
        "In particular, we don't want to drop the `Rating` column because:\n",
        "\n",
        "* It is one of the most important columns in our dataset. \n",
        "\n",
        "* Since the dataset is not a time series, the loss of these rows will not have a negative impact on our ability to analyze the data. It will, however, cause us to lose some meaningful observations. But the loss is limited compared to the gain we receive by preserving these columns.\n",
        "\n",
        "In the cell below, remove all rows containing at least one missing value. Use the `dropna()` function ([documentation](https://pandas.pydata.org/pandas-docs/stable/generated/pandas.DataFrame.dropna.html)). Assign the new dataframe to the variable `google_missing_removed`."
      ]
    },
    {
      "cell_type": "code",
      "execution_count": 23,
      "metadata": {
        "id": "Tlk9qbEhfhcK"
      },
      "outputs": [],
      "source": [
        "# Your code here:\n",
        "google_missing_removed = google_play.dropna()"
      ]
    },
    {
      "cell_type": "code",
      "execution_count": 24,
      "metadata": {},
      "outputs": [
        {
          "data": {
            "text/plain": [
              "(9360, 12)"
            ]
          },
          "execution_count": 24,
          "metadata": {},
          "output_type": "execute_result"
        }
      ],
      "source": [
        "google_missing_removed.shape"
      ]
    },
    {
      "cell_type": "code",
      "execution_count": 25,
      "metadata": {},
      "outputs": [
        {
          "data": {
            "text/plain": [
              "(10841, 12)"
            ]
          },
          "execution_count": 25,
          "metadata": {},
          "output_type": "execute_result"
        }
      ],
      "source": [
        "google_play.shape"
      ]
    },
    {
      "cell_type": "markdown",
      "metadata": {
        "id": "tbCazUjNfhcK"
      },
      "source": [
        "From now on, we use the `google_missing_removed` variable instead of `google_play`.\n",
        "\n",
        "#### Next, we look at the `Last Updated` column.\n",
        "\n",
        "The `Last Updated` column seems to contain a date, though it is classified as an object type. Let's convert this column using the `pd.to_datetime` function ([documentation](https://pandas.pydata.org/pandas-docs/stable/generated/pandas.to_datetime.html))."
      ]
    },
    {
      "cell_type": "code",
      "execution_count": 26,
      "metadata": {
        "id": "ZV8lxE2JfhcL"
      },
      "outputs": [
        {
          "name": "stderr",
          "output_type": "stream",
          "text": [
            "C:\\Users\\radek\\AppData\\Local\\Temp/ipykernel_1576/2467473143.py:2: SettingWithCopyWarning: \n",
            "A value is trying to be set on a copy of a slice from a DataFrame.\n",
            "Try using .loc[row_indexer,col_indexer] = value instead\n",
            "\n",
            "See the caveats in the documentation: https://pandas.pydata.org/pandas-docs/stable/user_guide/indexing.html#returning-a-view-versus-a-copy\n",
            "  google_missing_removed['Last Updated'] = pd.to_datetime(google_missing_removed['Last Updated'])\n"
          ]
        }
      ],
      "source": [
        "# Your code here:\n",
        "google_missing_removed['Last Updated'] = pd.to_datetime(google_missing_removed['Last Updated'])"
      ]
    },
    {
      "cell_type": "code",
      "execution_count": 27,
      "metadata": {},
      "outputs": [
        {
          "data": {
            "text/plain": [
              "App                       object\n",
              "Category                  object\n",
              "Rating                   float64\n",
              "Reviews                  float64\n",
              "Installs                  object\n",
              "Type                      object\n",
              "Price                     object\n",
              "Content Rating            object\n",
              "Genres                    object\n",
              "Last Updated      datetime64[ns]\n",
              "Current Ver               object\n",
              "Android Ver               object\n",
              "dtype: object"
            ]
          },
          "execution_count": 27,
          "metadata": {},
          "output_type": "execute_result"
        }
      ],
      "source": [
        "google_missing_removed.dtypes"
      ]
    },
    {
      "cell_type": "markdown",
      "metadata": {
        "id": "8ctUrk4DfhcL"
      },
      "source": [
        "#### The last column we will transform is `Price`. \n",
        "\n",
        "We start by looking at the unique values of this column."
      ]
    },
    {
      "cell_type": "code",
      "execution_count": 28,
      "metadata": {
        "id": "Y1GAvf7sfhcL"
      },
      "outputs": [
        {
          "data": {
            "text/plain": [
              "array(['0', '$4.99', '$3.99', '$6.99', '$7.99', '$5.99', '$2.99', '$3.49',\n",
              "       '$1.99', '$9.99', '$7.49', '$0.99', '$9.00', '$5.49', '$10.00',\n",
              "       '$24.99', '$11.99', '$79.99', '$16.99', '$14.99', '$29.99',\n",
              "       '$12.99', '$2.49', '$10.99', '$1.50', '$19.99', '$15.99', '$33.99',\n",
              "       '$39.99', '$3.95', '$4.49', '$1.70', '$8.99', '$1.49', '$3.88',\n",
              "       '$399.99', '$17.99', '$400.00', '$3.02', '$1.76', '$4.84', '$4.77',\n",
              "       '$1.61', '$2.50', '$1.59', '$6.49', '$1.29', '$299.99', '$379.99',\n",
              "       '$37.99', '$18.99', '$389.99', '$8.49', '$1.75', '$14.00', '$2.00',\n",
              "       '$3.08', '$2.59', '$19.40', '$3.90', '$4.59', '$15.46', '$3.04',\n",
              "       '$13.99', '$4.29', '$3.28', '$4.60', '$1.00', '$2.95', '$2.90',\n",
              "       '$1.97', '$2.56', '$1.20'], dtype=object)"
            ]
          },
          "execution_count": 28,
          "metadata": {},
          "output_type": "execute_result"
        }
      ],
      "source": [
        "# Your code here:\n",
        "google_missing_removed['Price'].unique()"
      ]
    },
    {
      "cell_type": "markdown",
      "metadata": {
        "id": "UfPYpqjHfhcM"
      },
      "source": [
        "Since all prices are ordinal data without exceptions, we can tranform this column by removing the dollar sign and converting to numeric. We can create a new column called `Price Numerical` and drop the original column.\n",
        "\n",
        "We will achieve our goal in three steps. Follow the instructions of each step below.\n",
        "\n",
        "#### First we remove the dollar sign. Do this in the next cell by applying the `str.replace` function to the column to replace `$` with an empty string (`''`)."
      ]
    },
    {
      "cell_type": "code",
      "execution_count": 29,
      "metadata": {
        "id": "l42htAspfhcM"
      },
      "outputs": [
        {
          "name": "stderr",
          "output_type": "stream",
          "text": [
            "C:\\Users\\radek\\AppData\\Local\\Temp/ipykernel_1576/1045734299.py:2: FutureWarning: The default value of regex will change from True to False in a future version. In addition, single character regular expressions will *not* be treated as literal strings when regex=True.\n",
            "  google_missing_removed['Price Numerical'] = google_missing_removed['Price'].str.replace('$', '')\n",
            "C:\\Users\\radek\\AppData\\Local\\Temp/ipykernel_1576/1045734299.py:2: SettingWithCopyWarning: \n",
            "A value is trying to be set on a copy of a slice from a DataFrame.\n",
            "Try using .loc[row_indexer,col_indexer] = value instead\n",
            "\n",
            "See the caveats in the documentation: https://pandas.pydata.org/pandas-docs/stable/user_guide/indexing.html#returning-a-view-versus-a-copy\n",
            "  google_missing_removed['Price Numerical'] = google_missing_removed['Price'].str.replace('$', '')\n"
          ]
        }
      ],
      "source": [
        "# Your code here:\n",
        "google_missing_removed['Price Numerical'] = google_missing_removed['Price'].str.replace('$', '')"
      ]
    },
    {
      "cell_type": "markdown",
      "metadata": {
        "id": "oDMV_zHffhcM"
      },
      "source": [
        "#### Second step, coerce the `Price Numerical` column to numeric."
      ]
    },
    {
      "cell_type": "code",
      "execution_count": 30,
      "metadata": {
        "id": "IXq9POEtfhcN"
      },
      "outputs": [
        {
          "name": "stderr",
          "output_type": "stream",
          "text": [
            "C:\\Users\\radek\\AppData\\Local\\Temp/ipykernel_1576/4119495627.py:2: SettingWithCopyWarning: \n",
            "A value is trying to be set on a copy of a slice from a DataFrame.\n",
            "Try using .loc[row_indexer,col_indexer] = value instead\n",
            "\n",
            "See the caveats in the documentation: https://pandas.pydata.org/pandas-docs/stable/user_guide/indexing.html#returning-a-view-versus-a-copy\n",
            "  google_missing_removed['Price Numerical']=pd.to_numeric(google_missing_removed['Price Numerical'], errors='coerce')\n"
          ]
        }
      ],
      "source": [
        "# Your code here:\n",
        "google_missing_removed['Price Numerical']=pd.to_numeric(google_missing_removed['Price Numerical'], errors='coerce')"
      ]
    },
    {
      "cell_type": "code",
      "execution_count": 31,
      "metadata": {},
      "outputs": [
        {
          "data": {
            "text/plain": [
              "array([  0.  ,   4.99,   3.99,   6.99,   7.99,   5.99,   2.99,   3.49,\n",
              "         1.99,   9.99,   7.49,   0.99,   9.  ,   5.49,  10.  ,  24.99,\n",
              "        11.99,  79.99,  16.99,  14.99,  29.99,  12.99,   2.49,  10.99,\n",
              "         1.5 ,  19.99,  15.99,  33.99,  39.99,   3.95,   4.49,   1.7 ,\n",
              "         8.99,   1.49,   3.88, 399.99,  17.99, 400.  ,   3.02,   1.76,\n",
              "         4.84,   4.77,   1.61,   2.5 ,   1.59,   6.49,   1.29, 299.99,\n",
              "       379.99,  37.99,  18.99, 389.99,   8.49,   1.75,  14.  ,   2.  ,\n",
              "         3.08,   2.59,  19.4 ,   3.9 ,   4.59,  15.46,   3.04,  13.99,\n",
              "         4.29,   3.28,   4.6 ,   1.  ,   2.95,   2.9 ,   1.97,   2.56,\n",
              "         1.2 ])"
            ]
          },
          "execution_count": 31,
          "metadata": {},
          "output_type": "execute_result"
        }
      ],
      "source": [
        "google_missing_removed['Price Numerical'].unique()"
      ]
    },
    {
      "cell_type": "markdown",
      "metadata": {
        "id": "GjHJN5jIfhcN"
      },
      "source": [
        "**Finally, drop the original `Price` column.**"
      ]
    },
    {
      "cell_type": "code",
      "execution_count": 32,
      "metadata": {
        "id": "uMHBFe_1fhcN"
      },
      "outputs": [
        {
          "name": "stderr",
          "output_type": "stream",
          "text": [
            "C:\\Users\\radek\\Anaconda3\\lib\\site-packages\\pandas\\core\\frame.py:4906: SettingWithCopyWarning: \n",
            "A value is trying to be set on a copy of a slice from a DataFrame\n",
            "\n",
            "See the caveats in the documentation: https://pandas.pydata.org/pandas-docs/stable/user_guide/indexing.html#returning-a-view-versus-a-copy\n",
            "  return super().drop(\n"
          ]
        }
      ],
      "source": [
        "# Your code here:\n",
        "google_missing_removed.drop(columns='Price', inplace=True)"
      ]
    },
    {
      "cell_type": "markdown",
      "metadata": {
        "id": "VQdgVdxEfhcO"
      },
      "source": [
        "Now check the variable types of `google_missing_removed`. Make sure:\n",
        "\n",
        "* `Size` and `Price` columns have been removed.\n",
        "* `Rating`, `Reviews`, and `Price Numerical` have the type of `float64`.\n",
        "* `Last Updated` has the type of `datetime64`."
      ]
    },
    {
      "cell_type": "code",
      "execution_count": 33,
      "metadata": {
        "id": "2Z0K5PNZfhcO"
      },
      "outputs": [
        {
          "data": {
            "text/plain": [
              "App                        object\n",
              "Category                   object\n",
              "Rating                    float64\n",
              "Reviews                   float64\n",
              "Installs                   object\n",
              "Type                       object\n",
              "Content Rating             object\n",
              "Genres                     object\n",
              "Last Updated       datetime64[ns]\n",
              "Current Ver                object\n",
              "Android Ver                object\n",
              "Price Numerical           float64\n",
              "dtype: object"
            ]
          },
          "execution_count": 33,
          "metadata": {},
          "output_type": "execute_result"
        }
      ],
      "source": [
        "# Your code here\n",
        "google_missing_removed.dtypes"
      ]
    },
    {
      "cell_type": "markdown",
      "metadata": {
        "id": "QcYL2Zh7fhcO"
      },
      "source": [
        "# Challenge 2 - Loading and Extracting Features from the Second Dataset"
      ]
    },
    {
      "cell_type": "markdown",
      "metadata": {
        "id": "prHjUxNofhcP"
      },
      "source": [
        "Load the second dataset to the variable `google_reviews`. The data is in the file `googleplaystore_user_reviews.csv`."
      ]
    },
    {
      "cell_type": "code",
      "execution_count": 34,
      "metadata": {
        "id": "K6Byv70wfhcP"
      },
      "outputs": [],
      "source": [
        "# Your code here:\n",
        "\n",
        "google_review = pd.read_csv(r'C:\\Users\\radek\\IronHack\\IronRadek\\Week7\\Day3\\5. Feature-Extraction\\data\\googleplaystore_user_reviews.csv')"
      ]
    },
    {
      "cell_type": "markdown",
      "metadata": {
        "id": "128J08eFfhcP"
      },
      "source": [
        "#### This dataset contains the top 100 reviews for each app. \n",
        "\n",
        "Let's examine this dataset using the `head` function"
      ]
    },
    {
      "cell_type": "code",
      "execution_count": 35,
      "metadata": {
        "id": "Ler-taRKfhcQ"
      },
      "outputs": [
        {
          "data": {
            "text/html": [
              "<div>\n",
              "<style scoped>\n",
              "    .dataframe tbody tr th:only-of-type {\n",
              "        vertical-align: middle;\n",
              "    }\n",
              "\n",
              "    .dataframe tbody tr th {\n",
              "        vertical-align: top;\n",
              "    }\n",
              "\n",
              "    .dataframe thead th {\n",
              "        text-align: right;\n",
              "    }\n",
              "</style>\n",
              "<table border=\"1\" class=\"dataframe\">\n",
              "  <thead>\n",
              "    <tr style=\"text-align: right;\">\n",
              "      <th></th>\n",
              "      <th>App</th>\n",
              "      <th>Translated_Review</th>\n",
              "      <th>Sentiment</th>\n",
              "      <th>Sentiment_Polarity</th>\n",
              "      <th>Sentiment_Subjectivity</th>\n",
              "    </tr>\n",
              "  </thead>\n",
              "  <tbody>\n",
              "    <tr>\n",
              "      <th>0</th>\n",
              "      <td>10 Best Foods for You</td>\n",
              "      <td>I like eat delicious food. That's I'm cooking ...</td>\n",
              "      <td>Positive</td>\n",
              "      <td>1.00</td>\n",
              "      <td>0.533333</td>\n",
              "    </tr>\n",
              "    <tr>\n",
              "      <th>1</th>\n",
              "      <td>10 Best Foods for You</td>\n",
              "      <td>This help eating healthy exercise regular basis</td>\n",
              "      <td>Positive</td>\n",
              "      <td>0.25</td>\n",
              "      <td>0.288462</td>\n",
              "    </tr>\n",
              "    <tr>\n",
              "      <th>2</th>\n",
              "      <td>10 Best Foods for You</td>\n",
              "      <td>NaN</td>\n",
              "      <td>NaN</td>\n",
              "      <td>NaN</td>\n",
              "      <td>NaN</td>\n",
              "    </tr>\n",
              "    <tr>\n",
              "      <th>3</th>\n",
              "      <td>10 Best Foods for You</td>\n",
              "      <td>Works great especially going grocery store</td>\n",
              "      <td>Positive</td>\n",
              "      <td>0.40</td>\n",
              "      <td>0.875000</td>\n",
              "    </tr>\n",
              "    <tr>\n",
              "      <th>4</th>\n",
              "      <td>10 Best Foods for You</td>\n",
              "      <td>Best idea us</td>\n",
              "      <td>Positive</td>\n",
              "      <td>1.00</td>\n",
              "      <td>0.300000</td>\n",
              "    </tr>\n",
              "  </tbody>\n",
              "</table>\n",
              "</div>"
            ],
            "text/plain": [
              "                     App                                  Translated_Review  \\\n",
              "0  10 Best Foods for You  I like eat delicious food. That's I'm cooking ...   \n",
              "1  10 Best Foods for You    This help eating healthy exercise regular basis   \n",
              "2  10 Best Foods for You                                                NaN   \n",
              "3  10 Best Foods for You         Works great especially going grocery store   \n",
              "4  10 Best Foods for You                                       Best idea us   \n",
              "\n",
              "  Sentiment  Sentiment_Polarity  Sentiment_Subjectivity  \n",
              "0  Positive                1.00                0.533333  \n",
              "1  Positive                0.25                0.288462  \n",
              "2       NaN                 NaN                     NaN  \n",
              "3  Positive                0.40                0.875000  \n",
              "4  Positive                1.00                0.300000  "
            ]
          },
          "execution_count": 35,
          "metadata": {},
          "output_type": "execute_result"
        }
      ],
      "source": [
        "# Your code here\n",
        "google_review.head()\n"
      ]
    },
    {
      "cell_type": "markdown",
      "metadata": {
        "id": "auNRd2TjfhcQ"
      },
      "source": [
        "#### The main piece of information we would like to extract from this dataset is the proportion of positive reviews of each app. \n",
        "\n",
        "Columns like `Sentiment_Polarity` and `Sentiment_Subjectivity` are not to our interests because we have no clue how to use them. We do not care about `Translated_Review` because natural language processing is too complex for us at present (in fact the `Sentiment`, `Sentiment_Polarity`, and `Sentiment_Subjectivity` columns are derived from `Translated_Review` the data scientists). \n",
        "\n",
        "What we care about in this challenge is `Sentiment`. To be more precise, we care about **what is the proportion of *Positive* sentiment of each app**. This will require us to aggregate the `Sentiment` data by `App` in order to calculate the proportions.\n",
        "\n",
        "Now that you are clear about what we are trying to achieve, follow the steps below that will walk you through towards our goal."
      ]
    },
    {
      "cell_type": "markdown",
      "metadata": {
        "id": "x6NQcl_vfhcR"
      },
      "source": [
        "#### Our first step will be to remove all rows with missing sentiment. \n",
        "\n",
        "In the next cell, drop all rows with missing data using the `dropna()` function and assign this new dataframe to `review_missing_removed`."
      ]
    },
    {
      "cell_type": "code",
      "execution_count": 36,
      "metadata": {
        "id": "vECNpngxfhcR"
      },
      "outputs": [],
      "source": [
        "# Your code here:\n",
        "review_missing_removed = google_review.dropna()"
      ]
    },
    {
      "cell_type": "markdown",
      "metadata": {
        "id": "m1cfmFmWfhcS"
      },
      "source": [
        "#### Now, use the `value_counts()` function ([documentation](https://pandas.pydata.org/pandas-docs/stable/generated/pandas.Series.value_counts.html)) to get a sense on how many apps are in this dataset and their review counts."
      ]
    },
    {
      "cell_type": "code",
      "execution_count": 37,
      "metadata": {
        "id": "ihd2E23NfhcS"
      },
      "outputs": [
        {
          "data": {
            "text/plain": [
              "Bowmasters                        312\n",
              "Helix Jump                        273\n",
              "Angry Birds Classic               273\n",
              "Calorie Counter - MyFitnessPal    254\n",
              "Duolingo: Learn Languages Free    240\n",
              "                                 ... \n",
              "Draw a Stickman: EPIC 2             1\n",
              "HD Camera                           1\n",
              "Draw In                             1\n",
              "Draw A Stickman                     1\n",
              "Best Fiends - Free Puzzle Game      1\n",
              "Name: App, Length: 865, dtype: int64"
            ]
          },
          "execution_count": 37,
          "metadata": {},
          "output_type": "execute_result"
        }
      ],
      "source": [
        "# Your code here:\n",
        "review_missing_removed.App.value_counts()"
      ]
    },
    {
      "cell_type": "markdown",
      "metadata": {
        "id": "eNxu-scifhcT"
      },
      "source": [
        "#### Now the tough part comes. Let's plan how we will achieve our goal:\n",
        "\n",
        "1. We will count the number of reviews that contain *Positive* in the `Sentiment` column.\n",
        "\n",
        "1. We will create a new dataframe to contain the `App` name, the number of positive reviews, and the total number of reviews of each app.\n",
        "\n",
        "1. We will then loop the new dataframe to calculate the postivie review portion of each app."
      ]
    },
    {
      "cell_type": "markdown",
      "metadata": {
        "id": "o0Llo0cNfhcT"
      },
      "source": [
        "#### Step 1: Count the number of positive reviews.\n",
        "\n",
        "In the following cell, write a function that takes a column and returns the number of times *Positive* appears in the column. \n",
        "\n",
        "*Hint: One option is to use the `np.where()` function ([documentation](https://docs.scipy.org/doc/numpy-1.13.0/reference/generated/numpy.where.html)).*"
      ]
    },
    {
      "cell_type": "code",
      "execution_count": 38,
      "metadata": {
        "id": "_sFFkhM1fhcT"
      },
      "outputs": [],
      "source": [
        "# Your code below\n",
        "\n",
        "def positive_function(x):\n",
        "    \"\"\"\n",
        "    Count how many times the string `Positive` appears in a column (exact string match).\n",
        "    \n",
        "    Args:\n",
        "        x: data column\n",
        "    \n",
        "    Returns:\n",
        "        The number of occurrences of `Positive` in the column data.\n",
        "    \"\"\"\n",
        "    x_num = np.where(x=='Positive',1,0)\n",
        "    return x_num.sum()"
      ]
    },
    {
      "cell_type": "code",
      "execution_count": 39,
      "metadata": {},
      "outputs": [
        {
          "data": {
            "text/plain": [
              "23998"
            ]
          },
          "execution_count": 39,
          "metadata": {},
          "output_type": "execute_result"
        }
      ],
      "source": [
        "#In the cell belows I check if the function works properly\n",
        "positive_function(review_missing_removed.Sentiment)"
      ]
    },
    {
      "cell_type": "code",
      "execution_count": 40,
      "metadata": {},
      "outputs": [
        {
          "data": {
            "text/plain": [
              "Positive    23998\n",
              "Negative     8271\n",
              "Neutral      5158\n",
              "Name: Sentiment, dtype: int64"
            ]
          },
          "execution_count": 40,
          "metadata": {},
          "output_type": "execute_result"
        }
      ],
      "source": [
        "review_missing_removed.Sentiment.value_counts()"
      ]
    },
    {
      "cell_type": "markdown",
      "metadata": {
        "id": "Aj0qu-_1fhcU"
      },
      "source": [
        "#### Step 2: Create a new dataframe to contain the `App` name, the number of positive reviews, and the total number of reviews of each app\n",
        "\n",
        "We will group `review_missing_removed` by the `App` column, then aggregate the grouped dataframe on the number of positive reviews and the total review counts of each app. The result will be assigned to a new variable `google_agg`. Here is the ([documentation on how to achieve it](https://pandas.pydata.org/pandas-docs/stable/generated/pandas.core.groupby.DataFrameGroupBy.agg.html)). Take a moment or two to read the documentation and google examples because it is pretty complex.\n",
        "\n",
        "When you obtain `google_agg`, check its values to make sure it has an `App` column as its index as well as a `Positive` column and a `Total` column. Your output should look like:\n",
        "\n",
        "![Positive Reviews Agg](positive-review-agg.png)\n",
        "\n",
        "*Hint: Use `positive_function` you created earlier as part of the param passed to the `agg()` function in order to aggregate the number of positive reviews.*\n",
        "\n",
        "#### Bonus:\n",
        "\n",
        "As of Pandas v0.23.4, you may opt to supply an array or an object to `agg()`. If you use the array param, you'll need to rename the columns so that their names are `Positive` and `Total`. Using the object param will allow you to create the aggregated columns with the desirable names without renaming them. However, you will probably encounter a warning indicating supplying an object to `agg()` will become outdated. It's up to you which way you will use. Try both ways out. Any way is fine as long as it works."
      ]
    },
    {
      "cell_type": "code",
      "execution_count": 41,
      "metadata": {
        "id": "9k496CGlfhcV"
      },
      "outputs": [],
      "source": [
        "# Your code here:\n",
        "google_agg = review_missing_removed.groupby('App')['Sentiment'].agg(positive=positive_function, total='count')"
      ]
    },
    {
      "cell_type": "code",
      "execution_count": 42,
      "metadata": {},
      "outputs": [
        {
          "data": {
            "text/html": [
              "<div>\n",
              "<style scoped>\n",
              "    .dataframe tbody tr th:only-of-type {\n",
              "        vertical-align: middle;\n",
              "    }\n",
              "\n",
              "    .dataframe tbody tr th {\n",
              "        vertical-align: top;\n",
              "    }\n",
              "\n",
              "    .dataframe thead th {\n",
              "        text-align: right;\n",
              "    }\n",
              "</style>\n",
              "<table border=\"1\" class=\"dataframe\">\n",
              "  <thead>\n",
              "    <tr style=\"text-align: right;\">\n",
              "      <th></th>\n",
              "      <th>positive</th>\n",
              "      <th>total</th>\n",
              "    </tr>\n",
              "    <tr>\n",
              "      <th>App</th>\n",
              "      <th></th>\n",
              "      <th></th>\n",
              "    </tr>\n",
              "  </thead>\n",
              "  <tbody>\n",
              "    <tr>\n",
              "      <th>10 Best Foods for You</th>\n",
              "      <td>162</td>\n",
              "      <td>194</td>\n",
              "    </tr>\n",
              "    <tr>\n",
              "      <th>104 找工作 - 找工作 找打工 找兼職 履歷健檢 履歷診療室</th>\n",
              "      <td>31</td>\n",
              "      <td>40</td>\n",
              "    </tr>\n",
              "    <tr>\n",
              "      <th>11st</th>\n",
              "      <td>23</td>\n",
              "      <td>39</td>\n",
              "    </tr>\n",
              "    <tr>\n",
              "      <th>1800 Contacts - Lens Store</th>\n",
              "      <td>64</td>\n",
              "      <td>80</td>\n",
              "    </tr>\n",
              "    <tr>\n",
              "      <th>1LINE – One Line with One Touch</th>\n",
              "      <td>27</td>\n",
              "      <td>38</td>\n",
              "    </tr>\n",
              "    <tr>\n",
              "      <th>...</th>\n",
              "      <td>...</td>\n",
              "      <td>...</td>\n",
              "    </tr>\n",
              "    <tr>\n",
              "      <th>Hotels.com: Book Hotel Rooms &amp; Find Vacation Deals</th>\n",
              "      <td>39</td>\n",
              "      <td>68</td>\n",
              "    </tr>\n",
              "    <tr>\n",
              "      <th>Hotspot Shield Free VPN Proxy &amp; Wi-Fi Security</th>\n",
              "      <td>17</td>\n",
              "      <td>34</td>\n",
              "    </tr>\n",
              "    <tr>\n",
              "      <th>Hotstar</th>\n",
              "      <td>14</td>\n",
              "      <td>32</td>\n",
              "    </tr>\n",
              "    <tr>\n",
              "      <th>Hotwire Hotel &amp; Car Rental App</th>\n",
              "      <td>16</td>\n",
              "      <td>33</td>\n",
              "    </tr>\n",
              "    <tr>\n",
              "      <th>Housing-Real Estate &amp; Property</th>\n",
              "      <td>8</td>\n",
              "      <td>21</td>\n",
              "    </tr>\n",
              "  </tbody>\n",
              "</table>\n",
              "<p>865 rows × 2 columns</p>\n",
              "</div>"
            ],
            "text/plain": [
              "                                                    positive  total\n",
              "App                                                                \n",
              "10 Best Foods for You                                    162    194\n",
              "104 找工作 - 找工作 找打工 找兼職 履歷健檢 履歷診療室                          31     40\n",
              "11st                                                      23     39\n",
              "1800 Contacts - Lens Store                                64     80\n",
              "1LINE – One Line with One Touch                           27     38\n",
              "...                                                      ...    ...\n",
              "Hotels.com: Book Hotel Rooms & Find Vacation Deals        39     68\n",
              "Hotspot Shield Free VPN Proxy & Wi-Fi Security            17     34\n",
              "Hotstar                                                   14     32\n",
              "Hotwire Hotel & Car Rental App                            16     33\n",
              "Housing-Real Estate & Property                             8     21\n",
              "\n",
              "[865 rows x 2 columns]"
            ]
          },
          "execution_count": 42,
          "metadata": {},
          "output_type": "execute_result"
        }
      ],
      "source": [
        "google_agg"
      ]
    },
    {
      "cell_type": "markdown",
      "metadata": {
        "id": "r_MhV5N7fhcW"
      },
      "source": [
        "Print the first 5 rows of `google_agg` to check it."
      ]
    },
    {
      "cell_type": "code",
      "execution_count": 43,
      "metadata": {
        "id": "_eNSsiRVfhcW"
      },
      "outputs": [
        {
          "data": {
            "text/html": [
              "<div>\n",
              "<style scoped>\n",
              "    .dataframe tbody tr th:only-of-type {\n",
              "        vertical-align: middle;\n",
              "    }\n",
              "\n",
              "    .dataframe tbody tr th {\n",
              "        vertical-align: top;\n",
              "    }\n",
              "\n",
              "    .dataframe thead th {\n",
              "        text-align: right;\n",
              "    }\n",
              "</style>\n",
              "<table border=\"1\" class=\"dataframe\">\n",
              "  <thead>\n",
              "    <tr style=\"text-align: right;\">\n",
              "      <th></th>\n",
              "      <th>positive</th>\n",
              "      <th>total</th>\n",
              "    </tr>\n",
              "    <tr>\n",
              "      <th>App</th>\n",
              "      <th></th>\n",
              "      <th></th>\n",
              "    </tr>\n",
              "  </thead>\n",
              "  <tbody>\n",
              "    <tr>\n",
              "      <th>10 Best Foods for You</th>\n",
              "      <td>162</td>\n",
              "      <td>194</td>\n",
              "    </tr>\n",
              "    <tr>\n",
              "      <th>104 找工作 - 找工作 找打工 找兼職 履歷健檢 履歷診療室</th>\n",
              "      <td>31</td>\n",
              "      <td>40</td>\n",
              "    </tr>\n",
              "    <tr>\n",
              "      <th>11st</th>\n",
              "      <td>23</td>\n",
              "      <td>39</td>\n",
              "    </tr>\n",
              "    <tr>\n",
              "      <th>1800 Contacts - Lens Store</th>\n",
              "      <td>64</td>\n",
              "      <td>80</td>\n",
              "    </tr>\n",
              "    <tr>\n",
              "      <th>1LINE – One Line with One Touch</th>\n",
              "      <td>27</td>\n",
              "      <td>38</td>\n",
              "    </tr>\n",
              "  </tbody>\n",
              "</table>\n",
              "</div>"
            ],
            "text/plain": [
              "                                  positive  total\n",
              "App                                              \n",
              "10 Best Foods for You                  162    194\n",
              "104 找工作 - 找工作 找打工 找兼職 履歷健檢 履歷診療室        31     40\n",
              "11st                                    23     39\n",
              "1800 Contacts - Lens Store              64     80\n",
              "1LINE – One Line with One Touch         27     38"
            ]
          },
          "execution_count": 43,
          "metadata": {},
          "output_type": "execute_result"
        }
      ],
      "source": [
        "# Your code here\n",
        "google_agg.head()"
      ]
    },
    {
      "cell_type": "markdown",
      "metadata": {
        "id": "aNZMlA9RfhcX"
      },
      "source": [
        "#### Add a derived column to `google_agg` that is the ratio of the `Positive` and the `Total` columns. Call this column `Positive Ratio`. \n",
        "\n",
        "Make sure to account for the case where the denominator is zero using the `np.where()` function."
      ]
    },
    {
      "cell_type": "code",
      "execution_count": 44,
      "metadata": {
        "id": "ATzCD8egfhcY"
      },
      "outputs": [],
      "source": [
        "# Your code here:\n",
        "google_agg['Positive Ratio']=np.where(google_agg.total !=0, google_agg.positive/google_agg.total, 0)"
      ]
    },
    {
      "cell_type": "code",
      "execution_count": 45,
      "metadata": {},
      "outputs": [
        {
          "data": {
            "text/html": [
              "<div>\n",
              "<style scoped>\n",
              "    .dataframe tbody tr th:only-of-type {\n",
              "        vertical-align: middle;\n",
              "    }\n",
              "\n",
              "    .dataframe tbody tr th {\n",
              "        vertical-align: top;\n",
              "    }\n",
              "\n",
              "    .dataframe thead th {\n",
              "        text-align: right;\n",
              "    }\n",
              "</style>\n",
              "<table border=\"1\" class=\"dataframe\">\n",
              "  <thead>\n",
              "    <tr style=\"text-align: right;\">\n",
              "      <th></th>\n",
              "      <th>positive</th>\n",
              "      <th>total</th>\n",
              "      <th>Positive Ratio</th>\n",
              "    </tr>\n",
              "    <tr>\n",
              "      <th>App</th>\n",
              "      <th></th>\n",
              "      <th></th>\n",
              "      <th></th>\n",
              "    </tr>\n",
              "  </thead>\n",
              "  <tbody>\n",
              "    <tr>\n",
              "      <th>10 Best Foods for You</th>\n",
              "      <td>162</td>\n",
              "      <td>194</td>\n",
              "      <td>0.835052</td>\n",
              "    </tr>\n",
              "    <tr>\n",
              "      <th>104 找工作 - 找工作 找打工 找兼職 履歷健檢 履歷診療室</th>\n",
              "      <td>31</td>\n",
              "      <td>40</td>\n",
              "      <td>0.775000</td>\n",
              "    </tr>\n",
              "    <tr>\n",
              "      <th>11st</th>\n",
              "      <td>23</td>\n",
              "      <td>39</td>\n",
              "      <td>0.589744</td>\n",
              "    </tr>\n",
              "    <tr>\n",
              "      <th>1800 Contacts - Lens Store</th>\n",
              "      <td>64</td>\n",
              "      <td>80</td>\n",
              "      <td>0.800000</td>\n",
              "    </tr>\n",
              "    <tr>\n",
              "      <th>1LINE – One Line with One Touch</th>\n",
              "      <td>27</td>\n",
              "      <td>38</td>\n",
              "      <td>0.710526</td>\n",
              "    </tr>\n",
              "  </tbody>\n",
              "</table>\n",
              "</div>"
            ],
            "text/plain": [
              "                                  positive  total  Positive Ratio\n",
              "App                                                              \n",
              "10 Best Foods for You                  162    194        0.835052\n",
              "104 找工作 - 找工作 找打工 找兼職 履歷健檢 履歷診療室        31     40        0.775000\n",
              "11st                                    23     39        0.589744\n",
              "1800 Contacts - Lens Store              64     80        0.800000\n",
              "1LINE – One Line with One Touch         27     38        0.710526"
            ]
          },
          "execution_count": 45,
          "metadata": {},
          "output_type": "execute_result"
        }
      ],
      "source": [
        "google_agg.head()"
      ]
    },
    {
      "cell_type": "markdown",
      "metadata": {
        "id": "LTOHBfanfhcY"
      },
      "source": [
        "#### Now drop the `Positive` and `Total` columns. Do this with `inplace=True`."
      ]
    },
    {
      "cell_type": "code",
      "execution_count": 46,
      "metadata": {
        "id": "d4cPgxl0fhcZ"
      },
      "outputs": [],
      "source": [
        "# Your code here:\n",
        "google_agg.drop(columns=['positive','total'], inplace=True)"
      ]
    },
    {
      "cell_type": "markdown",
      "metadata": {
        "id": "dxlD7394fhcZ"
      },
      "source": [
        "Print the first 5 rows of `google_agg`. Your output should look like:\n",
        "\n",
        "![Positive Reviews Agg](positive-review-ratio.png)"
      ]
    },
    {
      "cell_type": "code",
      "execution_count": 47,
      "metadata": {
        "id": "xMpEUPm9fhca"
      },
      "outputs": [
        {
          "data": {
            "text/html": [
              "<div>\n",
              "<style scoped>\n",
              "    .dataframe tbody tr th:only-of-type {\n",
              "        vertical-align: middle;\n",
              "    }\n",
              "\n",
              "    .dataframe tbody tr th {\n",
              "        vertical-align: top;\n",
              "    }\n",
              "\n",
              "    .dataframe thead th {\n",
              "        text-align: right;\n",
              "    }\n",
              "</style>\n",
              "<table border=\"1\" class=\"dataframe\">\n",
              "  <thead>\n",
              "    <tr style=\"text-align: right;\">\n",
              "      <th></th>\n",
              "      <th>Positive Ratio</th>\n",
              "    </tr>\n",
              "    <tr>\n",
              "      <th>App</th>\n",
              "      <th></th>\n",
              "    </tr>\n",
              "  </thead>\n",
              "  <tbody>\n",
              "    <tr>\n",
              "      <th>10 Best Foods for You</th>\n",
              "      <td>0.835052</td>\n",
              "    </tr>\n",
              "    <tr>\n",
              "      <th>104 找工作 - 找工作 找打工 找兼職 履歷健檢 履歷診療室</th>\n",
              "      <td>0.775000</td>\n",
              "    </tr>\n",
              "    <tr>\n",
              "      <th>11st</th>\n",
              "      <td>0.589744</td>\n",
              "    </tr>\n",
              "    <tr>\n",
              "      <th>1800 Contacts - Lens Store</th>\n",
              "      <td>0.800000</td>\n",
              "    </tr>\n",
              "    <tr>\n",
              "      <th>1LINE – One Line with One Touch</th>\n",
              "      <td>0.710526</td>\n",
              "    </tr>\n",
              "  </tbody>\n",
              "</table>\n",
              "</div>"
            ],
            "text/plain": [
              "                                  Positive Ratio\n",
              "App                                             \n",
              "10 Best Foods for You                   0.835052\n",
              "104 找工作 - 找工作 找打工 找兼職 履歷健檢 履歷診療室        0.775000\n",
              "11st                                    0.589744\n",
              "1800 Contacts - Lens Store              0.800000\n",
              "1LINE – One Line with One Touch         0.710526"
            ]
          },
          "execution_count": 47,
          "metadata": {},
          "output_type": "execute_result"
        }
      ],
      "source": [
        "# Your code here:\n",
        "google_agg.head()"
      ]
    },
    {
      "cell_type": "markdown",
      "metadata": {
        "id": "ERLWPV5efhca"
      },
      "source": [
        "# Challenge 3 - Join the Dataframes\n",
        "\n",
        "In this part of the lab, we will join the two dataframes and obtain a dataframe that contains features we can use in our ML algorithm.\n",
        "\n",
        "In the next cell, join the `google_missing_removed` dataframe with the `google_agg` dataframe on the `App` column. Assign this dataframe to the variable `google`."
      ]
    },
    {
      "cell_type": "code",
      "execution_count": 48,
      "metadata": {
        "id": "7srN0WIzfhca"
      },
      "outputs": [],
      "source": [
        "# Your code here:\n",
        "google = pd.merge(google_missing_removed, google_agg, left_on ='App', right_on= 'App')"
      ]
    },
    {
      "cell_type": "code",
      "execution_count": 49,
      "metadata": {},
      "outputs": [
        {
          "data": {
            "text/html": [
              "<div>\n",
              "<style scoped>\n",
              "    .dataframe tbody tr th:only-of-type {\n",
              "        vertical-align: middle;\n",
              "    }\n",
              "\n",
              "    .dataframe tbody tr th {\n",
              "        vertical-align: top;\n",
              "    }\n",
              "\n",
              "    .dataframe thead th {\n",
              "        text-align: right;\n",
              "    }\n",
              "</style>\n",
              "<table border=\"1\" class=\"dataframe\">\n",
              "  <thead>\n",
              "    <tr style=\"text-align: right;\">\n",
              "      <th></th>\n",
              "      <th>App</th>\n",
              "      <th>Category</th>\n",
              "      <th>Rating</th>\n",
              "      <th>Reviews</th>\n",
              "      <th>Installs</th>\n",
              "      <th>Type</th>\n",
              "      <th>Content Rating</th>\n",
              "      <th>Genres</th>\n",
              "      <th>Last Updated</th>\n",
              "      <th>Current Ver</th>\n",
              "      <th>Android Ver</th>\n",
              "      <th>Price Numerical</th>\n",
              "      <th>Positive Ratio</th>\n",
              "    </tr>\n",
              "  </thead>\n",
              "  <tbody>\n",
              "    <tr>\n",
              "      <th>0</th>\n",
              "      <td>Coloring book moana</td>\n",
              "      <td>ART_AND_DESIGN</td>\n",
              "      <td>3.9</td>\n",
              "      <td>967.0</td>\n",
              "      <td>500,000+</td>\n",
              "      <td>Free</td>\n",
              "      <td>Everyone</td>\n",
              "      <td>Art &amp; Design;Pretend Play</td>\n",
              "      <td>2018-01-15</td>\n",
              "      <td>2.0.0</td>\n",
              "      <td>4.0.3 and up</td>\n",
              "      <td>0.0</td>\n",
              "      <td>0.590909</td>\n",
              "    </tr>\n",
              "    <tr>\n",
              "      <th>1</th>\n",
              "      <td>Coloring book moana</td>\n",
              "      <td>FAMILY</td>\n",
              "      <td>3.9</td>\n",
              "      <td>974.0</td>\n",
              "      <td>500,000+</td>\n",
              "      <td>Free</td>\n",
              "      <td>Everyone</td>\n",
              "      <td>Art &amp; Design;Pretend Play</td>\n",
              "      <td>2018-01-15</td>\n",
              "      <td>2.0.0</td>\n",
              "      <td>4.0.3 and up</td>\n",
              "      <td>0.0</td>\n",
              "      <td>0.590909</td>\n",
              "    </tr>\n",
              "    <tr>\n",
              "      <th>2</th>\n",
              "      <td>Garden Coloring Book</td>\n",
              "      <td>ART_AND_DESIGN</td>\n",
              "      <td>4.4</td>\n",
              "      <td>13791.0</td>\n",
              "      <td>1,000,000+</td>\n",
              "      <td>Free</td>\n",
              "      <td>Everyone</td>\n",
              "      <td>Art &amp; Design</td>\n",
              "      <td>2017-09-20</td>\n",
              "      <td>2.9.2</td>\n",
              "      <td>3.0 and up</td>\n",
              "      <td>0.0</td>\n",
              "      <td>0.711111</td>\n",
              "    </tr>\n",
              "    <tr>\n",
              "      <th>3</th>\n",
              "      <td>FlipaClip - Cartoon animation</td>\n",
              "      <td>ART_AND_DESIGN</td>\n",
              "      <td>4.3</td>\n",
              "      <td>194216.0</td>\n",
              "      <td>5,000,000+</td>\n",
              "      <td>Free</td>\n",
              "      <td>Everyone</td>\n",
              "      <td>Art &amp; Design</td>\n",
              "      <td>2018-08-03</td>\n",
              "      <td>2.2.5</td>\n",
              "      <td>4.0.3 and up</td>\n",
              "      <td>0.0</td>\n",
              "      <td>1.000000</td>\n",
              "    </tr>\n",
              "    <tr>\n",
              "      <th>4</th>\n",
              "      <td>Boys Photo Editor - Six Pack &amp; Men's Suit</td>\n",
              "      <td>ART_AND_DESIGN</td>\n",
              "      <td>4.1</td>\n",
              "      <td>654.0</td>\n",
              "      <td>100,000+</td>\n",
              "      <td>Free</td>\n",
              "      <td>Everyone</td>\n",
              "      <td>Art &amp; Design</td>\n",
              "      <td>2018-03-20</td>\n",
              "      <td>1.1</td>\n",
              "      <td>4.0.3 and up</td>\n",
              "      <td>0.0</td>\n",
              "      <td>0.605263</td>\n",
              "    </tr>\n",
              "  </tbody>\n",
              "</table>\n",
              "</div>"
            ],
            "text/plain": [
              "                                         App        Category  Rating  \\\n",
              "0                        Coloring book moana  ART_AND_DESIGN     3.9   \n",
              "1                        Coloring book moana          FAMILY     3.9   \n",
              "2                       Garden Coloring Book  ART_AND_DESIGN     4.4   \n",
              "3              FlipaClip - Cartoon animation  ART_AND_DESIGN     4.3   \n",
              "4  Boys Photo Editor - Six Pack & Men's Suit  ART_AND_DESIGN     4.1   \n",
              "\n",
              "    Reviews    Installs  Type Content Rating                     Genres  \\\n",
              "0     967.0    500,000+  Free       Everyone  Art & Design;Pretend Play   \n",
              "1     974.0    500,000+  Free       Everyone  Art & Design;Pretend Play   \n",
              "2   13791.0  1,000,000+  Free       Everyone               Art & Design   \n",
              "3  194216.0  5,000,000+  Free       Everyone               Art & Design   \n",
              "4     654.0    100,000+  Free       Everyone               Art & Design   \n",
              "\n",
              "  Last Updated Current Ver   Android Ver  Price Numerical  Positive Ratio  \n",
              "0   2018-01-15       2.0.0  4.0.3 and up              0.0        0.590909  \n",
              "1   2018-01-15       2.0.0  4.0.3 and up              0.0        0.590909  \n",
              "2   2017-09-20       2.9.2    3.0 and up              0.0        0.711111  \n",
              "3   2018-08-03       2.2.5  4.0.3 and up              0.0        1.000000  \n",
              "4   2018-03-20         1.1  4.0.3 and up              0.0        0.605263  "
            ]
          },
          "execution_count": 49,
          "metadata": {},
          "output_type": "execute_result"
        }
      ],
      "source": [
        "google.head()"
      ]
    },
    {
      "cell_type": "markdown",
      "metadata": {
        "id": "EXhmXFJifhcb"
      },
      "source": [
        "#### Let's look at the final result using the `head()` function. Your final product should look like:\n",
        "\n",
        "![Final Product](google-final-head.png)"
      ]
    },
    {
      "cell_type": "code",
      "execution_count": 50,
      "metadata": {
        "id": "-jgqbQsnfhcb"
      },
      "outputs": [
        {
          "data": {
            "text/html": [
              "<div>\n",
              "<style scoped>\n",
              "    .dataframe tbody tr th:only-of-type {\n",
              "        vertical-align: middle;\n",
              "    }\n",
              "\n",
              "    .dataframe tbody tr th {\n",
              "        vertical-align: top;\n",
              "    }\n",
              "\n",
              "    .dataframe thead th {\n",
              "        text-align: right;\n",
              "    }\n",
              "</style>\n",
              "<table border=\"1\" class=\"dataframe\">\n",
              "  <thead>\n",
              "    <tr style=\"text-align: right;\">\n",
              "      <th></th>\n",
              "      <th>App</th>\n",
              "      <th>Category</th>\n",
              "      <th>Rating</th>\n",
              "      <th>Reviews</th>\n",
              "      <th>Installs</th>\n",
              "      <th>Type</th>\n",
              "      <th>Content Rating</th>\n",
              "      <th>Genres</th>\n",
              "      <th>Last Updated</th>\n",
              "      <th>Current Ver</th>\n",
              "      <th>Android Ver</th>\n",
              "      <th>Price Numerical</th>\n",
              "      <th>Positive Ratio</th>\n",
              "    </tr>\n",
              "  </thead>\n",
              "  <tbody>\n",
              "    <tr>\n",
              "      <th>0</th>\n",
              "      <td>Coloring book moana</td>\n",
              "      <td>ART_AND_DESIGN</td>\n",
              "      <td>3.9</td>\n",
              "      <td>967.0</td>\n",
              "      <td>500,000+</td>\n",
              "      <td>Free</td>\n",
              "      <td>Everyone</td>\n",
              "      <td>Art &amp; Design;Pretend Play</td>\n",
              "      <td>2018-01-15</td>\n",
              "      <td>2.0.0</td>\n",
              "      <td>4.0.3 and up</td>\n",
              "      <td>0.0</td>\n",
              "      <td>0.590909</td>\n",
              "    </tr>\n",
              "    <tr>\n",
              "      <th>1</th>\n",
              "      <td>Coloring book moana</td>\n",
              "      <td>FAMILY</td>\n",
              "      <td>3.9</td>\n",
              "      <td>974.0</td>\n",
              "      <td>500,000+</td>\n",
              "      <td>Free</td>\n",
              "      <td>Everyone</td>\n",
              "      <td>Art &amp; Design;Pretend Play</td>\n",
              "      <td>2018-01-15</td>\n",
              "      <td>2.0.0</td>\n",
              "      <td>4.0.3 and up</td>\n",
              "      <td>0.0</td>\n",
              "      <td>0.590909</td>\n",
              "    </tr>\n",
              "    <tr>\n",
              "      <th>2</th>\n",
              "      <td>Garden Coloring Book</td>\n",
              "      <td>ART_AND_DESIGN</td>\n",
              "      <td>4.4</td>\n",
              "      <td>13791.0</td>\n",
              "      <td>1,000,000+</td>\n",
              "      <td>Free</td>\n",
              "      <td>Everyone</td>\n",
              "      <td>Art &amp; Design</td>\n",
              "      <td>2017-09-20</td>\n",
              "      <td>2.9.2</td>\n",
              "      <td>3.0 and up</td>\n",
              "      <td>0.0</td>\n",
              "      <td>0.711111</td>\n",
              "    </tr>\n",
              "    <tr>\n",
              "      <th>3</th>\n",
              "      <td>FlipaClip - Cartoon animation</td>\n",
              "      <td>ART_AND_DESIGN</td>\n",
              "      <td>4.3</td>\n",
              "      <td>194216.0</td>\n",
              "      <td>5,000,000+</td>\n",
              "      <td>Free</td>\n",
              "      <td>Everyone</td>\n",
              "      <td>Art &amp; Design</td>\n",
              "      <td>2018-08-03</td>\n",
              "      <td>2.2.5</td>\n",
              "      <td>4.0.3 and up</td>\n",
              "      <td>0.0</td>\n",
              "      <td>1.000000</td>\n",
              "    </tr>\n",
              "    <tr>\n",
              "      <th>4</th>\n",
              "      <td>Boys Photo Editor - Six Pack &amp; Men's Suit</td>\n",
              "      <td>ART_AND_DESIGN</td>\n",
              "      <td>4.1</td>\n",
              "      <td>654.0</td>\n",
              "      <td>100,000+</td>\n",
              "      <td>Free</td>\n",
              "      <td>Everyone</td>\n",
              "      <td>Art &amp; Design</td>\n",
              "      <td>2018-03-20</td>\n",
              "      <td>1.1</td>\n",
              "      <td>4.0.3 and up</td>\n",
              "      <td>0.0</td>\n",
              "      <td>0.605263</td>\n",
              "    </tr>\n",
              "  </tbody>\n",
              "</table>\n",
              "</div>"
            ],
            "text/plain": [
              "                                         App        Category  Rating  \\\n",
              "0                        Coloring book moana  ART_AND_DESIGN     3.9   \n",
              "1                        Coloring book moana          FAMILY     3.9   \n",
              "2                       Garden Coloring Book  ART_AND_DESIGN     4.4   \n",
              "3              FlipaClip - Cartoon animation  ART_AND_DESIGN     4.3   \n",
              "4  Boys Photo Editor - Six Pack & Men's Suit  ART_AND_DESIGN     4.1   \n",
              "\n",
              "    Reviews    Installs  Type Content Rating                     Genres  \\\n",
              "0     967.0    500,000+  Free       Everyone  Art & Design;Pretend Play   \n",
              "1     974.0    500,000+  Free       Everyone  Art & Design;Pretend Play   \n",
              "2   13791.0  1,000,000+  Free       Everyone               Art & Design   \n",
              "3  194216.0  5,000,000+  Free       Everyone               Art & Design   \n",
              "4     654.0    100,000+  Free       Everyone               Art & Design   \n",
              "\n",
              "  Last Updated Current Ver   Android Ver  Price Numerical  Positive Ratio  \n",
              "0   2018-01-15       2.0.0  4.0.3 and up              0.0        0.590909  \n",
              "1   2018-01-15       2.0.0  4.0.3 and up              0.0        0.590909  \n",
              "2   2017-09-20       2.9.2    3.0 and up              0.0        0.711111  \n",
              "3   2018-08-03       2.2.5  4.0.3 and up              0.0        1.000000  \n",
              "4   2018-03-20         1.1  4.0.3 and up              0.0        0.605263  "
            ]
          },
          "execution_count": 50,
          "metadata": {},
          "output_type": "execute_result"
        }
      ],
      "source": [
        "# Your code here:\n",
        "google.head()"
      ]
    },
    {
      "cell_type": "markdown",
      "metadata": {
        "id": "gsmZvpwXf3tk"
      },
      "source": [
        " # Challenge 4- Feature selection and modelling"
      ]
    },
    {
      "cell_type": "markdown",
      "metadata": {
        "id": "8b860R3Mxv6Y"
      },
      "source": [
        "Let's work with data about bank marketing.  You can find the dataset and description in the data folder\n",
        "Please use RFE, RFECV and SelectFomModel  for selecting the features from your dataset."
      ]
    },
    {
      "cell_type": "markdown",
      "metadata": {
        "id": "gQ9wFo2LyFlz"
      },
      "source": [
        "Step 1. Check your data. Clean and encode them if necessary"
      ]
    },
    {
      "cell_type": "code",
      "execution_count": 51,
      "metadata": {
        "id": "cXlgWMx-yeid"
      },
      "outputs": [],
      "source": [
        "data = pd.read_excel(r'C:\\Users\\radek\\IronHack\\IronRadek\\Week7\\Day3\\5. Feature-Extraction\\data\\bank_marketing.xlsx')"
      ]
    },
    {
      "cell_type": "code",
      "execution_count": 52,
      "metadata": {},
      "outputs": [
        {
          "data": {
            "text/html": [
              "<div>\n",
              "<style scoped>\n",
              "    .dataframe tbody tr th:only-of-type {\n",
              "        vertical-align: middle;\n",
              "    }\n",
              "\n",
              "    .dataframe tbody tr th {\n",
              "        vertical-align: top;\n",
              "    }\n",
              "\n",
              "    .dataframe thead th {\n",
              "        text-align: right;\n",
              "    }\n",
              "</style>\n",
              "<table border=\"1\" class=\"dataframe\">\n",
              "  <thead>\n",
              "    <tr style=\"text-align: right;\">\n",
              "      <th></th>\n",
              "      <th>age</th>\n",
              "      <th>job</th>\n",
              "      <th>marital</th>\n",
              "      <th>education</th>\n",
              "      <th>default</th>\n",
              "      <th>housing</th>\n",
              "      <th>loan</th>\n",
              "      <th>contact</th>\n",
              "      <th>month</th>\n",
              "      <th>day_of_week</th>\n",
              "      <th>...</th>\n",
              "      <th>campaign</th>\n",
              "      <th>pdays</th>\n",
              "      <th>previous</th>\n",
              "      <th>poutcome</th>\n",
              "      <th>emp.var.rate</th>\n",
              "      <th>cons.price.idx</th>\n",
              "      <th>cons.conf.idx</th>\n",
              "      <th>euribor3m</th>\n",
              "      <th>nr.employed</th>\n",
              "      <th>y</th>\n",
              "    </tr>\n",
              "  </thead>\n",
              "  <tbody>\n",
              "    <tr>\n",
              "      <th>0</th>\n",
              "      <td>56</td>\n",
              "      <td>housemaid</td>\n",
              "      <td>married</td>\n",
              "      <td>basic.4y</td>\n",
              "      <td>no</td>\n",
              "      <td>no</td>\n",
              "      <td>no</td>\n",
              "      <td>telephone</td>\n",
              "      <td>may</td>\n",
              "      <td>mon</td>\n",
              "      <td>...</td>\n",
              "      <td>1</td>\n",
              "      <td>999</td>\n",
              "      <td>0</td>\n",
              "      <td>nonexistent</td>\n",
              "      <td>2022-01-01</td>\n",
              "      <td>93.994</td>\n",
              "      <td>-36.4</td>\n",
              "      <td>4.857</td>\n",
              "      <td>5191.0</td>\n",
              "      <td>no</td>\n",
              "    </tr>\n",
              "    <tr>\n",
              "      <th>1</th>\n",
              "      <td>57</td>\n",
              "      <td>services</td>\n",
              "      <td>married</td>\n",
              "      <td>high.school</td>\n",
              "      <td>unknown</td>\n",
              "      <td>no</td>\n",
              "      <td>no</td>\n",
              "      <td>telephone</td>\n",
              "      <td>may</td>\n",
              "      <td>mon</td>\n",
              "      <td>...</td>\n",
              "      <td>1</td>\n",
              "      <td>999</td>\n",
              "      <td>0</td>\n",
              "      <td>nonexistent</td>\n",
              "      <td>2022-01-01</td>\n",
              "      <td>93.994</td>\n",
              "      <td>-36.4</td>\n",
              "      <td>4.857</td>\n",
              "      <td>5191.0</td>\n",
              "      <td>no</td>\n",
              "    </tr>\n",
              "    <tr>\n",
              "      <th>2</th>\n",
              "      <td>37</td>\n",
              "      <td>services</td>\n",
              "      <td>married</td>\n",
              "      <td>high.school</td>\n",
              "      <td>no</td>\n",
              "      <td>yes</td>\n",
              "      <td>no</td>\n",
              "      <td>telephone</td>\n",
              "      <td>may</td>\n",
              "      <td>mon</td>\n",
              "      <td>...</td>\n",
              "      <td>1</td>\n",
              "      <td>999</td>\n",
              "      <td>0</td>\n",
              "      <td>nonexistent</td>\n",
              "      <td>2022-01-01</td>\n",
              "      <td>93.994</td>\n",
              "      <td>-36.4</td>\n",
              "      <td>4.857</td>\n",
              "      <td>5191.0</td>\n",
              "      <td>no</td>\n",
              "    </tr>\n",
              "    <tr>\n",
              "      <th>3</th>\n",
              "      <td>40</td>\n",
              "      <td>admin.</td>\n",
              "      <td>married</td>\n",
              "      <td>basic.6y</td>\n",
              "      <td>no</td>\n",
              "      <td>no</td>\n",
              "      <td>no</td>\n",
              "      <td>telephone</td>\n",
              "      <td>may</td>\n",
              "      <td>mon</td>\n",
              "      <td>...</td>\n",
              "      <td>1</td>\n",
              "      <td>999</td>\n",
              "      <td>0</td>\n",
              "      <td>nonexistent</td>\n",
              "      <td>2022-01-01</td>\n",
              "      <td>93.994</td>\n",
              "      <td>-36.4</td>\n",
              "      <td>4.857</td>\n",
              "      <td>5191.0</td>\n",
              "      <td>no</td>\n",
              "    </tr>\n",
              "    <tr>\n",
              "      <th>4</th>\n",
              "      <td>56</td>\n",
              "      <td>services</td>\n",
              "      <td>married</td>\n",
              "      <td>high.school</td>\n",
              "      <td>no</td>\n",
              "      <td>no</td>\n",
              "      <td>yes</td>\n",
              "      <td>telephone</td>\n",
              "      <td>may</td>\n",
              "      <td>mon</td>\n",
              "      <td>...</td>\n",
              "      <td>1</td>\n",
              "      <td>999</td>\n",
              "      <td>0</td>\n",
              "      <td>nonexistent</td>\n",
              "      <td>2022-01-01</td>\n",
              "      <td>93.994</td>\n",
              "      <td>-36.4</td>\n",
              "      <td>4.857</td>\n",
              "      <td>5191.0</td>\n",
              "      <td>no</td>\n",
              "    </tr>\n",
              "  </tbody>\n",
              "</table>\n",
              "<p>5 rows × 21 columns</p>\n",
              "</div>"
            ],
            "text/plain": [
              "   age        job  marital    education  default housing loan    contact  \\\n",
              "0   56  housemaid  married     basic.4y       no      no   no  telephone   \n",
              "1   57   services  married  high.school  unknown      no   no  telephone   \n",
              "2   37   services  married  high.school       no     yes   no  telephone   \n",
              "3   40     admin.  married     basic.6y       no      no   no  telephone   \n",
              "4   56   services  married  high.school       no      no  yes  telephone   \n",
              "\n",
              "  month day_of_week  ...  campaign  pdays  previous     poutcome emp.var.rate  \\\n",
              "0   may         mon  ...         1    999         0  nonexistent   2022-01-01   \n",
              "1   may         mon  ...         1    999         0  nonexistent   2022-01-01   \n",
              "2   may         mon  ...         1    999         0  nonexistent   2022-01-01   \n",
              "3   may         mon  ...         1    999         0  nonexistent   2022-01-01   \n",
              "4   may         mon  ...         1    999         0  nonexistent   2022-01-01   \n",
              "\n",
              "  cons.price.idx  cons.conf.idx  euribor3m  nr.employed   y  \n",
              "0         93.994          -36.4      4.857       5191.0  no  \n",
              "1         93.994          -36.4      4.857       5191.0  no  \n",
              "2         93.994          -36.4      4.857       5191.0  no  \n",
              "3         93.994          -36.4      4.857       5191.0  no  \n",
              "4         93.994          -36.4      4.857       5191.0  no  \n",
              "\n",
              "[5 rows x 21 columns]"
            ]
          },
          "execution_count": 52,
          "metadata": {},
          "output_type": "execute_result"
        }
      ],
      "source": [
        "data.head()"
      ]
    },
    {
      "cell_type": "code",
      "execution_count": 53,
      "metadata": {},
      "outputs": [
        {
          "data": {
            "text/plain": [
              "age                        int64\n",
              "job                       object\n",
              "marital                   object\n",
              "education                 object\n",
              "default                   object\n",
              "housing                   object\n",
              "loan                      object\n",
              "contact                   object\n",
              "month                     object\n",
              "day_of_week               object\n",
              "duration                   int64\n",
              "campaign                   int64\n",
              "pdays                      int64\n",
              "previous                   int64\n",
              "poutcome                  object\n",
              "emp.var.rate      datetime64[ns]\n",
              "cons.price.idx           float64\n",
              "cons.conf.idx            float64\n",
              "euribor3m                float64\n",
              "nr.employed              float64\n",
              "y                         object\n",
              "dtype: object"
            ]
          },
          "execution_count": 53,
          "metadata": {},
          "output_type": "execute_result"
        }
      ],
      "source": [
        "data.dtypes"
      ]
    },
    {
      "cell_type": "code",
      "execution_count": 54,
      "metadata": {},
      "outputs": [
        {
          "data": {
            "text/plain": [
              "age                   0\n",
              "job                   0\n",
              "marital               0\n",
              "education             0\n",
              "default               0\n",
              "housing               0\n",
              "loan                  0\n",
              "contact               0\n",
              "month                 0\n",
              "day_of_week           0\n",
              "duration              0\n",
              "campaign              0\n",
              "pdays                 0\n",
              "previous              0\n",
              "poutcome              0\n",
              "emp.var.rate      17191\n",
              "cons.price.idx        0\n",
              "cons.conf.idx         0\n",
              "euribor3m             0\n",
              "nr.employed       33425\n",
              "y                     0\n",
              "dtype: int64"
            ]
          },
          "execution_count": 54,
          "metadata": {},
          "output_type": "execute_result"
        }
      ],
      "source": [
        "data.isna().sum()"
      ]
    },
    {
      "cell_type": "code",
      "execution_count": 55,
      "metadata": {},
      "outputs": [
        {
          "data": {
            "text/plain": [
              "0.41737884820821597"
            ]
          },
          "execution_count": 55,
          "metadata": {},
          "output_type": "execute_result"
        }
      ],
      "source": [
        "len(data[data['emp.var.rate'].isna()])/data.shape[0]"
      ]
    },
    {
      "cell_type": "code",
      "execution_count": 56,
      "metadata": {},
      "outputs": [
        {
          "data": {
            "text/plain": [
              "0.8115227736233854"
            ]
          },
          "execution_count": 56,
          "metadata": {},
          "output_type": "execute_result"
        }
      ],
      "source": [
        "len(data[data['nr.employed'].isna()])/data.shape[0]"
      ]
    },
    {
      "cell_type": "code",
      "execution_count": 57,
      "metadata": {},
      "outputs": [],
      "source": [
        "#the 2 columns above  have respectively over 40 and 80 % values missing so I can drop both of them \n",
        "data.drop(columns=['emp.var.rate', 'nr.employed'], inplace=True)"
      ]
    },
    {
      "cell_type": "code",
      "execution_count": 58,
      "metadata": {},
      "outputs": [
        {
          "name": "stdout",
          "output_type": "stream",
          "text": [
            "[56 57 37 40 45 59 41 24 25 29 35 54 46 50 39 30 55 49 34 52 58 32 38 44\n",
            " 42 60 53 47 51 48 33 31 43 36 28 27 26 22 23 20 21 61 19 18 70 66 76 67\n",
            " 73 88 95 77 68 75 63 80 62 65 72 82 64 71 69 78 85 79 83 81 74 17 87 91\n",
            " 86 98 94 84 92 89]\n",
            "['housemaid' 'services' 'admin.' 'blue-collar' 'technician' 'retired'\n",
            " 'management' 'unemployed' 'self-employed' 'unknown' 'entrepreneur'\n",
            " 'student']\n",
            "['married' 'single' 'divorced' 'unknown']\n",
            "['basic.4y' 'high.school' 'basic.6y' 'basic.9y' 'professional.course'\n",
            " 'unknown' 'university.degree' 'illiterate']\n",
            "['no' 'unknown' 'yes']\n",
            "['no' 'yes' 'unknown']\n",
            "['no' 'yes' 'unknown']\n",
            "['telephone' 'cellular']\n",
            "['may' 'jun' 'jul' 'aug' 'oct' 'nov' 'dec' 'mar' 'apr' 'sep']\n",
            "['mon' 'tue' 'wed' 'thu' 'fri']\n",
            "[ 261  149  226 ... 1246 1556 1868]\n",
            "[ 1  2  3  4  5  6  7  8  9 10 11 12 13 19 18 23 14 22 25 16 17 15 20 56\n",
            " 39 35 42 28 26 27 32 21 24 29 31 30 41 37 40 33 34 43]\n",
            "[999   6   4   3   5   1   0  10   7   8   9  11   2  12  13  14  15  16\n",
            "  21  17  18  22  25  26  19  27  20]\n",
            "[0 1 2 3 4 5 6 7]\n",
            "['nonexistent' 'failure' 'success']\n",
            "[93.994 94.465 93.918 93.444 93.798 93.2   92.756 92.843 93.075 92.893\n",
            " 92.963 92.469 92.201 92.379 92.431 92.649 92.713 93.369 93.749 93.876\n",
            " 94.055 94.215 94.027 94.199 94.601 94.767]\n",
            "[-36.4 -41.8 -42.7 -36.1 -40.4 -42.  -45.9 -50.  -47.1 -46.2 -40.8 -33.6\n",
            " -31.4 -29.8 -26.9 -30.1 -33.  -34.8 -34.6 -40.  -39.8 -40.3 -38.3 -37.5\n",
            " -49.5 -50.8]\n",
            "[4.857 4.856 4.855 4.859 4.86  4.858 4.864 4.865 4.866 4.967 4.961 4.959\n",
            " 4.958 4.96  4.962 4.955 4.947 4.956 4.966 4.963 4.957 4.968 4.97  4.965\n",
            " 4.964 5.045 5.    4.936 4.921 4.918 4.912 4.827 4.794 4.76  4.733 4.7\n",
            " 4.663 4.592 4.474 4.406 4.343 4.286 4.245 4.223 4.191 4.153 4.12  4.076\n",
            " 4.021 3.901 3.879 3.853 3.816 3.743 3.669 3.563 3.488 3.428 3.329 3.282\n",
            " 3.053 1.811 1.799 1.778 1.757 1.726 1.703 1.687 1.663 1.65  1.64  1.629\n",
            " 1.614 1.602 1.584 1.574 1.56  1.556 1.548 1.538 1.531 1.52  1.51  1.498\n",
            " 1.483 1.479 1.466 1.453 1.445 1.435 1.423 1.415 1.41  1.405 1.406 1.4\n",
            " 1.392 1.384 1.372 1.365 1.354 1.344 1.334 1.327 1.313 1.299 1.291 1.281\n",
            " 1.266 1.25  1.244 1.259 1.264 1.27  1.262 1.26  1.268 1.286 1.252 1.235\n",
            " 1.224 1.215 1.206 1.099 1.085 1.072 1.059 1.048 1.044 1.029 1.018 1.007\n",
            " 0.996 0.979 0.969 0.944 0.937 0.933 0.927 0.921 0.914 0.908 0.903 0.899\n",
            " 0.884 0.883 0.881 0.879 0.873 0.869 0.861 0.859 0.854 0.851 0.849 0.843\n",
            " 0.838 0.834 0.829 0.825 0.821 0.819 0.813 0.809 0.803 0.797 0.788 0.781\n",
            " 0.778 0.773 0.771 0.77  0.768 0.766 0.762 0.755 0.749 0.743 0.741 0.739\n",
            " 0.75  0.753 0.754 0.752 0.744 0.74  0.742 0.737 0.735 0.733 0.73  0.731\n",
            " 0.728 0.724 0.722 0.72  0.719 0.716 0.715 0.714 0.718 0.721 0.717 0.712\n",
            " 0.71  0.709 0.708 0.706 0.707 0.7   0.655 0.654 0.653 0.652 0.651 0.65\n",
            " 0.649 0.646 0.644 0.643 0.639 0.637 0.635 0.636 0.634 0.638 0.64  0.642\n",
            " 0.645 0.659 0.663 0.668 0.672 0.677 0.682 0.683 0.684 0.685 0.688 0.69\n",
            " 0.692 0.695 0.697 0.699 0.701 0.702 0.704 0.711 0.713 0.723 0.727 0.729\n",
            " 0.732 0.748 0.761 0.767 0.782 0.79  0.793 0.802 0.81  0.822 0.827 0.835\n",
            " 0.84  0.846 0.87  0.876 0.885 0.889 0.893 0.896 0.898 0.9   0.904 0.905\n",
            " 0.895 0.894 0.891 0.89  0.888 0.886 0.882 0.88  0.878 0.877 0.942 0.953\n",
            " 0.956 0.959 0.965 0.972 0.977 0.982 0.985 0.987 0.993 1.    1.008 1.016\n",
            " 1.025 1.032 1.037 1.043 1.045 1.047 1.05  1.049 1.046 1.041 1.04  1.039\n",
            " 1.035 1.03  1.031 1.028]\n",
            "['no' 'yes']\n"
          ]
        }
      ],
      "source": [
        "for col in data.columns:\n",
        "\tprint(data[col].unique())"
      ]
    },
    {
      "cell_type": "code",
      "execution_count": 59,
      "metadata": {},
      "outputs": [],
      "source": [
        "#Now I can encode all of the columns that are not numerical\n",
        "data_dummy = pd.get_dummies(data=data, drop_first=True)"
      ]
    },
    {
      "cell_type": "code",
      "execution_count": 60,
      "metadata": {},
      "outputs": [
        {
          "data": {
            "text/plain": [
              "(41188, 19)"
            ]
          },
          "execution_count": 60,
          "metadata": {},
          "output_type": "execute_result"
        }
      ],
      "source": [
        "data.shape"
      ]
    },
    {
      "cell_type": "code",
      "execution_count": 61,
      "metadata": {},
      "outputs": [
        {
          "data": {
            "text/plain": [
              "(41188, 52)"
            ]
          },
          "execution_count": 61,
          "metadata": {},
          "output_type": "execute_result"
        }
      ],
      "source": [
        "data_dummy.shape"
      ]
    },
    {
      "cell_type": "code",
      "execution_count": 62,
      "metadata": {},
      "outputs": [
        {
          "data": {
            "text/html": [
              "<div>\n",
              "<style scoped>\n",
              "    .dataframe tbody tr th:only-of-type {\n",
              "        vertical-align: middle;\n",
              "    }\n",
              "\n",
              "    .dataframe tbody tr th {\n",
              "        vertical-align: top;\n",
              "    }\n",
              "\n",
              "    .dataframe thead th {\n",
              "        text-align: right;\n",
              "    }\n",
              "</style>\n",
              "<table border=\"1\" class=\"dataframe\">\n",
              "  <thead>\n",
              "    <tr style=\"text-align: right;\">\n",
              "      <th></th>\n",
              "      <th>age</th>\n",
              "      <th>duration</th>\n",
              "      <th>campaign</th>\n",
              "      <th>pdays</th>\n",
              "      <th>previous</th>\n",
              "      <th>cons.price.idx</th>\n",
              "      <th>cons.conf.idx</th>\n",
              "      <th>euribor3m</th>\n",
              "      <th>job_blue-collar</th>\n",
              "      <th>job_entrepreneur</th>\n",
              "      <th>...</th>\n",
              "      <th>month_nov</th>\n",
              "      <th>month_oct</th>\n",
              "      <th>month_sep</th>\n",
              "      <th>day_of_week_mon</th>\n",
              "      <th>day_of_week_thu</th>\n",
              "      <th>day_of_week_tue</th>\n",
              "      <th>day_of_week_wed</th>\n",
              "      <th>poutcome_nonexistent</th>\n",
              "      <th>poutcome_success</th>\n",
              "      <th>y_yes</th>\n",
              "    </tr>\n",
              "  </thead>\n",
              "  <tbody>\n",
              "    <tr>\n",
              "      <th>0</th>\n",
              "      <td>56</td>\n",
              "      <td>261</td>\n",
              "      <td>1</td>\n",
              "      <td>999</td>\n",
              "      <td>0</td>\n",
              "      <td>93.994</td>\n",
              "      <td>-36.4</td>\n",
              "      <td>4.857</td>\n",
              "      <td>0</td>\n",
              "      <td>0</td>\n",
              "      <td>...</td>\n",
              "      <td>0</td>\n",
              "      <td>0</td>\n",
              "      <td>0</td>\n",
              "      <td>1</td>\n",
              "      <td>0</td>\n",
              "      <td>0</td>\n",
              "      <td>0</td>\n",
              "      <td>1</td>\n",
              "      <td>0</td>\n",
              "      <td>0</td>\n",
              "    </tr>\n",
              "    <tr>\n",
              "      <th>1</th>\n",
              "      <td>57</td>\n",
              "      <td>149</td>\n",
              "      <td>1</td>\n",
              "      <td>999</td>\n",
              "      <td>0</td>\n",
              "      <td>93.994</td>\n",
              "      <td>-36.4</td>\n",
              "      <td>4.857</td>\n",
              "      <td>0</td>\n",
              "      <td>0</td>\n",
              "      <td>...</td>\n",
              "      <td>0</td>\n",
              "      <td>0</td>\n",
              "      <td>0</td>\n",
              "      <td>1</td>\n",
              "      <td>0</td>\n",
              "      <td>0</td>\n",
              "      <td>0</td>\n",
              "      <td>1</td>\n",
              "      <td>0</td>\n",
              "      <td>0</td>\n",
              "    </tr>\n",
              "    <tr>\n",
              "      <th>2</th>\n",
              "      <td>37</td>\n",
              "      <td>226</td>\n",
              "      <td>1</td>\n",
              "      <td>999</td>\n",
              "      <td>0</td>\n",
              "      <td>93.994</td>\n",
              "      <td>-36.4</td>\n",
              "      <td>4.857</td>\n",
              "      <td>0</td>\n",
              "      <td>0</td>\n",
              "      <td>...</td>\n",
              "      <td>0</td>\n",
              "      <td>0</td>\n",
              "      <td>0</td>\n",
              "      <td>1</td>\n",
              "      <td>0</td>\n",
              "      <td>0</td>\n",
              "      <td>0</td>\n",
              "      <td>1</td>\n",
              "      <td>0</td>\n",
              "      <td>0</td>\n",
              "    </tr>\n",
              "    <tr>\n",
              "      <th>3</th>\n",
              "      <td>40</td>\n",
              "      <td>151</td>\n",
              "      <td>1</td>\n",
              "      <td>999</td>\n",
              "      <td>0</td>\n",
              "      <td>93.994</td>\n",
              "      <td>-36.4</td>\n",
              "      <td>4.857</td>\n",
              "      <td>0</td>\n",
              "      <td>0</td>\n",
              "      <td>...</td>\n",
              "      <td>0</td>\n",
              "      <td>0</td>\n",
              "      <td>0</td>\n",
              "      <td>1</td>\n",
              "      <td>0</td>\n",
              "      <td>0</td>\n",
              "      <td>0</td>\n",
              "      <td>1</td>\n",
              "      <td>0</td>\n",
              "      <td>0</td>\n",
              "    </tr>\n",
              "    <tr>\n",
              "      <th>4</th>\n",
              "      <td>56</td>\n",
              "      <td>307</td>\n",
              "      <td>1</td>\n",
              "      <td>999</td>\n",
              "      <td>0</td>\n",
              "      <td>93.994</td>\n",
              "      <td>-36.4</td>\n",
              "      <td>4.857</td>\n",
              "      <td>0</td>\n",
              "      <td>0</td>\n",
              "      <td>...</td>\n",
              "      <td>0</td>\n",
              "      <td>0</td>\n",
              "      <td>0</td>\n",
              "      <td>1</td>\n",
              "      <td>0</td>\n",
              "      <td>0</td>\n",
              "      <td>0</td>\n",
              "      <td>1</td>\n",
              "      <td>0</td>\n",
              "      <td>0</td>\n",
              "    </tr>\n",
              "  </tbody>\n",
              "</table>\n",
              "<p>5 rows × 52 columns</p>\n",
              "</div>"
            ],
            "text/plain": [
              "   age  duration  campaign  pdays  previous  cons.price.idx  cons.conf.idx  \\\n",
              "0   56       261         1    999         0          93.994          -36.4   \n",
              "1   57       149         1    999         0          93.994          -36.4   \n",
              "2   37       226         1    999         0          93.994          -36.4   \n",
              "3   40       151         1    999         0          93.994          -36.4   \n",
              "4   56       307         1    999         0          93.994          -36.4   \n",
              "\n",
              "   euribor3m  job_blue-collar  job_entrepreneur  ...  month_nov  month_oct  \\\n",
              "0      4.857                0                 0  ...          0          0   \n",
              "1      4.857                0                 0  ...          0          0   \n",
              "2      4.857                0                 0  ...          0          0   \n",
              "3      4.857                0                 0  ...          0          0   \n",
              "4      4.857                0                 0  ...          0          0   \n",
              "\n",
              "   month_sep  day_of_week_mon  day_of_week_thu  day_of_week_tue  \\\n",
              "0          0                1                0                0   \n",
              "1          0                1                0                0   \n",
              "2          0                1                0                0   \n",
              "3          0                1                0                0   \n",
              "4          0                1                0                0   \n",
              "\n",
              "   day_of_week_wed  poutcome_nonexistent  poutcome_success  y_yes  \n",
              "0                0                     1                 0      0  \n",
              "1                0                     1                 0      0  \n",
              "2                0                     1                 0      0  \n",
              "3                0                     1                 0      0  \n",
              "4                0                     1                 0      0  \n",
              "\n",
              "[5 rows x 52 columns]"
            ]
          },
          "execution_count": 62,
          "metadata": {},
          "output_type": "execute_result"
        }
      ],
      "source": [
        "data_dummy.head()"
      ]
    },
    {
      "cell_type": "markdown",
      "metadata": {
        "id": "MPrB6mNSyHg5"
      },
      "source": [
        "Step 2. List your features"
      ]
    },
    {
      "cell_type": "code",
      "execution_count": 63,
      "metadata": {
        "id": "178yrku5yfYc"
      },
      "outputs": [
        {
          "data": {
            "text/plain": [
              "Index(['age', 'duration', 'campaign', 'pdays', 'previous', 'cons.price.idx',\n",
              "       'cons.conf.idx', 'euribor3m', 'job_blue-collar', 'job_entrepreneur',\n",
              "       'job_housemaid', 'job_management', 'job_retired', 'job_self-employed',\n",
              "       'job_services', 'job_student', 'job_technician', 'job_unemployed',\n",
              "       'job_unknown', 'marital_married', 'marital_single', 'marital_unknown',\n",
              "       'education_basic.6y', 'education_basic.9y', 'education_high.school',\n",
              "       'education_illiterate', 'education_professional.course',\n",
              "       'education_university.degree', 'education_unknown', 'default_unknown',\n",
              "       'default_yes', 'housing_unknown', 'housing_yes', 'loan_unknown',\n",
              "       'loan_yes', 'contact_telephone', 'month_aug', 'month_dec', 'month_jul',\n",
              "       'month_jun', 'month_mar', 'month_may', 'month_nov', 'month_oct',\n",
              "       'month_sep', 'day_of_week_mon', 'day_of_week_thu', 'day_of_week_tue',\n",
              "       'day_of_week_wed', 'poutcome_nonexistent', 'poutcome_success'],\n",
              "      dtype='object')"
            ]
          },
          "execution_count": 63,
          "metadata": {},
          "output_type": "execute_result"
        }
      ],
      "source": [
        "#I consider y_yes as my target column so features will be all other columns. Thus I should have 51 features\n",
        "features = data_dummy.columns[:-1]\n",
        "features"
      ]
    },
    {
      "cell_type": "code",
      "execution_count": 64,
      "metadata": {},
      "outputs": [
        {
          "data": {
            "text/plain": [
              "51"
            ]
          },
          "execution_count": 64,
          "metadata": {},
          "output_type": "execute_result"
        }
      ],
      "source": [
        "len(features)"
      ]
    },
    {
      "cell_type": "markdown",
      "metadata": {
        "id": "XoUOhvuiyNsc"
      },
      "source": [
        "Step 3. Apply the RandomForestClassifier and LogisticRegression model with default parameters to your data \n",
        "What is the accuracy for your models?"
      ]
    },
    {
      "cell_type": "code",
      "execution_count": 65,
      "metadata": {},
      "outputs": [
        {
          "name": "stdout",
          "output_type": "stream",
          "text": [
            "(41188, 51)\n",
            "(41188,)\n"
          ]
        }
      ],
      "source": [
        "#I start by dividing the variables\n",
        "x = data_dummy.drop(['y_yes'], axis=1)\n",
        "y = data_dummy['y_yes']\n",
        "# print(X.head())\n",
        "print(x.shape)\n",
        "# print(y.head())\n",
        "print(y.shape)"
      ]
    },
    {
      "cell_type": "code",
      "execution_count": 66,
      "metadata": {},
      "outputs": [],
      "source": [
        "#Before spliting I will do standarization of the features\n",
        "from sklearn.preprocessing import StandardScaler\n",
        "\n",
        "sc = StandardScaler()\n",
        "x = sc.fit_transform(x)\n"
      ]
    },
    {
      "cell_type": "code",
      "execution_count": 67,
      "metadata": {},
      "outputs": [],
      "source": [
        "x= pd.DataFrame(x, columns=features)"
      ]
    },
    {
      "cell_type": "code",
      "execution_count": 68,
      "metadata": {},
      "outputs": [
        {
          "data": {
            "text/html": [
              "<div>\n",
              "<style scoped>\n",
              "    .dataframe tbody tr th:only-of-type {\n",
              "        vertical-align: middle;\n",
              "    }\n",
              "\n",
              "    .dataframe tbody tr th {\n",
              "        vertical-align: top;\n",
              "    }\n",
              "\n",
              "    .dataframe thead th {\n",
              "        text-align: right;\n",
              "    }\n",
              "</style>\n",
              "<table border=\"1\" class=\"dataframe\">\n",
              "  <thead>\n",
              "    <tr style=\"text-align: right;\">\n",
              "      <th></th>\n",
              "      <th>age</th>\n",
              "      <th>duration</th>\n",
              "      <th>campaign</th>\n",
              "      <th>pdays</th>\n",
              "      <th>previous</th>\n",
              "      <th>cons.price.idx</th>\n",
              "      <th>cons.conf.idx</th>\n",
              "      <th>euribor3m</th>\n",
              "      <th>job_blue-collar</th>\n",
              "      <th>job_entrepreneur</th>\n",
              "      <th>...</th>\n",
              "      <th>month_may</th>\n",
              "      <th>month_nov</th>\n",
              "      <th>month_oct</th>\n",
              "      <th>month_sep</th>\n",
              "      <th>day_of_week_mon</th>\n",
              "      <th>day_of_week_thu</th>\n",
              "      <th>day_of_week_tue</th>\n",
              "      <th>day_of_week_wed</th>\n",
              "      <th>poutcome_nonexistent</th>\n",
              "      <th>poutcome_success</th>\n",
              "    </tr>\n",
              "  </thead>\n",
              "  <tbody>\n",
              "    <tr>\n",
              "      <th>0</th>\n",
              "      <td>1.533034</td>\n",
              "      <td>0.010471</td>\n",
              "      <td>-0.565922</td>\n",
              "      <td>0.195414</td>\n",
              "      <td>-0.349494</td>\n",
              "      <td>0.722722</td>\n",
              "      <td>0.886447</td>\n",
              "      <td>0.712460</td>\n",
              "      <td>-0.538317</td>\n",
              "      <td>-0.19143</td>\n",
              "      <td>...</td>\n",
              "      <td>1.411155</td>\n",
              "      <td>-0.332532</td>\n",
              "      <td>-0.133197</td>\n",
              "      <td>-0.118462</td>\n",
              "      <td>1.959000</td>\n",
              "      <td>-0.514581</td>\n",
              "      <td>-0.494394</td>\n",
              "      <td>-0.496067</td>\n",
              "      <td>0.397706</td>\n",
              "      <td>-0.1857</td>\n",
              "    </tr>\n",
              "    <tr>\n",
              "      <th>1</th>\n",
              "      <td>1.628993</td>\n",
              "      <td>-0.421501</td>\n",
              "      <td>-0.565922</td>\n",
              "      <td>0.195414</td>\n",
              "      <td>-0.349494</td>\n",
              "      <td>0.722722</td>\n",
              "      <td>0.886447</td>\n",
              "      <td>0.712460</td>\n",
              "      <td>-0.538317</td>\n",
              "      <td>-0.19143</td>\n",
              "      <td>...</td>\n",
              "      <td>1.411155</td>\n",
              "      <td>-0.332532</td>\n",
              "      <td>-0.133197</td>\n",
              "      <td>-0.118462</td>\n",
              "      <td>1.959000</td>\n",
              "      <td>-0.514581</td>\n",
              "      <td>-0.494394</td>\n",
              "      <td>-0.496067</td>\n",
              "      <td>0.397706</td>\n",
              "      <td>-0.1857</td>\n",
              "    </tr>\n",
              "    <tr>\n",
              "      <th>2</th>\n",
              "      <td>-0.290186</td>\n",
              "      <td>-0.124520</td>\n",
              "      <td>-0.565922</td>\n",
              "      <td>0.195414</td>\n",
              "      <td>-0.349494</td>\n",
              "      <td>0.722722</td>\n",
              "      <td>0.886447</td>\n",
              "      <td>0.712460</td>\n",
              "      <td>-0.538317</td>\n",
              "      <td>-0.19143</td>\n",
              "      <td>...</td>\n",
              "      <td>1.411155</td>\n",
              "      <td>-0.332532</td>\n",
              "      <td>-0.133197</td>\n",
              "      <td>-0.118462</td>\n",
              "      <td>1.959000</td>\n",
              "      <td>-0.514581</td>\n",
              "      <td>-0.494394</td>\n",
              "      <td>-0.496067</td>\n",
              "      <td>0.397706</td>\n",
              "      <td>-0.1857</td>\n",
              "    </tr>\n",
              "    <tr>\n",
              "      <th>3</th>\n",
              "      <td>-0.002309</td>\n",
              "      <td>-0.413787</td>\n",
              "      <td>-0.565922</td>\n",
              "      <td>0.195414</td>\n",
              "      <td>-0.349494</td>\n",
              "      <td>0.722722</td>\n",
              "      <td>0.886447</td>\n",
              "      <td>0.712460</td>\n",
              "      <td>-0.538317</td>\n",
              "      <td>-0.19143</td>\n",
              "      <td>...</td>\n",
              "      <td>1.411155</td>\n",
              "      <td>-0.332532</td>\n",
              "      <td>-0.133197</td>\n",
              "      <td>-0.118462</td>\n",
              "      <td>1.959000</td>\n",
              "      <td>-0.514581</td>\n",
              "      <td>-0.494394</td>\n",
              "      <td>-0.496067</td>\n",
              "      <td>0.397706</td>\n",
              "      <td>-0.1857</td>\n",
              "    </tr>\n",
              "    <tr>\n",
              "      <th>4</th>\n",
              "      <td>1.533034</td>\n",
              "      <td>0.187888</td>\n",
              "      <td>-0.565922</td>\n",
              "      <td>0.195414</td>\n",
              "      <td>-0.349494</td>\n",
              "      <td>0.722722</td>\n",
              "      <td>0.886447</td>\n",
              "      <td>0.712460</td>\n",
              "      <td>-0.538317</td>\n",
              "      <td>-0.19143</td>\n",
              "      <td>...</td>\n",
              "      <td>1.411155</td>\n",
              "      <td>-0.332532</td>\n",
              "      <td>-0.133197</td>\n",
              "      <td>-0.118462</td>\n",
              "      <td>1.959000</td>\n",
              "      <td>-0.514581</td>\n",
              "      <td>-0.494394</td>\n",
              "      <td>-0.496067</td>\n",
              "      <td>0.397706</td>\n",
              "      <td>-0.1857</td>\n",
              "    </tr>\n",
              "    <tr>\n",
              "      <th>...</th>\n",
              "      <td>...</td>\n",
              "      <td>...</td>\n",
              "      <td>...</td>\n",
              "      <td>...</td>\n",
              "      <td>...</td>\n",
              "      <td>...</td>\n",
              "      <td>...</td>\n",
              "      <td>...</td>\n",
              "      <td>...</td>\n",
              "      <td>...</td>\n",
              "      <td>...</td>\n",
              "      <td>...</td>\n",
              "      <td>...</td>\n",
              "      <td>...</td>\n",
              "      <td>...</td>\n",
              "      <td>...</td>\n",
              "      <td>...</td>\n",
              "      <td>...</td>\n",
              "      <td>...</td>\n",
              "      <td>...</td>\n",
              "      <td>...</td>\n",
              "    </tr>\n",
              "    <tr>\n",
              "      <th>41183</th>\n",
              "      <td>3.164336</td>\n",
              "      <td>0.292025</td>\n",
              "      <td>-0.565922</td>\n",
              "      <td>0.195414</td>\n",
              "      <td>-0.349494</td>\n",
              "      <td>2.058168</td>\n",
              "      <td>-2.224953</td>\n",
              "      <td>-1.495186</td>\n",
              "      <td>-0.538317</td>\n",
              "      <td>-0.19143</td>\n",
              "      <td>...</td>\n",
              "      <td>-0.708640</td>\n",
              "      <td>3.007225</td>\n",
              "      <td>-0.133197</td>\n",
              "      <td>-0.118462</td>\n",
              "      <td>-0.510465</td>\n",
              "      <td>-0.514581</td>\n",
              "      <td>-0.494394</td>\n",
              "      <td>-0.496067</td>\n",
              "      <td>0.397706</td>\n",
              "      <td>-0.1857</td>\n",
              "    </tr>\n",
              "    <tr>\n",
              "      <th>41184</th>\n",
              "      <td>0.573445</td>\n",
              "      <td>0.481012</td>\n",
              "      <td>-0.565922</td>\n",
              "      <td>0.195414</td>\n",
              "      <td>-0.349494</td>\n",
              "      <td>2.058168</td>\n",
              "      <td>-2.224953</td>\n",
              "      <td>-1.495186</td>\n",
              "      <td>1.857642</td>\n",
              "      <td>-0.19143</td>\n",
              "      <td>...</td>\n",
              "      <td>-0.708640</td>\n",
              "      <td>3.007225</td>\n",
              "      <td>-0.133197</td>\n",
              "      <td>-0.118462</td>\n",
              "      <td>-0.510465</td>\n",
              "      <td>-0.514581</td>\n",
              "      <td>-0.494394</td>\n",
              "      <td>-0.496067</td>\n",
              "      <td>0.397706</td>\n",
              "      <td>-0.1857</td>\n",
              "    </tr>\n",
              "    <tr>\n",
              "      <th>41185</th>\n",
              "      <td>1.533034</td>\n",
              "      <td>-0.267225</td>\n",
              "      <td>-0.204909</td>\n",
              "      <td>0.195414</td>\n",
              "      <td>-0.349494</td>\n",
              "      <td>2.058168</td>\n",
              "      <td>-2.224953</td>\n",
              "      <td>-1.495186</td>\n",
              "      <td>-0.538317</td>\n",
              "      <td>-0.19143</td>\n",
              "      <td>...</td>\n",
              "      <td>-0.708640</td>\n",
              "      <td>3.007225</td>\n",
              "      <td>-0.133197</td>\n",
              "      <td>-0.118462</td>\n",
              "      <td>-0.510465</td>\n",
              "      <td>-0.514581</td>\n",
              "      <td>-0.494394</td>\n",
              "      <td>-0.496067</td>\n",
              "      <td>0.397706</td>\n",
              "      <td>-0.1857</td>\n",
              "    </tr>\n",
              "    <tr>\n",
              "      <th>41186</th>\n",
              "      <td>0.381527</td>\n",
              "      <td>0.708569</td>\n",
              "      <td>-0.565922</td>\n",
              "      <td>0.195414</td>\n",
              "      <td>-0.349494</td>\n",
              "      <td>2.058168</td>\n",
              "      <td>-2.224953</td>\n",
              "      <td>-1.495186</td>\n",
              "      <td>-0.538317</td>\n",
              "      <td>-0.19143</td>\n",
              "      <td>...</td>\n",
              "      <td>-0.708640</td>\n",
              "      <td>3.007225</td>\n",
              "      <td>-0.133197</td>\n",
              "      <td>-0.118462</td>\n",
              "      <td>-0.510465</td>\n",
              "      <td>-0.514581</td>\n",
              "      <td>-0.494394</td>\n",
              "      <td>-0.496067</td>\n",
              "      <td>0.397706</td>\n",
              "      <td>-0.1857</td>\n",
              "    </tr>\n",
              "    <tr>\n",
              "      <th>41187</th>\n",
              "      <td>3.260295</td>\n",
              "      <td>-0.074380</td>\n",
              "      <td>0.156105</td>\n",
              "      <td>0.195414</td>\n",
              "      <td>1.671136</td>\n",
              "      <td>2.058168</td>\n",
              "      <td>-2.224953</td>\n",
              "      <td>-1.495186</td>\n",
              "      <td>-0.538317</td>\n",
              "      <td>-0.19143</td>\n",
              "      <td>...</td>\n",
              "      <td>-0.708640</td>\n",
              "      <td>3.007225</td>\n",
              "      <td>-0.133197</td>\n",
              "      <td>-0.118462</td>\n",
              "      <td>-0.510465</td>\n",
              "      <td>-0.514581</td>\n",
              "      <td>-0.494394</td>\n",
              "      <td>-0.496067</td>\n",
              "      <td>-2.514421</td>\n",
              "      <td>-0.1857</td>\n",
              "    </tr>\n",
              "  </tbody>\n",
              "</table>\n",
              "<p>41188 rows × 51 columns</p>\n",
              "</div>"
            ],
            "text/plain": [
              "            age  duration  campaign     pdays  previous  cons.price.idx  \\\n",
              "0      1.533034  0.010471 -0.565922  0.195414 -0.349494        0.722722   \n",
              "1      1.628993 -0.421501 -0.565922  0.195414 -0.349494        0.722722   \n",
              "2     -0.290186 -0.124520 -0.565922  0.195414 -0.349494        0.722722   \n",
              "3     -0.002309 -0.413787 -0.565922  0.195414 -0.349494        0.722722   \n",
              "4      1.533034  0.187888 -0.565922  0.195414 -0.349494        0.722722   \n",
              "...         ...       ...       ...       ...       ...             ...   \n",
              "41183  3.164336  0.292025 -0.565922  0.195414 -0.349494        2.058168   \n",
              "41184  0.573445  0.481012 -0.565922  0.195414 -0.349494        2.058168   \n",
              "41185  1.533034 -0.267225 -0.204909  0.195414 -0.349494        2.058168   \n",
              "41186  0.381527  0.708569 -0.565922  0.195414 -0.349494        2.058168   \n",
              "41187  3.260295 -0.074380  0.156105  0.195414  1.671136        2.058168   \n",
              "\n",
              "       cons.conf.idx  euribor3m  job_blue-collar  job_entrepreneur  ...  \\\n",
              "0           0.886447   0.712460        -0.538317          -0.19143  ...   \n",
              "1           0.886447   0.712460        -0.538317          -0.19143  ...   \n",
              "2           0.886447   0.712460        -0.538317          -0.19143  ...   \n",
              "3           0.886447   0.712460        -0.538317          -0.19143  ...   \n",
              "4           0.886447   0.712460        -0.538317          -0.19143  ...   \n",
              "...              ...        ...              ...               ...  ...   \n",
              "41183      -2.224953  -1.495186        -0.538317          -0.19143  ...   \n",
              "41184      -2.224953  -1.495186         1.857642          -0.19143  ...   \n",
              "41185      -2.224953  -1.495186        -0.538317          -0.19143  ...   \n",
              "41186      -2.224953  -1.495186        -0.538317          -0.19143  ...   \n",
              "41187      -2.224953  -1.495186        -0.538317          -0.19143  ...   \n",
              "\n",
              "       month_may  month_nov  month_oct  month_sep  day_of_week_mon  \\\n",
              "0       1.411155  -0.332532  -0.133197  -0.118462         1.959000   \n",
              "1       1.411155  -0.332532  -0.133197  -0.118462         1.959000   \n",
              "2       1.411155  -0.332532  -0.133197  -0.118462         1.959000   \n",
              "3       1.411155  -0.332532  -0.133197  -0.118462         1.959000   \n",
              "4       1.411155  -0.332532  -0.133197  -0.118462         1.959000   \n",
              "...          ...        ...        ...        ...              ...   \n",
              "41183  -0.708640   3.007225  -0.133197  -0.118462        -0.510465   \n",
              "41184  -0.708640   3.007225  -0.133197  -0.118462        -0.510465   \n",
              "41185  -0.708640   3.007225  -0.133197  -0.118462        -0.510465   \n",
              "41186  -0.708640   3.007225  -0.133197  -0.118462        -0.510465   \n",
              "41187  -0.708640   3.007225  -0.133197  -0.118462        -0.510465   \n",
              "\n",
              "       day_of_week_thu  day_of_week_tue  day_of_week_wed  \\\n",
              "0            -0.514581        -0.494394        -0.496067   \n",
              "1            -0.514581        -0.494394        -0.496067   \n",
              "2            -0.514581        -0.494394        -0.496067   \n",
              "3            -0.514581        -0.494394        -0.496067   \n",
              "4            -0.514581        -0.494394        -0.496067   \n",
              "...                ...              ...              ...   \n",
              "41183        -0.514581        -0.494394        -0.496067   \n",
              "41184        -0.514581        -0.494394        -0.496067   \n",
              "41185        -0.514581        -0.494394        -0.496067   \n",
              "41186        -0.514581        -0.494394        -0.496067   \n",
              "41187        -0.514581        -0.494394        -0.496067   \n",
              "\n",
              "       poutcome_nonexistent  poutcome_success  \n",
              "0                  0.397706           -0.1857  \n",
              "1                  0.397706           -0.1857  \n",
              "2                  0.397706           -0.1857  \n",
              "3                  0.397706           -0.1857  \n",
              "4                  0.397706           -0.1857  \n",
              "...                     ...               ...  \n",
              "41183              0.397706           -0.1857  \n",
              "41184              0.397706           -0.1857  \n",
              "41185              0.397706           -0.1857  \n",
              "41186              0.397706           -0.1857  \n",
              "41187             -2.514421           -0.1857  \n",
              "\n",
              "[41188 rows x 51 columns]"
            ]
          },
          "execution_count": 68,
          "metadata": {},
          "output_type": "execute_result"
        }
      ],
      "source": [
        "x"
      ]
    },
    {
      "cell_type": "code",
      "execution_count": 69,
      "metadata": {
        "id": "9lQmeMMNyf9i"
      },
      "outputs": [
        {
          "name": "stdout",
          "output_type": "stream",
          "text": [
            "(32950, 51)\n",
            "(32950,)\n",
            "(8238, 51)\n",
            "(8238,)\n"
          ]
        }
      ],
      "source": [
        "#Now Is split the data for train and test with proportion 80/20\n",
        "\n",
        "from sklearn.model_selection import train_test_split\n",
        "\n",
        "x_train, x_test, y_train, y_test = train_test_split(x, y, test_size=0.2, random_state=5)\n",
        "print(x_train.shape)\n",
        "print(y_train.shape)\n",
        "print(x_test.shape)\n",
        "print(y_test.shape)"
      ]
    },
    {
      "cell_type": "code",
      "execution_count": 70,
      "metadata": {},
      "outputs": [],
      "source": [
        "#I define the function to get results\n",
        "def generate_results(model, predictions, name):\n",
        "    cl_rep = classification_report(y_test, predictions)\n",
        "    print(\"\\nThe classification report for \" + name + \" is:\", cl_rep, sep = \"\\n\")\n",
        "    cm_model = confusion_matrix(y_test, predictions)\n",
        "    plt.figure(figsize = (8, 6))\n",
        "    sns.heatmap(cm_model, annot = True, cmap = 'Blues', annot_kws = {'size': 15}, square = True)\n",
        "    plt.title('Confusion Matrix for ' + name, size = 15)\n",
        "    plt.xticks(size = 15)\n",
        "    plt.yticks(size = 15)\n",
        "    plt.show() \n",
        "from sklearn.metrics import classification_report \n",
        "from sklearn.metrics import confusion_matrix\n",
        "from sklearn.metrics import accuracy_score"
      ]
    },
    {
      "cell_type": "code",
      "execution_count": 71,
      "metadata": {},
      "outputs": [
        {
          "name": "stdout",
          "output_type": "stream",
          "text": [
            "The accuracy of the Random Forest Classifier is: 90.95654285020636 %\n",
            "\n",
            "The classification report for Random Forest Classifier is:\n",
            "              precision    recall  f1-score   support\n",
            "\n",
            "           0       0.93      0.97      0.95      7245\n",
            "           1       0.68      0.47      0.56       993\n",
            "\n",
            "    accuracy                           0.91      8238\n",
            "   macro avg       0.81      0.72      0.75      8238\n",
            "weighted avg       0.90      0.91      0.90      8238\n",
            "\n"
          ]
        },
        {
          "data": {
            "image/png": "[encoded data removed]",
            "text/plain": [
              "<Figure size 576x432 with 2 Axes>"
            ]
          },
          "metadata": {
            "needs_background": "light"
          },
          "output_type": "display_data"
        }
      ],
      "source": [
        "#Now I can check Random Forest Calssifier model \n",
        "#Random forest\n",
        "import matplotlib.pyplot as plt\n",
        "import seaborn as sns\n",
        "from sklearn.ensemble import RandomForestClassifier\n",
        "rfc = RandomForestClassifier()\n",
        "rfc.fit(x_train, y_train)\n",
        "y_pred = rfc.predict(x_test)\n",
        "acc_rfc = rfc.score(x_test, y_test)\n",
        "print('The accuracy of the Random Forest Classifier is:', acc_rfc * 100, '%')\n",
        "generate_results(rfc, y_pred, 'Random Forest Classifier')"
      ]
    },
    {
      "cell_type": "code",
      "execution_count": 72,
      "metadata": {},
      "outputs": [
        {
          "name": "stdout",
          "output_type": "stream",
          "text": [
            "The accuracy of the Logistic Regression is: 90.42243262927894 %\n",
            "\n",
            "The classification report for Logistic Regression is:\n",
            "              precision    recall  f1-score   support\n",
            "\n",
            "           0       0.92      0.98      0.95      7245\n",
            "           1       0.69      0.37      0.49       993\n",
            "\n",
            "    accuracy                           0.90      8238\n",
            "   macro avg       0.80      0.68      0.72      8238\n",
            "weighted avg       0.89      0.90      0.89      8238\n",
            "\n"
          ]
        },
        {
          "data": {
            "image/png": "[encoded data removed]",
            "text/plain": [
              "<Figure size 576x432 with 2 Axes>"
            ]
          },
          "metadata": {
            "needs_background": "light"
          },
          "output_type": "display_data"
        }
      ],
      "source": [
        "from sklearn.linear_model import LogisticRegression\n",
        "lr = LogisticRegression(random_state = 0, solver='lbfgs', multi_class='auto')\n",
        "lr.fit(x_train, y_train)\n",
        "y_pred = lr.predict(x_test)\n",
        "# Predict probabilities\n",
        "probs_y=lr.predict_proba(x_test)\n",
        "### Print results \n",
        "probs_y = np.round(probs_y, 2)\n",
        "print('The accuracy of the Logistic Regression is:', lr.score(x_test, y_test) * 100, '%')\n",
        "generate_results(lr, y_pred, 'Logistic Regression')"
      ]
    },
    {
      "cell_type": "markdown",
      "metadata": {
        "id": "qIG-oSLKyR7v"
      },
      "source": [
        "\n",
        "Step 4. Select features using SelectFromModel method. Explain, how you define the optimal number of features\n"
      ]
    },
    {
      "cell_type": "code",
      "execution_count": 73,
      "metadata": {
        "id": "1gu17-s3ygub"
      },
      "outputs": [
        {
          "data": {
            "text/plain": [
              "9"
            ]
          },
          "execution_count": 73,
          "metadata": {},
          "output_type": "execute_result"
        }
      ],
      "source": [
        "#I select features using Select from Model and first usinfg Random Forest Model\n",
        "from sklearn.feature_selection import SelectFromModel\n",
        "SFM = SelectFromModel(estimator=RandomForestClassifier())\n",
        "s=SFM.fit(x, y)\n",
        "n_features = s.transform(x).shape[1]\n",
        "\n",
        "n_features\n"
      ]
    },
    {
      "cell_type": "code",
      "execution_count": 74,
      "metadata": {},
      "outputs": [
        {
          "data": {
            "text/plain": [
              "Index(['age', 'duration', 'campaign', 'pdays', 'cons.price.idx',\n",
              "       'cons.conf.idx', 'euribor3m', 'housing_yes', 'poutcome_success'],\n",
              "      dtype='object')"
            ]
          },
          "execution_count": 74,
          "metadata": {},
          "output_type": "execute_result"
        }
      ],
      "source": [
        "feature_idx = s.get_support()\n",
        "feature_name_rf = x.columns[feature_idx]\n",
        "feature_name_rf "
      ]
    },
    {
      "cell_type": "code",
      "execution_count": 75,
      "metadata": {},
      "outputs": [
        {
          "data": {
            "text/plain": [
              "15"
            ]
          },
          "execution_count": 75,
          "metadata": {},
          "output_type": "execute_result"
        }
      ],
      "source": [
        "#Now I will test again the Select from Model but with logistic reggresion as estimator\n",
        "SFM = SelectFromModel(estimator=LogisticRegression())\n",
        "s_lr=SFM.fit(x, y)\n",
        "n_features = s_lr.transform(x).shape[1]\n",
        "\n",
        "n_features"
      ]
    },
    {
      "cell_type": "code",
      "execution_count": 76,
      "metadata": {},
      "outputs": [
        {
          "data": {
            "text/plain": [
              "Index(['duration', 'campaign', 'pdays', 'cons.price.idx', 'cons.conf.idx',\n",
              "       'euribor3m', 'job_blue-collar', 'default_unknown', 'contact_telephone',\n",
              "       'month_jul', 'month_jun', 'month_mar', 'month_may',\n",
              "       'poutcome_nonexistent', 'poutcome_success'],\n",
              "      dtype='object')"
            ]
          },
          "execution_count": 76,
          "metadata": {},
          "output_type": "execute_result"
        }
      ],
      "source": [
        "feature_idx = s_lr.get_support()\n",
        "feature_name_lr = x.columns[feature_idx]\n",
        "feature_name_lr"
      ]
    },
    {
      "cell_type": "code",
      "execution_count": 77,
      "metadata": {},
      "outputs": [
        {
          "data": {
            "text/html": [
              "<div>\n",
              "<style scoped>\n",
              "    .dataframe tbody tr th:only-of-type {\n",
              "        vertical-align: middle;\n",
              "    }\n",
              "\n",
              "    .dataframe tbody tr th {\n",
              "        vertical-align: top;\n",
              "    }\n",
              "\n",
              "    .dataframe thead th {\n",
              "        text-align: right;\n",
              "    }\n",
              "</style>\n",
              "<table border=\"1\" class=\"dataframe\">\n",
              "  <thead>\n",
              "    <tr style=\"text-align: right;\">\n",
              "      <th></th>\n",
              "      <th>age</th>\n",
              "      <th>duration</th>\n",
              "      <th>campaign</th>\n",
              "      <th>pdays</th>\n",
              "      <th>cons.price.idx</th>\n",
              "      <th>cons.conf.idx</th>\n",
              "      <th>euribor3m</th>\n",
              "      <th>housing_yes</th>\n",
              "      <th>poutcome_success</th>\n",
              "    </tr>\n",
              "  </thead>\n",
              "  <tbody>\n",
              "    <tr>\n",
              "      <th>0</th>\n",
              "      <td>1.533034</td>\n",
              "      <td>0.010471</td>\n",
              "      <td>-0.565922</td>\n",
              "      <td>0.195414</td>\n",
              "      <td>0.722722</td>\n",
              "      <td>0.886447</td>\n",
              "      <td>0.71246</td>\n",
              "      <td>-1.048877</td>\n",
              "      <td>-0.1857</td>\n",
              "    </tr>\n",
              "    <tr>\n",
              "      <th>1</th>\n",
              "      <td>1.628993</td>\n",
              "      <td>-0.421501</td>\n",
              "      <td>-0.565922</td>\n",
              "      <td>0.195414</td>\n",
              "      <td>0.722722</td>\n",
              "      <td>0.886447</td>\n",
              "      <td>0.71246</td>\n",
              "      <td>-1.048877</td>\n",
              "      <td>-0.1857</td>\n",
              "    </tr>\n",
              "    <tr>\n",
              "      <th>2</th>\n",
              "      <td>-0.290186</td>\n",
              "      <td>-0.124520</td>\n",
              "      <td>-0.565922</td>\n",
              "      <td>0.195414</td>\n",
              "      <td>0.722722</td>\n",
              "      <td>0.886447</td>\n",
              "      <td>0.71246</td>\n",
              "      <td>0.953401</td>\n",
              "      <td>-0.1857</td>\n",
              "    </tr>\n",
              "    <tr>\n",
              "      <th>3</th>\n",
              "      <td>-0.002309</td>\n",
              "      <td>-0.413787</td>\n",
              "      <td>-0.565922</td>\n",
              "      <td>0.195414</td>\n",
              "      <td>0.722722</td>\n",
              "      <td>0.886447</td>\n",
              "      <td>0.71246</td>\n",
              "      <td>-1.048877</td>\n",
              "      <td>-0.1857</td>\n",
              "    </tr>\n",
              "    <tr>\n",
              "      <th>4</th>\n",
              "      <td>1.533034</td>\n",
              "      <td>0.187888</td>\n",
              "      <td>-0.565922</td>\n",
              "      <td>0.195414</td>\n",
              "      <td>0.722722</td>\n",
              "      <td>0.886447</td>\n",
              "      <td>0.71246</td>\n",
              "      <td>-1.048877</td>\n",
              "      <td>-0.1857</td>\n",
              "    </tr>\n",
              "  </tbody>\n",
              "</table>\n",
              "</div>"
            ],
            "text/plain": [
              "        age  duration  campaign     pdays  cons.price.idx  cons.conf.idx  \\\n",
              "0  1.533034  0.010471 -0.565922  0.195414        0.722722       0.886447   \n",
              "1  1.628993 -0.421501 -0.565922  0.195414        0.722722       0.886447   \n",
              "2 -0.290186 -0.124520 -0.565922  0.195414        0.722722       0.886447   \n",
              "3 -0.002309 -0.413787 -0.565922  0.195414        0.722722       0.886447   \n",
              "4  1.533034  0.187888 -0.565922  0.195414        0.722722       0.886447   \n",
              "\n",
              "   euribor3m  housing_yes  poutcome_success  \n",
              "0    0.71246    -1.048877           -0.1857  \n",
              "1    0.71246    -1.048877           -0.1857  \n",
              "2    0.71246     0.953401           -0.1857  \n",
              "3    0.71246    -1.048877           -0.1857  \n",
              "4    0.71246    -1.048877           -0.1857  "
            ]
          },
          "execution_count": 77,
          "metadata": {},
          "output_type": "execute_result"
        }
      ],
      "source": [
        "#The SFM feature selectiction with regresion model suggested using 9 features while SFM with logistic regression suggested using 15 features \n",
        "#I will thus chose the first approach as it uses less features\n",
        "new_x=x[feature_name_rf]\n",
        "new_x.head()"
      ]
    },
    {
      "cell_type": "markdown",
      "metadata": {
        "id": "-bV-demNyVBQ"
      },
      "source": [
        "\n",
        "Step 5. Apply the RandomForestClassifier and LogisticRegression model with default parameters to your data (only selected features). What is the accuracy for your models?"
      ]
    },
    {
      "cell_type": "code",
      "execution_count": 78,
      "metadata": {
        "id": "19_2unWgyhgi"
      },
      "outputs": [
        {
          "name": "stdout",
          "output_type": "stream",
          "text": [
            "(32950, 9)\n",
            "(32950,)\n",
            "(8238, 9)\n",
            "(8238,)\n"
          ]
        }
      ],
      "source": [
        "#First I do the split for train and test\n",
        "x_train, x_test, y_train, y_test = train_test_split(new_x, y, test_size=0.2, random_state=5)\n",
        "print(x_train.shape)\n",
        "print(y_train.shape)\n",
        "print(x_test.shape)\n",
        "print(y_test.shape)"
      ]
    },
    {
      "cell_type": "code",
      "execution_count": 79,
      "metadata": {},
      "outputs": [
        {
          "name": "stdout",
          "output_type": "stream",
          "text": [
            "The accuracy of the Random Forest Classifier is: 90.71376547705754 %\n",
            "\n",
            "The classification report for Random Forest Classifier is:\n",
            "              precision    recall  f1-score   support\n",
            "\n",
            "           0       0.93      0.96      0.95      7245\n",
            "           1       0.65      0.51      0.57       993\n",
            "\n",
            "    accuracy                           0.91      8238\n",
            "   macro avg       0.79      0.74      0.76      8238\n",
            "weighted avg       0.90      0.91      0.90      8238\n",
            "\n"
          ]
        },
        {
          "data": {
            "image/png": "[encoded data removed]",
            "text/plain": [
              "<Figure size 576x432 with 2 Axes>"
            ]
          },
          "metadata": {
            "needs_background": "light"
          },
          "output_type": "display_data"
        }
      ],
      "source": [
        "#Now I run Random Forest Classifier\n",
        "rfc = RandomForestClassifier()\n",
        "rfc.fit(x_train, y_train)\n",
        "y_pred = rfc.predict(x_test)\n",
        "acc_rfc = rfc.score(x_test, y_test)\n",
        "print('The accuracy of the Random Forest Classifier is:', acc_rfc * 100, '%')\n",
        "generate_results(rfc, y_pred, 'Random Forest Classifier')"
      ]
    },
    {
      "cell_type": "code",
      "execution_count": 80,
      "metadata": {},
      "outputs": [
        {
          "name": "stdout",
          "output_type": "stream",
          "text": [
            "The accuracy of the Logistic Regression is: 90.41029376062151 %\n",
            "\n",
            "The classification report for Logistic Regression is:\n",
            "              precision    recall  f1-score   support\n",
            "\n",
            "           0       0.92      0.98      0.95      7245\n",
            "           1       0.70      0.36      0.48       993\n",
            "\n",
            "    accuracy                           0.90      8238\n",
            "   macro avg       0.81      0.67      0.71      8238\n",
            "weighted avg       0.89      0.90      0.89      8238\n",
            "\n"
          ]
        },
        {
          "data": {
            "image/png": "[encoded data removed]",
            "text/plain": [
              "<Figure size 576x432 with 2 Axes>"
            ]
          },
          "metadata": {
            "needs_background": "light"
          },
          "output_type": "display_data"
        }
      ],
      "source": [
        "#Now I can run Logistic regression\n",
        "lr = LogisticRegression(random_state = 0, solver='lbfgs', multi_class='auto')\n",
        "lr.fit(x_train, y_train)\n",
        "y_pred = lr.predict(x_test)\n",
        "# Predict probabilities\n",
        "probs_y=lr.predict_proba(x_test)\n",
        "### Print results \n",
        "probs_y = np.round(probs_y, 2)\n",
        "print('The accuracy of the Logistic Regression is:', lr.score(x_test, y_test) * 100, '%')\n",
        "generate_results(lr, y_pred, 'Logistic Regression')"
      ]
    },
    {
      "cell_type": "markdown",
      "metadata": {
        "id": "s_EcvHZEyYAj"
      },
      "source": [
        "\n",
        "Step 6. Select features using RFE and RFECV methods. Explain, how you define the optimal number of features for each of the cases."
      ]
    },
    {
      "cell_type": "markdown",
      "metadata": {},
      "source": [
        "RFE -with 2 estimators"
      ]
    },
    {
      "cell_type": "code",
      "execution_count": 82,
      "metadata": {
        "id": "O3s1Abx9yiH0"
      },
      "outputs": [
        {
          "name": "stdout",
          "output_type": "stream",
          "text": [
            "Num Features: 25\n",
            "Selected Features: [False  True  True  True False  True  True  True  True False False False\n",
            "  True False  True  True False False False False False False False False\n",
            " False False False  True False  True  True False False False False  True\n",
            "  True False  True  True  True  True False  True False  True False  True\n",
            "  True  True  True]\n",
            "Feature Ranking: [17  1  1  1 12  1  1  1  1  2 19 14  1  4  1  1 15 22 26 23  3 25  6 27\n",
            " 13  8  7  1  5  1  1 16 24 21  9  1  1 10  1  1  1  1 11  1 20  1 18  1\n",
            "  1  1  1]\n"
          ]
        }
      ],
      "source": [
        "#First RFE with Random Forest Classifier\n",
        "from sklearn.feature_selection import RFE\n",
        "rfe_selector = RFE(estimator=LogisticRegression(),n_features_to_select = None, step = 1)\n",
        "m=rfe_selector.fit(x, y)\n",
        "x.columns[m.get_support()]\n",
        "print(\"Num Features: %s\" % (m.n_features_))\n",
        "print(\"Selected Features: %s\" % (m.support_))\n",
        "print(\"Feature Ranking: %s\" % (m.ranking_))"
      ]
    },
    {
      "cell_type": "code",
      "execution_count": 83,
      "metadata": {},
      "outputs": [
        {
          "name": "stdout",
          "output_type": "stream",
          "text": [
            "Num Features: 25\n",
            "Selected Features: [ True  True  True  True  True  True  True  True  True False False False\n",
            " False False False False  True False False  True  True False False  True\n",
            "  True False  True  True False False False False  True False  True  True\n",
            " False False False False False False False False False  True  True  True\n",
            "  True  True  True]\n",
            "Feature Ranking: [ 1  1  1  1  1  1  1  1  1 14 17  3  8 12  5 13  1 15 23  1  1 25 11  1\n",
            "  1 26  1  1 10  2 27 19  1 22  1  1 16 24 21  9  7  6 18  4 20  1  1  1\n",
            "  1  1  1]\n"
          ]
        }
      ],
      "source": [
        "rfe_selector = RFE(estimator=RandomForestClassifier(),n_features_to_select = None, step = 1)\n",
        "m=rfe_selector.fit(x, y)\n",
        "x.columns[m.get_support()]\n",
        "print(\"Num Features: %s\" % (m.n_features_))\n",
        "print(\"Selected Features: %s\" % (m.support_))\n",
        "print(\"Feature Ranking: %s\" % (m.ranking_))"
      ]
    },
    {
      "cell_type": "code",
      "execution_count": 88,
      "metadata": {},
      "outputs": [],
      "source": [
        "features_rfe =x.columns[rfe_selector.support_]"
      ]
    },
    {
      "cell_type": "code",
      "execution_count": 84,
      "metadata": {},
      "outputs": [
        {
          "data": {
            "text/plain": [
              "Index(['age', 'duration', 'campaign', 'pdays', 'previous', 'cons.price.idx',\n",
              "       'cons.conf.idx', 'euribor3m', 'job_blue-collar', 'job_entrepreneur',\n",
              "       'job_housemaid', 'job_management', 'job_retired', 'job_self-employed',\n",
              "       'job_services', 'job_student', 'job_technician', 'job_unemployed',\n",
              "       'job_unknown', 'marital_married', 'marital_single', 'marital_unknown',\n",
              "       'education_basic.6y', 'education_basic.9y', 'education_high.school',\n",
              "       'education_illiterate', 'education_professional.course',\n",
              "       'education_university.degree', 'education_unknown', 'default_unknown',\n",
              "       'default_yes', 'housing_unknown', 'housing_yes', 'loan_unknown',\n",
              "       'loan_yes', 'contact_telephone', 'month_aug', 'month_dec', 'month_jul',\n",
              "       'month_jun', 'month_mar', 'month_may', 'month_nov', 'month_oct',\n",
              "       'month_sep', 'day_of_week_mon', 'day_of_week_thu', 'day_of_week_tue',\n",
              "       'day_of_week_wed', 'poutcome_nonexistent', 'poutcome_success'],\n",
              "      dtype='object')"
            ]
          },
          "execution_count": 84,
          "metadata": {},
          "output_type": "execute_result"
        }
      ],
      "source": [
        "x.columns"
      ]
    },
    {
      "cell_type": "markdown",
      "metadata": {},
      "source": [
        "In both cases the both estimators return 25 features. In order to be consistent with the previous selection I will select the features selected by Random Forest Classifier"
      ]
    },
    {
      "cell_type": "markdown",
      "metadata": {},
      "source": [
        "Now I will repeat the procedure for RFECV"
      ]
    },
    {
      "cell_type": "code",
      "execution_count": 91,
      "metadata": {},
      "outputs": [
        {
          "name": "stdout",
          "output_type": "stream",
          "text": [
            "Fitting estimator with 51 features.\n"
          ]
        },
        {
          "name": "stderr",
          "output_type": "stream",
          "text": [
            "C:\\Users\\radek\\Anaconda3\\lib\\site-packages\\sklearn\\base.py:445: UserWarning: X does not have valid feature names, but RFECV was fitted with feature names\n",
            "  warnings.warn(\n"
          ]
        }
      ],
      "source": [
        "from sklearn.feature_selection import RFECV\n",
        "\n",
        "\n",
        "rfecv = RFECV(\n",
        "    estimator=RandomForestClassifier(),\n",
        "    min_features_to_select=9,\n",
        "    step=5,\n",
        "    n_jobs=-1,\n",
        "    verbose=1,\n",
        "    scoring=\"r2\",\n",
        "    cv=5,\n",
        ")\n",
        "\n",
        "m= rfecv.fit(x, y)"
      ]
    },
    {
      "cell_type": "code",
      "execution_count": 92,
      "metadata": {},
      "outputs": [
        {
          "data": {
            "text/plain": [
              "Index(['age', 'duration', 'campaign', 'pdays', 'previous', 'cons.price.idx',\n",
              "       'cons.conf.idx', 'euribor3m', 'job_blue-collar', 'job_entrepreneur',\n",
              "       'job_housemaid', 'job_management', 'job_retired', 'job_self-employed',\n",
              "       'job_services', 'job_student', 'job_technician', 'job_unemployed',\n",
              "       'marital_married', 'marital_single', 'education_basic.6y',\n",
              "       'education_basic.9y', 'education_high.school',\n",
              "       'education_professional.course', 'education_university.degree',\n",
              "       'education_unknown', 'default_unknown', 'housing_unknown',\n",
              "       'housing_yes', 'loan_unknown', 'loan_yes', 'contact_telephone',\n",
              "       'month_aug', 'month_jul', 'month_jun', 'month_mar', 'month_may',\n",
              "       'month_nov', 'month_oct', 'month_sep', 'day_of_week_mon',\n",
              "       'day_of_week_thu', 'day_of_week_tue', 'day_of_week_wed',\n",
              "       'poutcome_nonexistent', 'poutcome_success'],\n",
              "      dtype='object')"
            ]
          },
          "execution_count": 92,
          "metadata": {},
          "output_type": "execute_result"
        }
      ],
      "source": [
        "x.columns[rfecv.support_]"
      ]
    },
    {
      "cell_type": "code",
      "execution_count": 93,
      "metadata": {},
      "outputs": [
        {
          "name": "stdout",
          "output_type": "stream",
          "text": [
            "Fitting estimator with 51 features.\n",
            "Fitting estimator with 46 features.\n",
            "Fitting estimator with 41 features.\n",
            "Fitting estimator with 36 features.\n",
            "Fitting estimator with 31 features.\n",
            "Fitting estimator with 26 features.\n",
            "Fitting estimator with 21 features.\n",
            "Fitting estimator with 16 features.\n",
            "Fitting estimator with 11 features.\n"
          ]
        },
        {
          "name": "stderr",
          "output_type": "stream",
          "text": [
            "C:\\Users\\radek\\Anaconda3\\lib\\site-packages\\sklearn\\base.py:445: UserWarning: X does not have valid feature names, but RFECV was fitted with feature names\n",
            "  warnings.warn(\n"
          ]
        }
      ],
      "source": [
        "from sklearn.feature_selection import RFECV\n",
        "\n",
        "\n",
        "rfecv = RFECV(\n",
        "    estimator=LogisticRegression(),\n",
        "    min_features_to_select=9,\n",
        "    step=5,\n",
        "    n_jobs=-1,\n",
        "    verbose=1,\n",
        "    scoring=\"r2\",\n",
        "    cv=5,\n",
        ")\n",
        "\n",
        "m= rfecv.fit(x, y)\n",
        "features_rfecv = x.columns[rfecv.support_]"
      ]
    },
    {
      "cell_type": "code",
      "execution_count": 90,
      "metadata": {},
      "outputs": [
        {
          "data": {
            "text/plain": [
              "Index(['duration', 'pdays', 'cons.price.idx', 'cons.conf.idx', 'euribor3m',\n",
              "       'contact_telephone', 'month_may', 'poutcome_nonexistent',\n",
              "       'poutcome_success'],\n",
              "      dtype='object')"
            ]
          },
          "execution_count": 90,
          "metadata": {},
          "output_type": "execute_result"
        }
      ],
      "source": [
        "features_rfecv"
      ]
    },
    {
      "cell_type": "code",
      "execution_count": null,
      "metadata": {},
      "outputs": [],
      "source": [
        "'''\n",
        "In the case of RFECV the feature selection with logistic regresion estimator worked much faster and it selected lower number of features with the same parameters thus I will select this one for models.\n",
        "'''"
      ]
    },
    {
      "cell_type": "markdown",
      "metadata": {
        "id": "m9OmWQP5ybBw"
      },
      "source": [
        "Step 7. Apply the RandomForestClassifier and LogisticRegression model with default parameters to your data (you will have 4 models, taking into account two sets of features that you got). What is the accuracy for your models?\n"
      ]
    },
    {
      "cell_type": "markdown",
      "metadata": {},
      "source": [
        "RFE"
      ]
    },
    {
      "cell_type": "code",
      "execution_count": 94,
      "metadata": {
        "id": "HU4cha-ryiqR"
      },
      "outputs": [
        {
          "data": {
            "text/html": [
              "<div>\n",
              "<style scoped>\n",
              "    .dataframe tbody tr th:only-of-type {\n",
              "        vertical-align: middle;\n",
              "    }\n",
              "\n",
              "    .dataframe tbody tr th {\n",
              "        vertical-align: top;\n",
              "    }\n",
              "\n",
              "    .dataframe thead th {\n",
              "        text-align: right;\n",
              "    }\n",
              "</style>\n",
              "<table border=\"1\" class=\"dataframe\">\n",
              "  <thead>\n",
              "    <tr style=\"text-align: right;\">\n",
              "      <th></th>\n",
              "      <th>age</th>\n",
              "      <th>duration</th>\n",
              "      <th>campaign</th>\n",
              "      <th>pdays</th>\n",
              "      <th>previous</th>\n",
              "      <th>cons.price.idx</th>\n",
              "      <th>cons.conf.idx</th>\n",
              "      <th>euribor3m</th>\n",
              "      <th>job_blue-collar</th>\n",
              "      <th>job_technician</th>\n",
              "      <th>...</th>\n",
              "      <th>education_university.degree</th>\n",
              "      <th>housing_yes</th>\n",
              "      <th>loan_yes</th>\n",
              "      <th>contact_telephone</th>\n",
              "      <th>day_of_week_mon</th>\n",
              "      <th>day_of_week_thu</th>\n",
              "      <th>day_of_week_tue</th>\n",
              "      <th>day_of_week_wed</th>\n",
              "      <th>poutcome_nonexistent</th>\n",
              "      <th>poutcome_success</th>\n",
              "    </tr>\n",
              "  </thead>\n",
              "  <tbody>\n",
              "    <tr>\n",
              "      <th>0</th>\n",
              "      <td>1.533034</td>\n",
              "      <td>0.010471</td>\n",
              "      <td>-0.565922</td>\n",
              "      <td>0.195414</td>\n",
              "      <td>-0.349494</td>\n",
              "      <td>0.722722</td>\n",
              "      <td>0.886447</td>\n",
              "      <td>0.71246</td>\n",
              "      <td>-0.538317</td>\n",
              "      <td>-0.442449</td>\n",
              "      <td>...</td>\n",
              "      <td>-0.647531</td>\n",
              "      <td>-1.048877</td>\n",
              "      <td>-0.422872</td>\n",
              "      <td>1.31827</td>\n",
              "      <td>1.959</td>\n",
              "      <td>-0.514581</td>\n",
              "      <td>-0.494394</td>\n",
              "      <td>-0.496067</td>\n",
              "      <td>0.397706</td>\n",
              "      <td>-0.1857</td>\n",
              "    </tr>\n",
              "    <tr>\n",
              "      <th>1</th>\n",
              "      <td>1.628993</td>\n",
              "      <td>-0.421501</td>\n",
              "      <td>-0.565922</td>\n",
              "      <td>0.195414</td>\n",
              "      <td>-0.349494</td>\n",
              "      <td>0.722722</td>\n",
              "      <td>0.886447</td>\n",
              "      <td>0.71246</td>\n",
              "      <td>-0.538317</td>\n",
              "      <td>-0.442449</td>\n",
              "      <td>...</td>\n",
              "      <td>-0.647531</td>\n",
              "      <td>-1.048877</td>\n",
              "      <td>-0.422872</td>\n",
              "      <td>1.31827</td>\n",
              "      <td>1.959</td>\n",
              "      <td>-0.514581</td>\n",
              "      <td>-0.494394</td>\n",
              "      <td>-0.496067</td>\n",
              "      <td>0.397706</td>\n",
              "      <td>-0.1857</td>\n",
              "    </tr>\n",
              "    <tr>\n",
              "      <th>2</th>\n",
              "      <td>-0.290186</td>\n",
              "      <td>-0.124520</td>\n",
              "      <td>-0.565922</td>\n",
              "      <td>0.195414</td>\n",
              "      <td>-0.349494</td>\n",
              "      <td>0.722722</td>\n",
              "      <td>0.886447</td>\n",
              "      <td>0.71246</td>\n",
              "      <td>-0.538317</td>\n",
              "      <td>-0.442449</td>\n",
              "      <td>...</td>\n",
              "      <td>-0.647531</td>\n",
              "      <td>0.953401</td>\n",
              "      <td>-0.422872</td>\n",
              "      <td>1.31827</td>\n",
              "      <td>1.959</td>\n",
              "      <td>-0.514581</td>\n",
              "      <td>-0.494394</td>\n",
              "      <td>-0.496067</td>\n",
              "      <td>0.397706</td>\n",
              "      <td>-0.1857</td>\n",
              "    </tr>\n",
              "    <tr>\n",
              "      <th>3</th>\n",
              "      <td>-0.002309</td>\n",
              "      <td>-0.413787</td>\n",
              "      <td>-0.565922</td>\n",
              "      <td>0.195414</td>\n",
              "      <td>-0.349494</td>\n",
              "      <td>0.722722</td>\n",
              "      <td>0.886447</td>\n",
              "      <td>0.71246</td>\n",
              "      <td>-0.538317</td>\n",
              "      <td>-0.442449</td>\n",
              "      <td>...</td>\n",
              "      <td>-0.647531</td>\n",
              "      <td>-1.048877</td>\n",
              "      <td>-0.422872</td>\n",
              "      <td>1.31827</td>\n",
              "      <td>1.959</td>\n",
              "      <td>-0.514581</td>\n",
              "      <td>-0.494394</td>\n",
              "      <td>-0.496067</td>\n",
              "      <td>0.397706</td>\n",
              "      <td>-0.1857</td>\n",
              "    </tr>\n",
              "    <tr>\n",
              "      <th>4</th>\n",
              "      <td>1.533034</td>\n",
              "      <td>0.187888</td>\n",
              "      <td>-0.565922</td>\n",
              "      <td>0.195414</td>\n",
              "      <td>-0.349494</td>\n",
              "      <td>0.722722</td>\n",
              "      <td>0.886447</td>\n",
              "      <td>0.71246</td>\n",
              "      <td>-0.538317</td>\n",
              "      <td>-0.442449</td>\n",
              "      <td>...</td>\n",
              "      <td>-0.647531</td>\n",
              "      <td>-1.048877</td>\n",
              "      <td>2.364781</td>\n",
              "      <td>1.31827</td>\n",
              "      <td>1.959</td>\n",
              "      <td>-0.514581</td>\n",
              "      <td>-0.494394</td>\n",
              "      <td>-0.496067</td>\n",
              "      <td>0.397706</td>\n",
              "      <td>-0.1857</td>\n",
              "    </tr>\n",
              "  </tbody>\n",
              "</table>\n",
              "<p>5 rows × 25 columns</p>\n",
              "</div>"
            ],
            "text/plain": [
              "        age  duration  campaign     pdays  previous  cons.price.idx  \\\n",
              "0  1.533034  0.010471 -0.565922  0.195414 -0.349494        0.722722   \n",
              "1  1.628993 -0.421501 -0.565922  0.195414 -0.349494        0.722722   \n",
              "2 -0.290186 -0.124520 -0.565922  0.195414 -0.349494        0.722722   \n",
              "3 -0.002309 -0.413787 -0.565922  0.195414 -0.349494        0.722722   \n",
              "4  1.533034  0.187888 -0.565922  0.195414 -0.349494        0.722722   \n",
              "\n",
              "   cons.conf.idx  euribor3m  job_blue-collar  job_technician  ...  \\\n",
              "0       0.886447    0.71246        -0.538317       -0.442449  ...   \n",
              "1       0.886447    0.71246        -0.538317       -0.442449  ...   \n",
              "2       0.886447    0.71246        -0.538317       -0.442449  ...   \n",
              "3       0.886447    0.71246        -0.538317       -0.442449  ...   \n",
              "4       0.886447    0.71246        -0.538317       -0.442449  ...   \n",
              "\n",
              "   education_university.degree  housing_yes  loan_yes  contact_telephone  \\\n",
              "0                    -0.647531    -1.048877 -0.422872            1.31827   \n",
              "1                    -0.647531    -1.048877 -0.422872            1.31827   \n",
              "2                    -0.647531     0.953401 -0.422872            1.31827   \n",
              "3                    -0.647531    -1.048877 -0.422872            1.31827   \n",
              "4                    -0.647531    -1.048877  2.364781            1.31827   \n",
              "\n",
              "   day_of_week_mon  day_of_week_thu  day_of_week_tue  day_of_week_wed  \\\n",
              "0            1.959        -0.514581        -0.494394        -0.496067   \n",
              "1            1.959        -0.514581        -0.494394        -0.496067   \n",
              "2            1.959        -0.514581        -0.494394        -0.496067   \n",
              "3            1.959        -0.514581        -0.494394        -0.496067   \n",
              "4            1.959        -0.514581        -0.494394        -0.496067   \n",
              "\n",
              "   poutcome_nonexistent  poutcome_success  \n",
              "0              0.397706           -0.1857  \n",
              "1              0.397706           -0.1857  \n",
              "2              0.397706           -0.1857  \n",
              "3              0.397706           -0.1857  \n",
              "4              0.397706           -0.1857  \n",
              "\n",
              "[5 rows x 25 columns]"
            ]
          },
          "execution_count": 94,
          "metadata": {},
          "output_type": "execute_result"
        }
      ],
      "source": [
        "#I divide features for train and test and then I will train and test the models\n",
        "new_x=x[features_rfe]\n",
        "new_x.head()"
      ]
    },
    {
      "cell_type": "code",
      "execution_count": 95,
      "metadata": {},
      "outputs": [
        {
          "name": "stdout",
          "output_type": "stream",
          "text": [
            "(32950, 25)\n",
            "(32950,)\n",
            "(8238, 25)\n",
            "(8238,)\n"
          ]
        }
      ],
      "source": [
        "x_train, x_test, y_train, y_test = train_test_split(new_x, y, test_size=0.2, random_state=5)\n",
        "print(x_train.shape)\n",
        "print(y_train.shape)\n",
        "print(x_test.shape)\n",
        "print(y_test.shape)"
      ]
    },
    {
      "cell_type": "code",
      "execution_count": 96,
      "metadata": {},
      "outputs": [
        {
          "name": "stdout",
          "output_type": "stream",
          "text": [
            "The accuracy of the Random Forest Classifier is: 91.06579266812334 %\n",
            "\n",
            "The classification report for Random Forest Classifier is:\n",
            "              precision    recall  f1-score   support\n",
            "\n",
            "           0       0.93      0.97      0.95      7245\n",
            "           1       0.68      0.49      0.57       993\n",
            "\n",
            "    accuracy                           0.91      8238\n",
            "   macro avg       0.81      0.73      0.76      8238\n",
            "weighted avg       0.90      0.91      0.90      8238\n",
            "\n"
          ]
        },
        {
          "data": {
            "image/png": "[encoded data removed]",
            "text/plain": [
              "<Figure size 576x432 with 2 Axes>"
            ]
          },
          "metadata": {
            "needs_background": "light"
          },
          "output_type": "display_data"
        }
      ],
      "source": [
        "#Now I model with RFC\n",
        "rfc = RandomForestClassifier()\n",
        "rfc.fit(x_train, y_train)\n",
        "y_pred = rfc.predict(x_test)\n",
        "acc_rfc = rfc.score(x_test, y_test)\n",
        "print('The accuracy of the Random Forest Classifier is:', acc_rfc * 100, '%')\n",
        "generate_results(rfc, y_pred, 'Random Forest Classifier')"
      ]
    },
    {
      "cell_type": "code",
      "execution_count": 97,
      "metadata": {},
      "outputs": [
        {
          "name": "stdout",
          "output_type": "stream",
          "text": [
            "The accuracy of the Logistic Regression is: 90.56809905316825 %\n",
            "\n",
            "The classification report for Logistic Regression is:\n",
            "              precision    recall  f1-score   support\n",
            "\n",
            "           0       0.92      0.98      0.95      7245\n",
            "           1       0.71      0.37      0.49       993\n",
            "\n",
            "    accuracy                           0.91      8238\n",
            "   macro avg       0.81      0.68      0.72      8238\n",
            "weighted avg       0.89      0.91      0.89      8238\n",
            "\n"
          ]
        },
        {
          "data": {
            "image/png": "[encoded data removed]",
            "text/plain": [
              "<Figure size 576x432 with 2 Axes>"
            ]
          },
          "metadata": {
            "needs_background": "light"
          },
          "output_type": "display_data"
        }
      ],
      "source": [
        "#And now with LR\n",
        "lr = LogisticRegression(random_state = 0, solver='lbfgs', multi_class='auto')\n",
        "lr.fit(x_train, y_train)\n",
        "y_pred = lr.predict(x_test)\n",
        "# Predict probabilities\n",
        "probs_y=lr.predict_proba(x_test)\n",
        "### Print results \n",
        "probs_y = np.round(probs_y, 2)\n",
        "print('The accuracy of the Logistic Regression is:', lr.score(x_test, y_test) * 100, '%')\n",
        "generate_results(lr, y_pred, 'Logistic Regression')"
      ]
    },
    {
      "cell_type": "markdown",
      "metadata": {},
      "source": [
        "RFECV"
      ]
    },
    {
      "cell_type": "code",
      "execution_count": 98,
      "metadata": {},
      "outputs": [
        {
          "data": {
            "text/html": [
              "<div>\n",
              "<style scoped>\n",
              "    .dataframe tbody tr th:only-of-type {\n",
              "        vertical-align: middle;\n",
              "    }\n",
              "\n",
              "    .dataframe tbody tr th {\n",
              "        vertical-align: top;\n",
              "    }\n",
              "\n",
              "    .dataframe thead th {\n",
              "        text-align: right;\n",
              "    }\n",
              "</style>\n",
              "<table border=\"1\" class=\"dataframe\">\n",
              "  <thead>\n",
              "    <tr style=\"text-align: right;\">\n",
              "      <th></th>\n",
              "      <th>duration</th>\n",
              "      <th>pdays</th>\n",
              "      <th>cons.price.idx</th>\n",
              "      <th>cons.conf.idx</th>\n",
              "      <th>euribor3m</th>\n",
              "      <th>contact_telephone</th>\n",
              "      <th>month_may</th>\n",
              "      <th>poutcome_nonexistent</th>\n",
              "      <th>poutcome_success</th>\n",
              "    </tr>\n",
              "  </thead>\n",
              "  <tbody>\n",
              "    <tr>\n",
              "      <th>0</th>\n",
              "      <td>0.010471</td>\n",
              "      <td>0.195414</td>\n",
              "      <td>0.722722</td>\n",
              "      <td>0.886447</td>\n",
              "      <td>0.71246</td>\n",
              "      <td>1.31827</td>\n",
              "      <td>1.411155</td>\n",
              "      <td>0.397706</td>\n",
              "      <td>-0.1857</td>\n",
              "    </tr>\n",
              "    <tr>\n",
              "      <th>1</th>\n",
              "      <td>-0.421501</td>\n",
              "      <td>0.195414</td>\n",
              "      <td>0.722722</td>\n",
              "      <td>0.886447</td>\n",
              "      <td>0.71246</td>\n",
              "      <td>1.31827</td>\n",
              "      <td>1.411155</td>\n",
              "      <td>0.397706</td>\n",
              "      <td>-0.1857</td>\n",
              "    </tr>\n",
              "    <tr>\n",
              "      <th>2</th>\n",
              "      <td>-0.124520</td>\n",
              "      <td>0.195414</td>\n",
              "      <td>0.722722</td>\n",
              "      <td>0.886447</td>\n",
              "      <td>0.71246</td>\n",
              "      <td>1.31827</td>\n",
              "      <td>1.411155</td>\n",
              "      <td>0.397706</td>\n",
              "      <td>-0.1857</td>\n",
              "    </tr>\n",
              "    <tr>\n",
              "      <th>3</th>\n",
              "      <td>-0.413787</td>\n",
              "      <td>0.195414</td>\n",
              "      <td>0.722722</td>\n",
              "      <td>0.886447</td>\n",
              "      <td>0.71246</td>\n",
              "      <td>1.31827</td>\n",
              "      <td>1.411155</td>\n",
              "      <td>0.397706</td>\n",
              "      <td>-0.1857</td>\n",
              "    </tr>\n",
              "    <tr>\n",
              "      <th>4</th>\n",
              "      <td>0.187888</td>\n",
              "      <td>0.195414</td>\n",
              "      <td>0.722722</td>\n",
              "      <td>0.886447</td>\n",
              "      <td>0.71246</td>\n",
              "      <td>1.31827</td>\n",
              "      <td>1.411155</td>\n",
              "      <td>0.397706</td>\n",
              "      <td>-0.1857</td>\n",
              "    </tr>\n",
              "  </tbody>\n",
              "</table>\n",
              "</div>"
            ],
            "text/plain": [
              "   duration     pdays  cons.price.idx  cons.conf.idx  euribor3m  \\\n",
              "0  0.010471  0.195414        0.722722       0.886447    0.71246   \n",
              "1 -0.421501  0.195414        0.722722       0.886447    0.71246   \n",
              "2 -0.124520  0.195414        0.722722       0.886447    0.71246   \n",
              "3 -0.413787  0.195414        0.722722       0.886447    0.71246   \n",
              "4  0.187888  0.195414        0.722722       0.886447    0.71246   \n",
              "\n",
              "   contact_telephone  month_may  poutcome_nonexistent  poutcome_success  \n",
              "0            1.31827   1.411155              0.397706           -0.1857  \n",
              "1            1.31827   1.411155              0.397706           -0.1857  \n",
              "2            1.31827   1.411155              0.397706           -0.1857  \n",
              "3            1.31827   1.411155              0.397706           -0.1857  \n",
              "4            1.31827   1.411155              0.397706           -0.1857  "
            ]
          },
          "execution_count": 98,
          "metadata": {},
          "output_type": "execute_result"
        }
      ],
      "source": [
        "#create new features and do split for train and test\n",
        "new_x=x[features_rfecv]\n",
        "new_x.head()"
      ]
    },
    {
      "cell_type": "code",
      "execution_count": 99,
      "metadata": {},
      "outputs": [
        {
          "name": "stdout",
          "output_type": "stream",
          "text": [
            "(32950, 9)\n",
            "(32950,)\n",
            "(8238, 9)\n",
            "(8238,)\n"
          ]
        }
      ],
      "source": [
        "x_train, x_test, y_train, y_test = train_test_split(new_x, y, test_size=0.2, random_state=5)\n",
        "print(x_train.shape)\n",
        "print(y_train.shape)\n",
        "print(x_test.shape)\n",
        "print(y_test.shape)"
      ]
    },
    {
      "cell_type": "code",
      "execution_count": 100,
      "metadata": {},
      "outputs": [
        {
          "name": "stdout",
          "output_type": "stream",
          "text": [
            "The accuracy of the Random Forest Classifier is: 90.13109978150037 %\n",
            "\n",
            "The classification report for Random Forest Classifier is:\n",
            "              precision    recall  f1-score   support\n",
            "\n",
            "           0       0.94      0.95      0.94      7245\n",
            "           1       0.60      0.53      0.56       993\n",
            "\n",
            "    accuracy                           0.90      8238\n",
            "   macro avg       0.77      0.74      0.75      8238\n",
            "weighted avg       0.90      0.90      0.90      8238\n",
            "\n"
          ]
        },
        {
          "data": {
            "image/png": "[encoded data removed]",
            "text/plain": [
              "<Figure size 576x432 with 2 Axes>"
            ]
          },
          "metadata": {
            "needs_background": "light"
          },
          "output_type": "display_data"
        }
      ],
      "source": [
        "# I model with RFC\n",
        "rfc = RandomForestClassifier()\n",
        "rfc.fit(x_train, y_train)\n",
        "y_pred = rfc.predict(x_test)\n",
        "acc_rfc = rfc.score(x_test, y_test)\n",
        "print('The accuracy of the Random Forest Classifier is:', acc_rfc * 100, '%')\n",
        "generate_results(rfc, y_pred, 'Random Forest Classifier')"
      ]
    },
    {
      "cell_type": "code",
      "execution_count": 101,
      "metadata": {},
      "outputs": [
        {
          "name": "stdout",
          "output_type": "stream",
          "text": [
            "The accuracy of the Logistic Regression is: 90.37387715464918 %\n",
            "\n",
            "The classification report for Logistic Regression is:\n",
            "              precision    recall  f1-score   support\n",
            "\n",
            "           0       0.92      0.98      0.95      7245\n",
            "           1       0.69      0.37      0.48       993\n",
            "\n",
            "    accuracy                           0.90      8238\n",
            "   macro avg       0.80      0.67      0.71      8238\n",
            "weighted avg       0.89      0.90      0.89      8238\n",
            "\n"
          ]
        },
        {
          "data": {
            "image/png": "[encoded data removed]",
            "text/plain": [
              "<Figure size 576x432 with 2 Axes>"
            ]
          },
          "metadata": {
            "needs_background": "light"
          },
          "output_type": "display_data"
        }
      ],
      "source": [
        "#And I model with LR\n",
        "lr = LogisticRegression(random_state = 0, solver='lbfgs', multi_class='auto')\n",
        "lr.fit(x_train, y_train)\n",
        "y_pred = lr.predict(x_test)\n",
        "# Predict probabilities\n",
        "probs_y=lr.predict_proba(x_test)\n",
        "### Print results \n",
        "probs_y = np.round(probs_y, 2)\n",
        "print('The accuracy of the Logistic Regression is:', lr.score(x_test, y_test) * 100, '%')\n",
        "generate_results(lr, y_pred, 'Logistic Regression')"
      ]
    },
    {
      "cell_type": "markdown",
      "metadata": {
        "id": "37SCDzF0yBZC"
      },
      "source": [
        "\n",
        "\n",
        "\n",
        "\n",
        "\n",
        "\n",
        "\n",
        "\n",
        "\n",
        "Step 8. Please make the conclusion about the utility of the feature selection"
      ]
    },
    {
      "cell_type": "code",
      "execution_count": null,
      "metadata": {
        "id": "35gKrW65f9Ym"
      },
      "outputs": [],
      "source": [
        "'''\n",
        "The above example showed that feature selection is very useful. I tried diffrent models and diffrent methods of feature selection. All of them and the end gave models with accuracy of ca. 90%, but what is important they allowed to build a model not on 51 features (first data) but only on 9. This really shows how powerful tool it is. Another important remark for my future work is that RFECV selection takes a lot of time, especially when combined with RFC. It was much faster, and gave better results (less features selected) when LR was used as an estimator.\n",
        "'''"
      ]
    },
    {
      "cell_type": "code",
      "execution_count": null,
      "metadata": {
        "id": "xMG7-WLtx_kz"
      },
      "outputs": [],
      "source": []
    }
  ],
  "metadata": {
    "colab": {
      "collapsed_sections": [
        "gDkJXhN9fhcA",
        "49TTLiq7fhcF",
        "TciEBCyXfhcG",
        "memkwXoPfhcH",
        "t5SyM4bTfhcH",
        "SufgsNC1fhcI",
        "6nbSfbWWfhcJ",
        "tbCazUjNfhcK",
        "8ctUrk4DfhcL",
        "UfPYpqjHfhcM",
        "oDMV_zHffhcM",
        "128J08eFfhcP",
        "auNRd2TjfhcQ",
        "x6NQcl_vfhcR",
        "m1cfmFmWfhcS",
        "eNxu-scifhcT",
        "o0Llo0cNfhcT",
        "Aj0qu-_1fhcU",
        "aNZMlA9RfhcX",
        "LTOHBfanfhcY",
        "EXhmXFJifhcb"
      ],
      "name": "main.ipynb",
      "provenance": []
    },
    "kernelspec": {
      "display_name": "Python 3",
      "language": "python",
      "name": "python3"
    },
    "language_info": {
      "codemirror_mode": {
        "name": "ipython",
        "version": 3
      },
      "file_extension": ".py",
      "mimetype": "text/x-python",
      "name": "python",
      "nbconvert_exporter": "python",
      "pygments_lexer": "ipython3",
      "version": "3.8.12"
    }
  },
  "nbformat": 4,
  "nbformat_minor": 0
}
