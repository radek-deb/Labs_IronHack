{
 "cells": [
  {
   "cell_type": "markdown",
   "metadata": {},
   "source": [
    "# Intrduction to NumPy\n",
    "\n",
    "\n",
    "#### 1. Import NumPy under the name np."
   ]
  },
  {
   "cell_type": "code",
   "execution_count": 2,
   "metadata": {},
   "outputs": [],
   "source": [
    "# your code here\n",
    "import numpy as np"
   ]
  },
  {
   "cell_type": "markdown",
   "metadata": {},
   "source": [
    "#### 2. Print your NumPy version."
   ]
  },
  {
   "cell_type": "code",
   "execution_count": 2,
   "metadata": {},
   "outputs": [
    {
     "data": {
      "text/plain": [
       "'1.20.3'"
      ]
     },
     "execution_count": 2,
     "metadata": {},
     "output_type": "execute_result"
    }
   ],
   "source": [
    "# your code here\n",
    "np.version.version"
   ]
  },
  {
   "cell_type": "markdown",
   "metadata": {},
   "source": [
    "#### 3. Generate a 2x3x5 3-dimensional array with random values. Assign the array to variable *a*.\n",
    "**Challenge**: there are at least three easy ways that use numpy to generate random arrays. How many ways can you find?"
   ]
  },
  {
   "cell_type": "code",
   "execution_count": 4,
   "metadata": {},
   "outputs": [
    {
     "data": {
      "text/plain": [
       "array([[[0.1982332 , 0.36273977, 0.72921533, 0.08275464, 0.05778119],\n",
       "        [0.10058995, 0.25493287, 0.55837006, 0.94635648, 0.63704384],\n",
       "        [0.40061635, 0.72384071, 0.02314334, 0.0556303 , 0.2834434 ]],\n",
       "\n",
       "       [[0.89172931, 0.93715215, 0.52966414, 0.85980306, 0.28936244],\n",
       "        [0.38355852, 0.13741304, 0.31349861, 0.26691449, 0.19218394],\n",
       "        [0.25620858, 0.01456982, 0.92722377, 0.99969719, 0.61674715]]])"
      ]
     },
     "execution_count": 4,
     "metadata": {},
     "output_type": "execute_result"
    }
   ],
   "source": [
    "# Method 1\n",
    "a = np.random.rand(2,3,5)\n",
    "a"
   ]
  },
  {
   "cell_type": "code",
   "execution_count": 8,
   "metadata": {},
   "outputs": [
    {
     "data": {
      "text/plain": [
       "array([[[92, 87, 21, 89, 82],\n",
       "        [21, 47, 86, 90, 64],\n",
       "        [84, 84,  4, 31, 54]],\n",
       "\n",
       "       [[69, 60, 86, 68, 41],\n",
       "        [43, 17, 74, 98, 76],\n",
       "        [48, 54, 39, 77, 63]]])"
      ]
     },
     "execution_count": 8,
     "metadata": {},
     "output_type": "execute_result"
    }
   ],
   "source": [
    "# Method 2\n",
    "a = np.random.randint(1,100,(2,3,5))\n",
    "a"
   ]
  },
  {
   "cell_type": "code",
   "execution_count": 10,
   "metadata": {},
   "outputs": [
    {
     "data": {
      "text/plain": [
       "array([[[0.15690396, 0.51480705, 0.8497923 , 0.76437967, 0.82955467],\n",
       "        [0.79928457, 0.75860636, 0.33869879, 0.87605849, 0.90440185],\n",
       "        [0.13186611, 0.71810642, 0.33740362, 0.84115849, 0.07550893]],\n",
       "\n",
       "       [[0.39261321, 0.89479247, 0.4432596 , 0.51632681, 0.50514973],\n",
       "        [0.20223333, 0.56227888, 0.32754833, 0.17094908, 0.27779657],\n",
       "        [0.41513367, 0.24639149, 0.49350582, 0.29286643, 0.21770437]]])"
      ]
     },
     "execution_count": 10,
     "metadata": {},
     "output_type": "execute_result"
    }
   ],
   "source": [
    "# Method 3\n",
    "a = np.random.random((2,3,5))\n",
    "a"
   ]
  },
  {
   "cell_type": "markdown",
   "metadata": {},
   "source": [
    "#### 4. Print *a*.\n"
   ]
  },
  {
   "cell_type": "code",
   "execution_count": 11,
   "metadata": {},
   "outputs": [
    {
     "name": "stdout",
     "output_type": "stream",
     "text": [
      "[[[0.15690396 0.51480705 0.8497923  0.76437967 0.82955467]\n",
      "  [0.79928457 0.75860636 0.33869879 0.87605849 0.90440185]\n",
      "  [0.13186611 0.71810642 0.33740362 0.84115849 0.07550893]]\n",
      "\n",
      " [[0.39261321 0.89479247 0.4432596  0.51632681 0.50514973]\n",
      "  [0.20223333 0.56227888 0.32754833 0.17094908 0.27779657]\n",
      "  [0.41513367 0.24639149 0.49350582 0.29286643 0.21770437]]]\n"
     ]
    }
   ],
   "source": [
    "# your code here\n",
    "print(a)"
   ]
  },
  {
   "cell_type": "markdown",
   "metadata": {},
   "source": [
    "#### 5. Create a 5x2x3 3-dimensional array with all values equaling 1. Assign the array to variable *b*."
   ]
  },
  {
   "cell_type": "code",
   "execution_count": 12,
   "metadata": {},
   "outputs": [],
   "source": [
    "# your code here\n",
    "b = np.ones((5,2,3))"
   ]
  },
  {
   "cell_type": "markdown",
   "metadata": {},
   "source": [
    "#### 6. Print *b*.\n"
   ]
  },
  {
   "cell_type": "code",
   "execution_count": 13,
   "metadata": {},
   "outputs": [
    {
     "name": "stdout",
     "output_type": "stream",
     "text": [
      "[[[1. 1. 1.]\n",
      "  [1. 1. 1.]]\n",
      "\n",
      " [[1. 1. 1.]\n",
      "  [1. 1. 1.]]\n",
      "\n",
      " [[1. 1. 1.]\n",
      "  [1. 1. 1.]]\n",
      "\n",
      " [[1. 1. 1.]\n",
      "  [1. 1. 1.]]\n",
      "\n",
      " [[1. 1. 1.]\n",
      "  [1. 1. 1.]]]\n"
     ]
    }
   ],
   "source": [
    "# your code here\n",
    "print(b)"
   ]
  },
  {
   "cell_type": "markdown",
   "metadata": {},
   "source": [
    "#### 7. Do *a* and *b* have the same size? How do you prove that in Python code?"
   ]
  },
  {
   "cell_type": "code",
   "execution_count": 15,
   "metadata": {},
   "outputs": [
    {
     "name": "stdout",
     "output_type": "stream",
     "text": [
      "30\n",
      "30\n"
     ]
    },
    {
     "data": {
      "text/plain": [
       "True"
      ]
     },
     "execution_count": 15,
     "metadata": {},
     "output_type": "execute_result"
    }
   ],
   "source": [
    "# your code here\n",
    "print(a.size)\n",
    "print(b.size)\n",
    "a.size == b.size"
   ]
  },
  {
   "cell_type": "markdown",
   "metadata": {},
   "source": [
    "#### 8. Are you able to add *a* and *b*? Why or why not?\n"
   ]
  },
  {
   "cell_type": "code",
   "execution_count": 16,
   "metadata": {},
   "outputs": [
    {
     "ename": "ValueError",
     "evalue": "operands could not be broadcast together with shapes (2,3,5) (5,2,3) ",
     "output_type": "error",
     "traceback": [
      "\u001b[1;31m---------------------------------------------------------------------------\u001b[0m",
      "\u001b[1;31mValueError\u001b[0m                                Traceback (most recent call last)",
      "\u001b[1;32m~\\AppData\\Local\\Temp/ipykernel_14036/3739702805.py\u001b[0m in \u001b[0;36m<module>\u001b[1;34m\u001b[0m\n\u001b[0;32m      1\u001b[0m \u001b[1;31m# your answer here\u001b[0m\u001b[1;33m\u001b[0m\u001b[1;33m\u001b[0m\u001b[1;33m\u001b[0m\u001b[0m\n\u001b[1;32m----> 2\u001b[1;33m \u001b[0ma\u001b[0m \u001b[1;33m+\u001b[0m \u001b[0mb\u001b[0m\u001b[1;33m\u001b[0m\u001b[1;33m\u001b[0m\u001b[0m\n\u001b[0m",
      "\u001b[1;31mValueError\u001b[0m: operands could not be broadcast together with shapes (2,3,5) (5,2,3) "
     ]
    }
   ],
   "source": [
    "# your answer here\n",
    "a + b"
   ]
  },
  {
   "cell_type": "markdown",
   "metadata": {},
   "source": [
    "I cannot add them because they don't have the same shape"
   ]
  },
  {
   "cell_type": "code",
   "execution_count": 18,
   "metadata": {},
   "outputs": [
    {
     "name": "stdout",
     "output_type": "stream",
     "text": [
      "(2, 3, 5)\n",
      "(5, 2, 3)\n"
     ]
    },
    {
     "data": {
      "text/plain": [
       "False"
      ]
     },
     "execution_count": 18,
     "metadata": {},
     "output_type": "execute_result"
    }
   ],
   "source": [
    "print(a.shape)\n",
    "print(b.shape)\n",
    "\n",
    "a.shape == b.shape"
   ]
  },
  {
   "cell_type": "markdown",
   "metadata": {},
   "source": [
    "#### 9. Transpose *b* so that it has the same structure of *a* (i.e. become a 2x3x5 array). Assign the transposed array to variable *c*."
   ]
  },
  {
   "cell_type": "code",
   "execution_count": 30,
   "metadata": {},
   "outputs": [
    {
     "name": "stdout",
     "output_type": "stream",
     "text": [
      "(2, 3, 5)\n",
      "True\n"
     ]
    }
   ],
   "source": [
    "# your code here\n",
    "c = b.reshape((2,3,5))\n",
    "print(c.shape)\n",
    "print(c.shape == a.shape)\n"
   ]
  },
  {
   "cell_type": "markdown",
   "metadata": {},
   "source": [
    "#### 10. Try to add *a* and *c*. Now it should work. Assign the sum to variable *d*. But why does it work now?"
   ]
  },
  {
   "cell_type": "code",
   "execution_count": 31,
   "metadata": {},
   "outputs": [
    {
     "data": {
      "text/plain": [
       "array([[[1.15690396, 1.51480705, 1.8497923 , 1.76437967, 1.82955467],\n",
       "        [1.79928457, 1.75860636, 1.33869879, 1.87605849, 1.90440185],\n",
       "        [1.13186611, 1.71810642, 1.33740362, 1.84115849, 1.07550893]],\n",
       "\n",
       "       [[1.39261321, 1.89479247, 1.4432596 , 1.51632681, 1.50514973],\n",
       "        [1.20223333, 1.56227888, 1.32754833, 1.17094908, 1.27779657],\n",
       "        [1.41513367, 1.24639149, 1.49350582, 1.29286643, 1.21770437]]])"
      ]
     },
     "execution_count": 31,
     "metadata": {},
     "output_type": "execute_result"
    }
   ],
   "source": [
    "# your code/answer here\n",
    "d = a + c\n",
    "d"
   ]
  },
  {
   "cell_type": "markdown",
   "metadata": {},
   "source": [
    "It worked this time, because a and c have the same shape now"
   ]
  },
  {
   "cell_type": "code",
   "execution_count": 32,
   "metadata": {},
   "outputs": [
    {
     "name": "stdout",
     "output_type": "stream",
     "text": [
      "True\n"
     ]
    }
   ],
   "source": [
    "print(c.shape == a.shape)"
   ]
  },
  {
   "cell_type": "markdown",
   "metadata": {},
   "source": [
    "#### 11. Print *a* and *d*. Notice the difference and relation of the two array in terms of the values? Explain."
   ]
  },
  {
   "cell_type": "code",
   "execution_count": 33,
   "metadata": {},
   "outputs": [
    {
     "name": "stdout",
     "output_type": "stream",
     "text": [
      "[[[0.15690396 0.51480705 0.8497923  0.76437967 0.82955467]\n",
      "  [0.79928457 0.75860636 0.33869879 0.87605849 0.90440185]\n",
      "  [0.13186611 0.71810642 0.33740362 0.84115849 0.07550893]]\n",
      "\n",
      " [[0.39261321 0.89479247 0.4432596  0.51632681 0.50514973]\n",
      "  [0.20223333 0.56227888 0.32754833 0.17094908 0.27779657]\n",
      "  [0.41513367 0.24639149 0.49350582 0.29286643 0.21770437]]]\n",
      "[[[1.15690396 1.51480705 1.8497923  1.76437967 1.82955467]\n",
      "  [1.79928457 1.75860636 1.33869879 1.87605849 1.90440185]\n",
      "  [1.13186611 1.71810642 1.33740362 1.84115849 1.07550893]]\n",
      "\n",
      " [[1.39261321 1.89479247 1.4432596  1.51632681 1.50514973]\n",
      "  [1.20223333 1.56227888 1.32754833 1.17094908 1.27779657]\n",
      "  [1.41513367 1.24639149 1.49350582 1.29286643 1.21770437]]]\n"
     ]
    }
   ],
   "source": [
    "# your code/answer here\n",
    "print(a)\n",
    "print(d)"
   ]
  },
  {
   "cell_type": "markdown",
   "metadata": {},
   "source": [
    "The array c was the array of values of 1. Array d came from addition of a to c. Thus every element of array c is greater by 1 from every element of array a."
   ]
  },
  {
   "cell_type": "markdown",
   "metadata": {},
   "source": [
    "#### 12. Multiply *a* and *c*. Assign the result to *e*."
   ]
  },
  {
   "cell_type": "code",
   "execution_count": 35,
   "metadata": {},
   "outputs": [
    {
     "data": {
      "text/plain": [
       "array([[[0.15690396, 0.51480705, 0.8497923 , 0.76437967, 0.82955467],\n",
       "        [0.79928457, 0.75860636, 0.33869879, 0.87605849, 0.90440185],\n",
       "        [0.13186611, 0.71810642, 0.33740362, 0.84115849, 0.07550893]],\n",
       "\n",
       "       [[0.39261321, 0.89479247, 0.4432596 , 0.51632681, 0.50514973],\n",
       "        [0.20223333, 0.56227888, 0.32754833, 0.17094908, 0.27779657],\n",
       "        [0.41513367, 0.24639149, 0.49350582, 0.29286643, 0.21770437]]])"
      ]
     },
     "execution_count": 35,
     "metadata": {},
     "output_type": "execute_result"
    }
   ],
   "source": [
    "# your code here\n",
    "e = a*c\n",
    "e"
   ]
  },
  {
   "cell_type": "markdown",
   "metadata": {},
   "source": [
    "#### 13. Does *e* equal to *a*? Why or why not?\n"
   ]
  },
  {
   "cell_type": "code",
   "execution_count": 40,
   "metadata": {},
   "outputs": [
    {
     "data": {
      "text/plain": [
       "array([[[ True,  True,  True,  True,  True],\n",
       "        [ True,  True,  True,  True,  True],\n",
       "        [ True,  True,  True,  True,  True]],\n",
       "\n",
       "       [[ True,  True,  True,  True,  True],\n",
       "        [ True,  True,  True,  True,  True],\n",
       "        [ True,  True,  True,  True,  True]]])"
      ]
     },
     "execution_count": 40,
     "metadata": {},
     "output_type": "execute_result"
    }
   ],
   "source": [
    "# your code/answer here\n",
    "\n",
    "a == e"
   ]
  },
  {
   "cell_type": "markdown",
   "metadata": {},
   "source": [
    "'e' is equal to 'a'. as c was a matrix of values 1, then the multiplication of the matrix a by matrix c didn't change its values. "
   ]
  },
  {
   "cell_type": "markdown",
   "metadata": {},
   "source": [
    "#### 14. Identify the max, min, and mean values in *d*. Assign those values to variables *d_max*, *d_min* and *d_mean*."
   ]
  },
  {
   "cell_type": "code",
   "execution_count": 42,
   "metadata": {},
   "outputs": [
    {
     "data": {
      "text/plain": [
       "1.9044018512187542"
      ]
     },
     "execution_count": 42,
     "metadata": {},
     "output_type": "execute_result"
    }
   ],
   "source": [
    "# your code here\n",
    "d_max = np.max(d)\n",
    "d_max"
   ]
  },
  {
   "cell_type": "code",
   "execution_count": 43,
   "metadata": {},
   "outputs": [
    {
     "data": {
      "text/plain": [
       "1.0755089345426487"
      ]
     },
     "execution_count": 43,
     "metadata": {},
     "output_type": "execute_result"
    }
   ],
   "source": [
    "d_min = np.min(d)\n",
    "d_min"
   ]
  },
  {
   "cell_type": "code",
   "execution_count": 44,
   "metadata": {},
   "outputs": [
    {
     "data": {
      "text/plain": [
       "1.4951693695015187"
      ]
     },
     "execution_count": 44,
     "metadata": {},
     "output_type": "execute_result"
    }
   ],
   "source": [
    "d_mean = np.mean(d)\n",
    "d_mean"
   ]
  },
  {
   "cell_type": "markdown",
   "metadata": {},
   "source": [
    "#### 15. Now we want to label the values in *d*. First create an empty array *f* with the same shape (i.e. 2x3x5) as *d* using `np.empty`.\n"
   ]
  },
  {
   "cell_type": "code",
   "execution_count": 51,
   "metadata": {},
   "outputs": [
    {
     "data": {
      "text/plain": [
       "array([[[0.15690396, 0.51480705, 0.8497923 , 0.76437967, 0.82955467],\n",
       "        [0.79928457, 0.75860636, 0.33869879, 0.87605849, 0.90440185],\n",
       "        [0.13186611, 0.71810642, 0.33740362, 0.84115849, 0.07550893]],\n",
       "\n",
       "       [[0.39261321, 0.89479247, 0.4432596 , 0.51632681, 0.50514973],\n",
       "        [0.20223333, 0.56227888, 0.32754833, 0.17094908, 0.27779657],\n",
       "        [0.41513367, 0.24639149, 0.49350582, 0.29286643, 0.21770437]]])"
      ]
     },
     "execution_count": 51,
     "metadata": {},
     "output_type": "execute_result"
    }
   ],
   "source": [
    "f = np.empty((2,3,5))\n",
    "f"
   ]
  },
  {
   "cell_type": "code",
   "execution_count": 47,
   "metadata": {},
   "outputs": [
    {
     "data": {
      "text/plain": [
       "array([[[ True,  True,  True,  True,  True],\n",
       "        [ True,  True,  True,  True,  True],\n",
       "        [ True,  True,  True,  True,  True]],\n",
       "\n",
       "       [[ True,  True,  True,  True,  True],\n",
       "        [ True,  True,  True,  True,  True],\n",
       "        [ True,  True,  True,  True,  True]]])"
      ]
     },
     "execution_count": 47,
     "metadata": {},
     "output_type": "execute_result"
    }
   ],
   "source": [
    "# your code here\n",
    "f = np.empty_like(d)\n",
    "f == a"
   ]
  },
  {
   "cell_type": "markdown",
   "metadata": {},
   "source": [
    "#### 16. Populate the values in *f*. \n",
    "\n",
    "For each value in *d*, if it's larger than *d_min* but smaller than *d_mean*, assign 25 to the corresponding value in *f*. If a value in *d* is larger than *d_mean* but smaller than *d_max*, assign 75 to the corresponding value in *f*. If a value equals to *d_mean*, assign 50 to the corresponding value in *f*. Assign 0 to the corresponding value(s) in *f* for *d_min* in *d*. Assign 100 to the corresponding value(s) in *f* for *d_max* in *d*. In the end, f should have only the following values: 0, 25, 50, 75, and 100.\n",
    "\n",
    "**Note**: you don't have to use Numpy in this question."
   ]
  },
  {
   "cell_type": "code",
   "execution_count": 64,
   "metadata": {},
   "outputs": [],
   "source": [
    "# your code here\n",
    "for x in range(2):\n",
    "\tfor y in range(3):\n",
    "\t\tfor z in range(5):\n",
    "\t\t\tif  d_mean > d[x][y][z] > d_min:\n",
    "\t\t\t\tf[x][y][z] = 25\n",
    "\t\t\telif d_mean < d[x][y][z] < d_max:\n",
    "\t\t\t\tf[x][y][z] = 75\n",
    "\t\t\telif d[x][y][z] == d_mean:\n",
    "\t\t\t\tf[x][y][z] = 50\n",
    "\t\t\telif d[x][y][z] == d_min:\n",
    "\t\t\t\tf[x][y][z] = 0\n",
    "\t\t\telif d[x][y][z] == d_max:\n",
    "\t\t\t\tf[x][y][z] = 100"
   ]
  },
  {
   "cell_type": "code",
   "execution_count": 60,
   "metadata": {},
   "outputs": [
    {
     "name": "stdout",
     "output_type": "stream",
     "text": [
      "1.156903962398805\n"
     ]
    }
   ],
   "source": [
    "# your code here\n",
    "#for ind in range(d.size): \n",
    "\t#print(d[ind])\n",
    "#for x in d:\n",
    "\t#for y in x:\n",
    "\t\t#for z in y:\n",
    "\t\t\t#print(z)\n",
    "print(d[0][0][0])"
   ]
  },
  {
   "cell_type": "markdown",
   "metadata": {},
   "source": [
    "#### 17. Print *d* and *f*. Do you have your expected *f*?\n",
    "For instance, if your *d* is:\n",
    "```python\n",
    "[[[1.85836099, 1.67064465, 1.62576044, 1.40243961, 1.88454931],\n",
    "[1.75354326, 1.69403643, 1.36729252, 1.61415071, 1.12104981],\n",
    "[1.72201435, 1.1862918 , 1.87078449, 1.7726778 , 1.88180042]],\n",
    "[[1.44747908, 1.31673383, 1.02000951, 1.52218947, 1.97066381],\n",
    "[1.79129243, 1.74983003, 1.96028037, 1.85166831, 1.65450881],\n",
    "[1.18068344, 1.9587381 , 1.00656599, 1.93402165, 1.73514584]]]\n",
    "```\n",
    "Your *f* should be:\n",
    "```python\n",
    "[[[ 75.,  75.,  75.,  25.,  75.],\n",
    "[ 75.,  75.,  25.,  25.,  25.],\n",
    "[ 75.,  25.,  75.,  75.,  75.]],\n",
    "[[ 25.,  25.,  25.,  25., 100.],\n",
    "[ 75.,  75.,  75.,  75.,  75.],\n",
    "[ 25.,  75.,   0.,  75.,  75.]]]\n",
    "```"
   ]
  },
  {
   "cell_type": "code",
   "execution_count": 65,
   "metadata": {},
   "outputs": [
    {
     "name": "stdout",
     "output_type": "stream",
     "text": [
      "[[[1.15690396 1.51480705 1.8497923  1.76437967 1.82955467]\n",
      "  [1.79928457 1.75860636 1.33869879 1.87605849 1.90440185]\n",
      "  [1.13186611 1.71810642 1.33740362 1.84115849 1.07550893]]\n",
      "\n",
      " [[1.39261321 1.89479247 1.4432596  1.51632681 1.50514973]\n",
      "  [1.20223333 1.56227888 1.32754833 1.17094908 1.27779657]\n",
      "  [1.41513367 1.24639149 1.49350582 1.29286643 1.21770437]]]\n",
      "[[[ 25.  75.  75.  75.  75.]\n",
      "  [ 75.  75.  25.  75. 100.]\n",
      "  [ 25.  75.  25.  75.   0.]]\n",
      "\n",
      " [[ 25.  75.  25.  75.  75.]\n",
      "  [ 25.  75.  25.  25.  25.]\n",
      "  [ 25.  25.  25.  25.  25.]]]\n"
     ]
    }
   ],
   "source": [
    "# your code here\n",
    "print(d)\n",
    "print(f)"
   ]
  },
  {
   "cell_type": "markdown",
   "metadata": {},
   "source": [
    "#### 18. Bonus question: instead of using numbers (i.e. 0, 25, 50, 75, and 100), use string values  (\"A\", \"B\", \"C\", \"D\", and \"E\") to label the array elements. For the example above, the expected result is:\n",
    "\n",
    "```python\n",
    "[[[ 'D',  'D',  'D',  'B',  'D'],\n",
    "[ 'D',  'D',  'B',  'B',  'B'],\n",
    "[ 'D',  'B',  'D',  'D',  'D']],\n",
    "[[ 'B',  'B',  'B',  'B',  'E'],\n",
    "[ 'D',  'D',  'D',  'D',  'D'],\n",
    "[ 'B',  'D',   'A',  'D', 'D']]]\n",
    "```\n",
    "**Note**: you don't have to use Numpy in this question."
   ]
  },
  {
   "cell_type": "code",
   "execution_count": 75,
   "metadata": {},
   "outputs": [
    {
     "name": "stdout",
     "output_type": "stream",
     "text": [
      "[[['B' 'D' 'D' 'D' 'D']\n",
      "  ['D' 'D' 'B' 'D' 'E']\n",
      "  ['B' 'D' 'B' 'D' 'A']]\n",
      "\n",
      " [['B' 'D' 'B' 'D' 'D']\n",
      "  ['B' 'D' 'B' 'B' 'B']\n",
      "  ['B' 'B' 'B' 'B' 'B']]]\n",
      "[[[1.15690396 1.51480705 1.8497923  1.76437967 1.82955467]\n",
      "  [1.79928457 1.75860636 1.33869879 1.87605849 1.90440185]\n",
      "  [1.13186611 1.71810642 1.33740362 1.84115849 1.07550893]]\n",
      "\n",
      " [[1.39261321 1.89479247 1.4432596  1.51632681 1.50514973]\n",
      "  [1.20223333 1.56227888 1.32754833 1.17094908 1.27779657]\n",
      "  [1.41513367 1.24639149 1.49350582 1.29286643 1.21770437]]]\n"
     ]
    }
   ],
   "source": [
    "g = []\n",
    "\n",
    "for elem in np.nditer(d):\n",
    "\tif d_mean > elem > d_min:\n",
    "\t\tg += 'B'\n",
    "\telif d_mean < elem < d_max:\n",
    "\t\tg += 'D'\n",
    "\telif elem == d_mean:\n",
    "\t\tg += 'C'\n",
    "\telif elem == d_min:\n",
    "\t\tg += 'A'\n",
    "\telse:\n",
    "\t\tg += 'E'\n",
    "\n",
    "g = np.reshape(g,(2,3,5))\n",
    "print(g)\n",
    "print(d)"
   ]
  },
  {
   "cell_type": "markdown",
   "metadata": {},
   "source": [
    "### Insert dashes\n"
   ]
  },
  {
   "cell_type": "code",
   "execution_count": 17,
   "metadata": {},
   "outputs": [],
   "source": [
    "def insert_dash(num):\n",
    "    '''This function will insert dash into the number between every two odd numbers which are close to each other\n",
    "\tinput = number\n",
    "\toutput = string with dashes between to consequent odd digits '''\n",
    "    st_num = str(num)\n",
    "    output = ''\n",
    "    for ind in range(len(st_num)-1):\n",
    "        if int(st_num[ind])%2 !=0 and int(st_num[ind+1])%2 !=0:\n",
    "            output += st_num[ind] + '-'\n",
    "        else: \n",
    "            output = output + st_num[ind]\n",
    "    return output + st_num[-1]"
   ]
  },
  {
   "cell_type": "code",
   "execution_count": 18,
   "metadata": {},
   "outputs": [
    {
     "data": {
      "text/plain": [
       "'123-567'"
      ]
     },
     "execution_count": 18,
     "metadata": {},
     "output_type": "execute_result"
    }
   ],
   "source": [
    "insert_dash(123567)"
   ]
  },
  {
   "cell_type": "markdown",
   "metadata": {},
   "source": [
    "### Thinkful - Logic Drills: Red and bumpy\n",
    "\n",
    "You're playing a game with a friend involving a bag of marbles. In the bag are ten marbles:\n",
    "\n",
    "- 1 smooth red marble\n",
    "- 4 bumpy red marbles\n",
    "- 2 bumpy yellow marbles\n",
    "- 1 smooth yellow marble\n",
    "- 1 bumpy green marble\n",
    "- 1 smooth green marble\n",
    " \n",
    "You can see that the probability of picking a smooth red marble from the bag is 1 / 10 or 0.10 and the probability of picking a bumpy yellow marble is 2 / 10 or 0.20.\n",
    "\n",
    "The game works like this: your friend puts her hand in the bag, chooses a marble (without looking at it) and tells you whether it's bumpy or smooth. Then you have to guess which color it is before she pulls it out and reveals whether you're correct or not.\n",
    "\n",
    "You know that the information about whether the marble is bumpy or smooth changes the probability of what color it is, and you want some help with your guesses.\n",
    "\n",
    "Write a function color_probability() that takes two arguments: a color ('red', 'yellow', or 'green') and a texture ('bumpy' or 'smooth') and returns the probability as a decimal fraction accurate to two places.\n",
    "\n",
    "The probability should be a string and should discard any digits after the 100ths place. For example, 2 / 3 or 0.6666666666666666 would become the string '0.66'. Note this is different from rounding.\n",
    "\n",
    "As a complete example, color_probability('red', 'bumpy') should return the string '0.57'."
   ]
  },
  {
   "cell_type": "code",
   "execution_count": 17,
   "metadata": {},
   "outputs": [],
   "source": [
    "def color_probablity(color,texture):\n",
    "\t'''input: color, texture\n",
    "\toutput: probabolity of selecting a marbel with that color and texture '''\n",
    "\t#I create 2 dimensional array in which first row is smooth texture, second row is bumpy texture, first column is color red, second column is color yellow and third column is color green\n",
    "\tmarbles = np.array([[1,1,1],[4,2,1]])\n",
    "\tif texture == 'bumpy' and color == 'red':\n",
    "\t\tprob_rb = marbles[1][0]/np.sum(marbles[1])\n",
    "\t\treturn '{0:.2g}'.format(prob_rb)\n",
    "\telif texture == 'bumpy' and color == 'yellow':\n",
    "\t\tprob_yb = marbles[1][1]/np.sum(marbles[1])\n",
    "\t\treturn '{0:.2g}'.format(prob_yb)\n",
    "\telif texture == 'bumpy' and color == 'green':\n",
    "\t\tprob_gb = marbles[1][2]/np.sum(marbles[1])\n",
    "\t\treturn '{0:.2g}'.format(prob_gb)\n",
    "\telif texture == 'smooth' and color == 'red':\n",
    "\t\tprob_rs = marbles[0][0]/np.sum(marbles[0])\n",
    "\t\treturn '{0:.2g}'.format(prob_rs)\n",
    "\telif texture == 'smooth' and color == 'yellow':\n",
    "\t\tprob_ys = marbles[0][1]/np.sum(marbles[0])\n",
    "\t\treturn '{0:.2g}'.format(prob_ys)\n",
    "\telse:\n",
    "\t\tprob_gs = marbles[0][2]/np.sum(marbles[0])\n",
    "\t\treturn '{0:.2g}'.format(prob_gs)\n"
   ]
  },
  {
   "cell_type": "code",
   "execution_count": 4,
   "metadata": {},
   "outputs": [
    {
     "data": {
      "text/plain": [
       "array([[1, 1, 1],\n",
       "       [4, 2, 1]])"
      ]
     },
     "execution_count": 4,
     "metadata": {},
     "output_type": "execute_result"
    }
   ],
   "source": [
    "marbles = np.array([[1,1,1],[4,2,1]])\n",
    "marbles"
   ]
  },
  {
   "cell_type": "code",
   "execution_count": 14,
   "metadata": {},
   "outputs": [
    {
     "data": {
      "text/plain": [
       "1"
      ]
     },
     "execution_count": 14,
     "metadata": {},
     "output_type": "execute_result"
    }
   ],
   "source": [
    "marbles[1][2]"
   ]
  },
  {
   "cell_type": "code",
   "execution_count": 12,
   "metadata": {},
   "outputs": [
    {
     "data": {
      "text/plain": [
       "7"
      ]
     },
     "execution_count": 12,
     "metadata": {},
     "output_type": "execute_result"
    }
   ],
   "source": [
    "np.sum(marbles[1])"
   ]
  },
  {
   "cell_type": "code",
   "execution_count": 18,
   "metadata": {},
   "outputs": [
    {
     "data": {
      "text/plain": [
       "'0.57'"
      ]
     },
     "execution_count": 18,
     "metadata": {},
     "output_type": "execute_result"
    }
   ],
   "source": [
    "color_probablity('red','bumpy')"
   ]
  },
  {
   "cell_type": "code",
   "execution_count": null,
   "metadata": {},
   "outputs": [],
   "source": []
  }
 ],
 "metadata": {
  "kernelspec": {
   "display_name": "Python 3",
   "language": "python",
   "name": "python3"
  },
  "language_info": {
   "codemirror_mode": {
    "name": "ipython",
    "version": 3
   },
   "file_extension": ".py",
   "mimetype": "text/x-python",
   "name": "python",
   "nbconvert_exporter": "python",
   "pygments_lexer": "ipython3",
   "version": "3.8.12"
  }
 },
 "nbformat": 4,
 "nbformat_minor": 2
}
