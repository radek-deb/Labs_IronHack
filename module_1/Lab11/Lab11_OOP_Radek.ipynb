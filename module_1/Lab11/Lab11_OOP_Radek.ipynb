{
 "cells": [
  {
   "cell_type": "markdown",
   "id": "8e3423a6",
   "metadata": {},
   "source": [
    "### Problem 1\n",
    "#### Remove All The Marked Elements of a List\n",
    "Define a method/function that removes from a given array of integers all the values contained in a second array."
   ]
  },
  {
   "cell_type": "markdown",
   "id": "45ed09f4",
   "metadata": {},
   "source": [
    "l = List()\n",
    "\n",
    "integer_list =  [1, 1, 2 ,3 ,1 ,2 ,3 ,4]\n",
    "values_list = [1, 3]\n",
    "l.remove_(integer_list, values_list) == [2, 2, 4]"
   ]
  },
  {
   "cell_type": "code",
   "execution_count": 4,
   "id": "71c1aaed",
   "metadata": {},
   "outputs": [],
   "source": [
    "def lst_remove(integers,valuesr):\n",
    "    result = []\n",
    "    for num in integers:\n",
    "        if num  not in valuesr:\n",
    "            result.append(num)\n",
    "        else:\n",
    "            continue\n",
    "    return result"
   ]
  },
  {
   "cell_type": "code",
   "execution_count": 5,
   "id": "fb7fc32d",
   "metadata": {},
   "outputs": [
    {
     "data": {
      "text/plain": [
       "[2, 2, 4]"
      ]
     },
     "execution_count": 5,
     "metadata": {},
     "output_type": "execute_result"
    }
   ],
   "source": [
    "integers = [1, 1, 2 ,3 ,1 ,2 ,3 ,4]\n",
    "values = [1, 3]\n",
    "lst_remove(integers,values)"
   ]
  },
  {
   "cell_type": "code",
   "execution_count": 6,
   "id": "83ebffaa",
   "metadata": {},
   "outputs": [
    {
     "data": {
      "text/plain": [
       "[5, 6, 7, 8]"
      ]
     },
     "execution_count": 6,
     "metadata": {},
     "output_type": "execute_result"
    }
   ],
   "source": [
    "integers = [1, 1, 2 ,3 ,1 ,2 ,3 ,4, 4, 3 ,5, 6, 7, 2, 8]\n",
    "values = [1, 3, 4, 2]\n",
    "lst_remove(integers,values)"
   ]
  },
  {
   "cell_type": "code",
   "execution_count": 8,
   "id": "7f3d759d",
   "metadata": {},
   "outputs": [
    {
     "data": {
      "text/plain": [
       "[8, 7, 6, 5, 1]"
      ]
     },
     "execution_count": 8,
     "metadata": {},
     "output_type": "execute_result"
    }
   ],
   "source": [
    "integers = [8, 2, 7, 2, 3, 4, 6, 5, 4, 4, 1, 2 , 3]\n",
    "values = [2, 4, 3]\n",
    "lst_remove(integers,values)"
   ]
  },
  {
   "cell_type": "markdown",
   "id": "b28b91da",
   "metadata": {},
   "source": [
    "#### Problem 2 was the same as the last kata in lab 10\n",
    "\n",
    "I copied the solution below"
   ]
  },
  {
   "cell_type": "code",
   "execution_count": 9,
   "id": "7a878f43",
   "metadata": {},
   "outputs": [],
   "source": [
    "def count_spec_digits(integers,digits):\n",
    "    #First, I create empty list from which at the end I will form a tuple pairs, and a list to store these tuples\n",
    "    digit_counted = []\n",
    "    results = []\n",
    "    \n",
    "    #Secondly, I convert integers list into a string\n",
    "    integers_str =''.join([str(item) for item in integers])\n",
    "    \n",
    "    #Third, for every digit in digits I count how many times this digit apears in the string formed from integers list\n",
    "    #and I add it to the digit counted list \n",
    "    for dig in digits:\n",
    "        digit_counted.append(integers_str.count(str(dig)))\n",
    "    \n",
    "    #In the last step I form a list of tuple pairs called results\n",
    "    for ind in range(len(digits)):\n",
    "        results.append((digits[ind],digit_counted[ind]))\n",
    "    return results"
   ]
  },
  {
   "cell_type": "code",
   "execution_count": 10,
   "id": "261815c6",
   "metadata": {},
   "outputs": [
    {
     "data": {
      "text/plain": [
       "[(1, 3), (3, 2)]"
      ]
     },
     "execution_count": 10,
     "metadata": {},
     "output_type": "execute_result"
    }
   ],
   "source": [
    "count_spec_digits( [1, 1, 2 ,3 ,1 ,2 ,3 ,4] , [1, 3])"
   ]
  },
  {
   "cell_type": "code",
   "execution_count": 11,
   "id": "eb70b3c7",
   "metadata": {},
   "outputs": [
    {
     "data": {
      "text/plain": [
       "[(1, 7), (8, 5), (4, 0)]"
      ]
     },
     "execution_count": 11,
     "metadata": {},
     "output_type": "execute_result"
    }
   ],
   "source": [
    "integs = [-18, -31, 81, -19, 111, -888]\n",
    "digits = [1, 8, 4]\n",
    "\n",
    "count_spec_digits(integs,digits)"
   ]
  },
  {
   "cell_type": "code",
   "execution_count": 12,
   "id": "cdf2bcd0",
   "metadata": {},
   "outputs": [
    {
     "data": {
      "text/plain": [
       "[(1, 0), (8, 0), (4, 0)]"
      ]
     },
     "execution_count": 12,
     "metadata": {},
     "output_type": "execute_result"
    }
   ],
   "source": [
    "integs = [-77, -65, 56, -79, 6666, 222]\n",
    "digits = [1, 8, 4]\n",
    "\n",
    "count_spec_digits(integs,digits)"
   ]
  },
  {
   "cell_type": "markdown",
   "id": "805e1edc",
   "metadata": {},
   "source": [
    "### Problem 3\n",
    "#### Ordered Count of Characters\n",
    "Count the number of occurrences of each character and return it as a list of tuples in order of appearance. For empty output return an empty list.\n",
    "\n",
    "Example:\n",
    "\n",
    "orderedCount(\"abracadabra\") == [['a', 5], ['b', 2], ['r', 2], ['c', 1], ['d', 1]]"
   ]
  },
  {
   "cell_type": "code",
   "execution_count": 17,
   "id": "accc6c42",
   "metadata": {},
   "outputs": [],
   "source": [
    "def ordered_count(inp):\n",
    "    #First, I create a list from a given string with unique items that will be ordered\n",
    "    inp_ord = []\n",
    "    for char in inp:\n",
    "        if char not in inp_ord:\n",
    "            inp_ord.append(char)\n",
    "    \n",
    "    #I create a dictionary to count the occurence of each character in an input\n",
    "    count = {}\n",
    "    for char in inp_ord:\n",
    "        count[char]=inp.count(char)\n",
    "    keys_count = list(count.keys())\n",
    "    \n",
    "    #I pack tuples into a list from the dictionary \n",
    "    result = []\n",
    "    for key in keys_count:\n",
    "        result.append((key,count[key]))\n",
    "    return result"
   ]
  },
  {
   "cell_type": "code",
   "execution_count": 18,
   "id": "02daae19",
   "metadata": {},
   "outputs": [
    {
     "data": {
      "text/plain": [
       "[('a', 5), ('b', 2), ('r', 2), ('c', 1), ('d', 1)]"
      ]
     },
     "execution_count": 18,
     "metadata": {},
     "output_type": "execute_result"
    }
   ],
   "source": [
    "ordered_count('abracadabra')"
   ]
  },
  {
   "cell_type": "code",
   "execution_count": null,
   "id": "21a3474a",
   "metadata": {},
   "outputs": [],
   "source": []
  }
 ],
 "metadata": {
  "kernelspec": {
   "display_name": "Python 3",
   "language": "python",
   "name": "python3"
  },
  "language_info": {
   "codemirror_mode": {
    "name": "ipython",
    "version": 3
   },
   "file_extension": ".py",
   "mimetype": "text/x-python",
   "name": "python",
   "nbconvert_exporter": "python",
   "pygments_lexer": "ipython3",
   "version": "3.8.8"
  }
 },
 "nbformat": 4,
 "nbformat_minor": 5
}
