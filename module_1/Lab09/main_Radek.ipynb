{
 "cells": [
  {
   "cell_type": "markdown",
   "metadata": {},
   "source": [
    "# Loops\n",
    "\n",
    "Complete the following set of exercises to solidify your knowledge for Loops."
   ]
  },
  {
   "cell_type": "markdown",
   "metadata": {},
   "source": [
    "#### 1. Print first 10 natural numbers using while loop"
   ]
  },
  {
   "cell_type": "code",
   "execution_count": 1,
   "metadata": {},
   "outputs": [
    {
     "name": "stdout",
     "output_type": "stream",
     "text": [
      "1\n",
      "2\n",
      "3\n",
      "4\n",
      "5\n",
      "6\n",
      "7\n",
      "8\n",
      "9\n",
      "10\n"
     ]
    }
   ],
   "source": [
    "i = 1\n",
    "while i <=10:\n",
    "    print(i)\n",
    "    i += 1"
   ]
  },
  {
   "cell_type": "markdown",
   "metadata": {},
   "source": [
    "#### 2. Display numbers from a list using loop\n",
    "Write a program to display only those numbers from a list that satisfy the following conditions\n",
    "\n",
    "The number must be divisible by five\n",
    "\n",
    "If the number is greater than 150, then skip it and move to the next number\n",
    "\n",
    "If the number is greater than 500, then stop the loop\n",
    "\n",
    "numbers = [12, 75, 150, 180, 145, 525, 50]"
   ]
  },
  {
   "cell_type": "code",
   "execution_count": 3,
   "metadata": {},
   "outputs": [
    {
     "name": "stdout",
     "output_type": "stream",
     "text": [
      "75\n",
      "150\n",
      "145\n"
     ]
    }
   ],
   "source": [
    "numbers = [12, 75, 150, 180, 145, 525, 50]\n",
    "\n",
    "for index in range(len(numbers)):\n",
    "    if numbers[index] > 500:\n",
    "        break\n",
    "    elif numbers[index] >150:\n",
    "        continue\n",
    "    elif numbers[index]%5==0:\n",
    "        print(numbers[index])\n",
    "    else:\n",
    "        continue\n",
    "            "
   ]
  },
  {
   "cell_type": "markdown",
   "metadata": {},
   "source": [
    "#### 3.Write a Python program to check the validity of a password (input from users).\n",
    "\n",
    "Validation :\n",
    "\n",
    "At least 1 letter between [a-z] and 1 letter between [A-Z].\n",
    "\n",
    "At least 1 number between [0-9].\n",
    "\n",
    "At least 1 character from [$#@].\n",
    "\n",
    "Minimum length 6 characters.\n",
    "\n",
    "Maximum length 16 characters."
   ]
  },
  {
   "cell_type": "code",
   "execution_count": 15,
   "metadata": {},
   "outputs": [
    {
     "name": "stdout",
     "output_type": "stream",
     "text": [
      "Please enter your password.\n",
      " Your password should consist of:\n",
      "-at least 1 lower case letter,\n",
      "-atleast 1 upper case letter,\n",
      "-at least 1 numbe,r\n",
      "-at lest one special character from $, # or @,\n",
      "-your password should have lenght between 6 and 16 characters.\n",
      "\n",
      "Please enter your password:a\n",
      "\n",
      "\n",
      "You met only 1 out of 5 requirements\n",
      "Your possword doesn't match the conditions.\n",
      "Try again\n",
      "\n",
      "\n",
      "\n",
      "Please enter your password.\n",
      " Your password should consist of:\n",
      "-at least 1 lower case letter,\n",
      "-atleast 1 upper case letter,\n",
      "-at least 1 numbe,r\n",
      "-at lest one special character from $, # or @,\n",
      "-your password should have lenght between 6 and 16 characters.\n",
      "\n",
      "Please enter your password:aaaA3@\n",
      "Your password macht the conditions. Congrats!\n"
     ]
    }
   ],
   "source": [
    "import re\n",
    "counter = 0\n",
    "\n",
    "password_ok = False\n",
    "\n",
    "while password_ok == False:\n",
    "    #I ask user for the password\n",
    "    password = input(\"Please enter your password.\\n Your password should consist of:\\n-at least 1 lower case letter,\\n-atleast 1 upper case letter,\\n-at least 1 numbe,r\\n-at lest one special character from $, # or @,\\n-your password should have lenght between 6 and 16 characters.\\n\\nPlease enter your password:\")\n",
    "    \n",
    "    \n",
    "    #First I check the lenght of the password\n",
    "    if len(password) in range(6,17):\n",
    "        counter +=1\n",
    "    #Second, I check the presence of a lowercase letter\n",
    "    if re.search(r'[a-z]+',password) != None:\n",
    "        counter +=1\n",
    "    #Third, I check the presence of a uppercase letter\n",
    "    if re.search(r'[A-Z]+',password) != None:\n",
    "        counter +=1\n",
    "    #Four, I check the presence of a number \n",
    "    if re.search(r'[0-9]+',password) != None:\n",
    "        counter +=1\n",
    "    #Five, I check the presence of a special character\n",
    "    if '#' in password or '@' in password or '$' in password:\n",
    "        counter += 1\n",
    "    #Now I check if all of the conditions are met\n",
    "    if counter == 5:\n",
    "        password_ok = True\n",
    "        print(\"Your password is valid. Congrats!\")\n",
    "    else: \n",
    "        print(f'\\n\\nYou met only {counter} out of 5 requirements')\n",
    "        counter = 0\n",
    "        print(\"Your possword doesn't match the conditions.\\nTry again\\n\\n\\n\")"
   ]
  },
  {
   "cell_type": "markdown",
   "metadata": {},
   "source": [
    "#### 4. Break the loop when x is 6, and see what happens with the else block"
   ]
  },
  {
   "cell_type": "code",
   "execution_count": 16,
   "metadata": {},
   "outputs": [
    {
     "name": "stdout",
     "output_type": "stream",
     "text": [
      "1\n",
      "2\n",
      "3\n",
      "4\n",
      "5\n"
     ]
    }
   ],
   "source": [
    "i = 1\n",
    "\n",
    "while i < 10:\n",
    "    print(i)\n",
    "    i += 1\n",
    "    if i == 6:\n",
    "        break"
   ]
  },
  {
   "cell_type": "markdown",
   "metadata": {},
   "source": [
    "#### 5. Write a Python program to calculate the sum and average of n integer numbers (input from the user). Input 0 to finish.\n"
   ]
  },
  {
   "cell_type": "code",
   "execution_count": 26,
   "metadata": {},
   "outputs": [
    {
     "name": "stdout",
     "output_type": "stream",
     "text": [
      "Add as may numbers as you want in order to calculate thier sum and average.\n",
      "In order to finish adding numbers enter 0.\n",
      "Enter a number: 1\n",
      "Enter a number: 2\n",
      "Enter a number: 4\n",
      "Enter a number: 1\n",
      "Enter a number: 0\n",
      "You enered this set of numbers: [1, 2, 4, 1]\n",
      "Their sum is equal to: 8\n",
      "Their average is equal to: 2.0\n"
     ]
    }
   ],
   "source": [
    "print(\"Add as may numbers as you want in order to calculate thier sum and average.\\nIn order to finish adding numbers enter 0.\")\n",
    "numbers = []\n",
    "num =1\n",
    "while num != 0:\n",
    "    num = int(input(\"Enter a number: \"))\n",
    "    numbers.append(num)\n",
    "numbers.pop(-1)\n",
    "#Sum calculation\n",
    "sum = 0\n",
    "for num in numbers:\n",
    "    sum = sum + num\n",
    "\n",
    "#Average calculation\n",
    "average = sum/(len(numbers))\n",
    "print(f\"You enered this set of numbers: {numbers}\")\n",
    "print(f\"Their sum is equal to: {sum}\")\n",
    "print(f\"Their average is equal to: {average}\")"
   ]
  },
  {
   "cell_type": "code",
   "execution_count": null,
   "metadata": {},
   "outputs": [],
   "source": []
  },
  {
   "cell_type": "code",
   "execution_count": null,
   "metadata": {},
   "outputs": [],
   "source": []
  }
 ],
 "metadata": {
  "kernelspec": {
   "display_name": "Python 3",
   "language": "python",
   "name": "python3"
  },
  "language_info": {
   "codemirror_mode": {
    "name": "ipython",
    "version": 3
   },
   "file_extension": ".py",
   "mimetype": "text/x-python",
   "name": "python",
   "nbconvert_exporter": "python",
   "pygments_lexer": "ipython3",
   "version": "3.8.8"
  }
 },
 "nbformat": 4,
 "nbformat_minor": 2
}
